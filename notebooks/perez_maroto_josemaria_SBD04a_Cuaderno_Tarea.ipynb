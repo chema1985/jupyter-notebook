{
 "cells": [
  {
   "cell_type": "markdown",
   "id": "634db055-e4d9-4402-9cf9-e9dcf23246c9",
   "metadata": {},
   "source": [
    "### Primeros pasos:\n",
    "Importamos pandas y creamos los arrays iniciales"
   ]
  },
  {
   "cell_type": "code",
   "execution_count": 1,
   "id": "7e2fe3f7-9dfa-4bef-b162-c15ddd9e48ea",
   "metadata": {},
   "outputs": [],
   "source": [
    "import pandas as pd\n",
    "\n",
    "indice = ['uno','dos','tres','cuatro','cinco']\n",
    "columnas = ['Raza','Puntos']\n",
    "lista = [['Caniche',8.1],['Bulldog',7.3],['ChowChow',7.6],['Chihuahua',9.0],['Labrador',9.3]]"
   ]
  },
  {
   "cell_type": "markdown",
   "id": "14a7fb20-e1e0-48fb-97b8-4db07a7bda18",
   "metadata": {},
   "source": [
    "### Apartado 1: \n",
    "Crea un DataFrame llamado df a partir de la lista de razas y puntuaciones otorgadas por Enrique, usando el índice, las columnas que se te proporcionan."
   ]
  },
  {
   "cell_type": "code",
   "execution_count": 2,
   "id": "8a45bbe6-f45c-4a48-9086-36b9c5bd1e38",
   "metadata": {},
   "outputs": [
    {
     "name": "stdout",
     "output_type": "stream",
     "text": [
      "----------------------------\n",
      "--- Apartado 1            --\n",
      "----------------------------\n",
      "             Raza  Puntos\n",
      "uno       Caniche     8.1\n",
      "dos       Bulldog     7.3\n",
      "tres     ChowChow     7.6\n",
      "cuatro  Chihuahua     9.0\n",
      "cinco    Labrador     9.3\n"
     ]
    }
   ],
   "source": [
    "print('----------------------------')\n",
    "print('--- Apartado 1            --')\n",
    "print('----------------------------')\n",
    "df = pd.DataFrame(lista, columns=columnas, index=indice)\n",
    "print(df)"
   ]
  },
  {
   "cell_type": "markdown",
   "id": "665f3365-4879-47e2-be25-6e407e697501",
   "metadata": {},
   "source": [
    "### Apartado 2: \n",
    "Ana le entrega sus puntuaciones a Enrique y éste las transcribe en forma de la siguiente lista:  \n",
    "puntos_ana = [61,75,82,95,99]  \n",
    "Añade la columna con etiqueta 'PuntosAna' al DataFrame."
   ]
  },
  {
   "cell_type": "code",
   "execution_count": 3,
   "id": "0667f08a-bc57-4627-a2d5-3ec0a2cc051f",
   "metadata": {},
   "outputs": [
    {
     "name": "stdout",
     "output_type": "stream",
     "text": [
      "----------------------------\n",
      "--- Apartado 2            --\n",
      "----------------------------\n",
      "             Raza  Puntos  PuntosAna\n",
      "uno       Caniche     8.1         61\n",
      "dos       Bulldog     7.3         75\n",
      "tres     ChowChow     7.6         82\n",
      "cuatro  Chihuahua     9.0         95\n",
      "cinco    Labrador     9.3         99\n"
     ]
    }
   ],
   "source": [
    "puntos_ana = [61,75,82,95,99]\n",
    "df['PuntosAna'] = puntos_ana\n",
    "print('----------------------------')\n",
    "print('--- Apartado 2            --')\n",
    "print('----------------------------')\n",
    "print(df)"
   ]
  },
  {
   "cell_type": "markdown",
   "id": "1123951d-39c1-45f6-86e3-f72723264454",
   "metadata": {},
   "source": [
    "### Apartado 3: \n",
    "Como las puntuaciones de Ana han entrado en valores de 0 a 100 y las de Enrique estaban de 0 a 10, divide la columna 'PuntosAna' entre 10 de modo que todas las puntuaciones queden en la misma escala."
   ]
  },
  {
   "cell_type": "code",
   "execution_count": 4,
   "id": "734cc54f-c901-45e8-9976-82a77177e8db",
   "metadata": {},
   "outputs": [
    {
     "name": "stdout",
     "output_type": "stream",
     "text": [
      "----------------------------\n",
      "--- Apartado 3            --\n",
      "----------------------------\n",
      "             Raza  Puntos  PuntosAna\n",
      "uno       Caniche     8.1        6.1\n",
      "dos       Bulldog     7.3        7.5\n",
      "tres     ChowChow     7.6        8.2\n",
      "cuatro  Chihuahua     9.0        9.5\n",
      "cinco    Labrador     9.3        9.9\n"
     ]
    }
   ],
   "source": [
    "df['PuntosAna'] = df['PuntosAna']/10\n",
    "print('----------------------------')\n",
    "print('--- Apartado 3            --')\n",
    "print('----------------------------')\n",
    "print(df)"
   ]
  },
  {
   "cell_type": "markdown",
   "id": "0d0ed31f-3ff3-4180-b26f-ab72100fa65f",
   "metadata": {},
   "source": [
    "### Apartado 4: \n",
    "Enrique y Ana han estado viendo una revista de animales y han decidido añadir otras dos razas más, por lo que han creado la siguiente lista ya con sus puntuaciones integradas.\n",
    "lista2 = [['Samoyedo',9.2,8.9],['Pinscher',8.1,6.7]]\n",
    "Añade esas dos nuevas filas al DataFrame. Fíjate en que se han quedado sin ideas para los índices y han decidido usar 'nuevo1' y 'nuevo2' para las nuevas filas."
   ]
  },
  {
   "cell_type": "code",
   "execution_count": 5,
   "id": "539a68fc-b03a-4234-8508-c3b2c84e1852",
   "metadata": {},
   "outputs": [
    {
     "name": "stdout",
     "output_type": "stream",
     "text": [
      "----------------------------\n",
      "--- Apartado 4            --\n",
      "----------------------------\n",
      "             Raza  Puntos  PuntosAna\n",
      "uno       Caniche     8.1        6.1\n",
      "dos       Bulldog     7.3        7.5\n",
      "tres     ChowChow     7.6        8.2\n",
      "cuatro  Chihuahua     9.0        9.5\n",
      "cinco    Labrador     9.3        9.9\n",
      "nuevo1   Samoyedo     9.2        8.9\n",
      "nuevo2   Pinscher     8.1        6.7\n"
     ]
    }
   ],
   "source": [
    "columnas.append('PuntosAna')\n",
    "lista2 = [['Samoyedo',9.2,8.9],['Pinscher',8.1,6.7]]\n",
    "df2 = pd.DataFrame(lista2, columns=columnas, index=['nuevo1', 'nuevo2'])\n",
    "# Para evitar el error de append obsoleto uso concat\n",
    "df = pd.concat([df, df2])\n",
    "print('----------------------------')\n",
    "print('--- Apartado 4            --')\n",
    "print('----------------------------')\n",
    "print(df)"
   ]
  },
  {
   "cell_type": "markdown",
   "id": "481ba9fb-08a5-4768-8102-9e00de0dacce",
   "metadata": {},
   "source": [
    "### Apartado 5: \n",
    "Crea la columna 'Media' para poder ver la puntuación media para cada raza."
   ]
  },
  {
   "cell_type": "code",
   "execution_count": 6,
   "id": "46610281-4465-410d-ad73-ba5cf9f37d8d",
   "metadata": {},
   "outputs": [
    {
     "name": "stdout",
     "output_type": "stream",
     "text": [
      "----------------------------\n",
      "--- Apartado 5            --\n",
      "----------------------------\n",
      "             Raza  Puntos  PuntosAna  Media\n",
      "uno       Caniche     8.1        6.1   7.10\n",
      "dos       Bulldog     7.3        7.5   7.40\n",
      "tres     ChowChow     7.6        8.2   7.90\n",
      "cuatro  Chihuahua     9.0        9.5   9.25\n",
      "cinco    Labrador     9.3        9.9   9.60\n",
      "nuevo1   Samoyedo     9.2        8.9   9.05\n",
      "nuevo2   Pinscher     8.1        6.7   7.40\n"
     ]
    }
   ],
   "source": [
    "columnas.append('Media')\n",
    "df['Media'] = df[['Puntos', 'PuntosAna']].mean(axis=1)\n",
    "print('----------------------------')\n",
    "print('--- Apartado 5            --')\n",
    "print('----------------------------')\n",
    "print(df)"
   ]
  },
  {
   "cell_type": "markdown",
   "id": "69c9d0dc-c8ec-40a5-889a-8956dbc90731",
   "metadata": {},
   "source": [
    "## Apartado 6: \n",
    "Enrique y Ana deciden que no tendrán un bulldog. Elimina la fila cuyo índice es 'dos'."
   ]
  },
  {
   "cell_type": "code",
   "execution_count": 7,
   "id": "3824ccd2-7015-4a43-b912-af5bc827cf66",
   "metadata": {},
   "outputs": [
    {
     "name": "stdout",
     "output_type": "stream",
     "text": [
      "----------------------------\n",
      "--- Apartado 6            --\n",
      "----------------------------\n",
      "             Raza  Puntos  PuntosAna  Media\n",
      "uno       Caniche     8.1        6.1   7.10\n",
      "tres     ChowChow     7.6        8.2   7.90\n",
      "cuatro  Chihuahua     9.0        9.5   9.25\n",
      "cinco    Labrador     9.3        9.9   9.60\n",
      "nuevo1   Samoyedo     9.2        8.9   9.05\n",
      "nuevo2   Pinscher     8.1        6.7   7.40\n"
     ]
    }
   ],
   "source": [
    "df = df.drop('dos')\n",
    "print('----------------------------')\n",
    "print('--- Apartado 6            --')\n",
    "print('----------------------------')\n",
    "print(df)"
   ]
  },
  {
   "cell_type": "markdown",
   "id": "89db7f1c-fe63-4bf7-b689-b7f5543bf43f",
   "metadata": {},
   "source": [
    "### Apartado 7: \n",
    "Viendo las puntuaciones medias, Enrique y Ana deciden que la decisión va a estar entre chihuahua, labrador y samoyedo, por lo que deciden obtener sólo esas filas del DataFrame (en concreto desde la posición 2 hasta la 5 -no incluída-)."
   ]
  },
  {
   "cell_type": "code",
   "execution_count": 8,
   "id": "fc6473d0-0826-4c96-a70b-18fb5180297f",
   "metadata": {},
   "outputs": [
    {
     "name": "stdout",
     "output_type": "stream",
     "text": [
      "----------------------------\n",
      "--- Apartado 7            --\n",
      "----------------------------\n",
      "             Raza  Puntos  PuntosAna  Media\n",
      "cuatro  Chihuahua     9.0        9.5   9.25\n",
      "cinco    Labrador     9.3        9.9   9.60\n",
      "nuevo1   Samoyedo     9.2        8.9   9.05\n"
     ]
    }
   ],
   "source": [
    "print('----------------------------')\n",
    "print('--- Apartado 7            --')\n",
    "print('----------------------------')\n",
    "print(df[2:5])"
   ]
  },
  {
   "cell_type": "markdown",
   "id": "bbc3a0ad-16c5-4e56-9959-3a3e90f69947",
   "metadata": {},
   "source": [
    "### Apartado 8: \n",
    "Por último, sólo por curiosidad, deciden ver información estadística sobre las filas que les han quedado."
   ]
  },
  {
   "cell_type": "code",
   "execution_count": 9,
   "id": "07f75d93-36f2-4d02-9e9c-9b66385d9971",
   "metadata": {},
   "outputs": [
    {
     "name": "stdout",
     "output_type": "stream",
     "text": [
      "----------------------------\n",
      "--- Apartado 8            --\n",
      "----------------------------\n",
      "         Puntos  PuntosAna     Media\n",
      "count  3.000000   3.000000  3.000000\n",
      "mean   9.166667   9.433333  9.300000\n",
      "std    0.152753   0.503322  0.278388\n",
      "min    9.000000   8.900000  9.050000\n",
      "25%    9.100000   9.200000  9.150000\n",
      "50%    9.200000   9.500000  9.250000\n",
      "75%    9.250000   9.700000  9.425000\n",
      "max    9.300000   9.900000  9.600000\n"
     ]
    }
   ],
   "source": [
    "print('----------------------------')\n",
    "print('--- Apartado 8            --')\n",
    "print('----------------------------')\n",
    "df = df[2:5]\n",
    "print(df[['Puntos', 'PuntosAna', 'Media']].describe())"
   ]
  },
  {
   "cell_type": "code",
   "execution_count": null,
   "id": "eef6e47e-7402-4569-8ff7-abc032407ba0",
   "metadata": {},
   "outputs": [],
   "source": []
  }
 ],
 "metadata": {
  "kernelspec": {
   "display_name": "Python 3 (ipykernel)",
   "language": "python",
   "name": "python3"
  },
  "language_info": {
   "codemirror_mode": {
    "name": "ipython",
    "version": 3
   },
   "file_extension": ".py",
   "mimetype": "text/x-python",
   "name": "python",
   "nbconvert_exporter": "python",
   "pygments_lexer": "ipython3",
   "version": "3.12.9"
  }
 },
 "nbformat": 4,
 "nbformat_minor": 5
}
