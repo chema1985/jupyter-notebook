{
 "cells": [
  {
   "cell_type": "markdown",
   "id": "6809f1ee-91f5-4bf2-9819-35ec5e6b7949",
   "metadata": {
    "jp-MarkdownHeadingCollapsed": true
   },
   "source": [
    "# 4.2 Arrays con Numpy"
   ]
  },
  {
   "cell_type": "markdown",
   "id": "37e1cfc0-0600-41f2-9cd0-fd530a6c1e21",
   "metadata": {},
   "source": [
    "### Importar NumPy:"
   ]
  },
  {
   "cell_type": "code",
   "execution_count": 1,
   "id": "8c0a0a7f-84df-4829-8d30-e95726c4a204",
   "metadata": {},
   "outputs": [],
   "source": [
    "import numpy as np"
   ]
  },
  {
   "cell_type": "raw",
   "id": "20106ae0-94d8-48b0-9012-d6766f9bb70e",
   "metadata": {},
   "source": [
    "Necesitaremos una línea como ésta para poder usar NumPy (suponiendo que ya está instalado). Se suele utilizar np como alias, pero realmente podemos utilizar el que queramos."
   ]
  },
  {
   "cell_type": "markdown",
   "id": "2a0d741d-530f-4b73-ab27-8f99378e7a51",
   "metadata": {},
   "source": [
    "### Crear arrays a partir de listas:"
   ]
  },
  {
   "cell_type": "code",
   "execution_count": 2,
   "id": "cea658cb-1f8d-4435-ae68-d85b9a728132",
   "metadata": {},
   "outputs": [
    {
     "name": "stdout",
     "output_type": "stream",
     "text": [
      "[1.  2.1 3.  4.2 5. ]\n",
      "[[1 2 3]\n",
      " [4 5 6]\n",
      " [7 8 9]]\n"
     ]
    }
   ],
   "source": [
    "x1 = np.array([1, 2.1, 3, 4.2, 5])\n",
    "x2 = np.array([ [1,2,3], [4,5,6], [7,8,9] ])\n",
    "print(x1)\n",
    "print(x2)"
   ]
  },
  {
   "cell_type": "raw",
   "id": "125026bd-79f7-4227-98e0-10f97de71b9c",
   "metadata": {},
   "source": [
    "Como podemos ver, podemos crear arrays de NumPy usando la función array y pasándole una lista convencional de Python.\n",
    "Hay que tener en cuenta que dado que todos los elementos deben ser del mismo tipo, si hay valores decimales entonces los enteros pasan también a decimal.\n",
    "También podemos ver cómo podemos crear arrays multidimensionales a partir de listas multidimensionales."
   ]
  },
  {
   "cell_type": "markdown",
   "id": "edf18c66-17ce-4c64-ba66-71b53a76cc4c",
   "metadata": {},
   "source": [
    "### Funciones de NumPy para crear arrays:"
   ]
  },
  {
   "cell_type": "code",
   "execution_count": 3,
   "id": "08eeda1f-bbb6-440f-a767-4e51b041be6c",
   "metadata": {},
   "outputs": [
    {
     "name": "stdout",
     "output_type": "stream",
     "text": [
      "[0. 0. 0. 0. 0.]\n",
      "[[[1 1]\n",
      "  [1 1]]\n",
      "\n",
      " [[1 1]\n",
      "  [1 1]]]\n",
      "[[2.78 2.78 2.78 2.78]\n",
      " [2.78 2.78 2.78 2.78]]\n",
      "[[0.29139469 0.44806968]\n",
      " [0.62525684 0.20914447]]\n"
     ]
    }
   ],
   "source": [
    "x1 = np.zeros(5, dtype=float)\n",
    "x2 = np.ones((2,2,2), dtype=int)\n",
    "x3 = np.full((2, 4), 2.78)\n",
    "x4 = np.random.random((2, 2))\n",
    "print(x1)\n",
    "print(x2)\n",
    "print(x3)\n",
    "print(x4)"
   ]
  },
  {
   "cell_type": "raw",
   "id": "a16b13de-53c9-4b78-a19f-7aa36dc42c95",
   "metadata": {},
   "source": [
    "NumPy proporciona varias funciones para crear arrays multidimensionales, algunas de las cuales aceptan un parámetro de nombre dtype para indicar el tipo de datos de sus valores.\n",
    "Aquí hemos visto sólo algunas entre las que NumPy ofrece."
   ]
  },
  {
   "cell_type": "markdown",
   "id": "8fd9e764-6253-4f2a-9582-a74cba87849a",
   "metadata": {},
   "source": [
    "### Acceso a arrays:"
   ]
  },
  {
   "cell_type": "code",
   "execution_count": 4,
   "id": "6f268120-236a-44df-b05b-f611f51ae884",
   "metadata": {},
   "outputs": [
    {
     "name": "stdout",
     "output_type": "stream",
     "text": [
      "3\n",
      "[0 1 2 3]\n",
      "[4 5 6 7]\n",
      "[3 4 5]\n",
      "[1 3 5 7]\n"
     ]
    }
   ],
   "source": [
    "x = np.arange(8)\n",
    "print(x[3])    # El elemento en la posición 3 (empezando desde 0)\n",
    "print(x[:4])   # Los 4 primeros elementos\n",
    "print(x[4:])   # Elementos tras el índice 4\n",
    "print(x[3:6])  # Elementos intermedios\n",
    "print(x[1::2]) # Elementos de 2 en 2 desde el de índice 1"
   ]
  },
  {
   "cell_type": "raw",
   "id": "22c4bc37-8880-4c40-896f-f16f57695e32",
   "metadata": {},
   "source": [
    "Para acceder a arrays utilizamos una notación especial con el caracter \":\", según la siguiente sintaxis (suponiendo que x es un array).\n",
    "x[inicio:final:paso]\n",
    "Esto nos proporciona los valores entre el índice inicio y el índice final (no incluído), saltando cada paso elementos.\n",
    "Los valores por defecto si no se indica nada son:\n",
    "start = 0\n",
    "stop = tamaño de la dimensión\n",
    "paso = 1"
   ]
  },
  {
   "cell_type": "code",
   "execution_count": 5,
   "id": "b8e0cad7-4ca6-4c7e-9bbe-7d6cb9b69fe1",
   "metadata": {},
   "outputs": [
    {
     "name": "stdout",
     "output_type": "stream",
     "text": [
      "[[1 2 3]\n",
      " [4 5 6]\n",
      " [7 8 9]]\n",
      "[[7 8]]\n",
      "[[1 2 3]\n",
      " [7 8 9]]\n"
     ]
    }
   ],
   "source": [
    "x = np.array([ [1,2,3], [4,5,6], [7,8,9] ])\n",
    "print(x)\n",
    "print(x[2:,:2])\n",
    "print(x[::2,:])"
   ]
  },
  {
   "cell_type": "raw",
   "id": "38ba0713-80de-4ace-b21e-50f4ecc0ba58",
   "metadata": {},
   "source": [
    "En el caso de arrays multidimensionales accedemos de igual modo, usando el caracter \",\" para separar el indexado que realizamos dentro de cada dimensión."
   ]
  },
  {
   "cell_type": "code",
   "execution_count": 6,
   "id": "f6f4b01b-0249-41de-9707-bd78017fd381",
   "metadata": {},
   "outputs": [
    {
     "name": "stdout",
     "output_type": "stream",
     "text": [
      "[[1 2 3]\n",
      " [4 5 6]\n",
      " [7 8 9]]\n",
      "[[5 6]\n",
      " [8 9]]\n",
      "[[ 5  6]\n",
      " [ 8 99]]\n",
      "[[ 1  2  3]\n",
      " [ 4  5  6]\n",
      " [ 7  8 99]]\n",
      "[[88  2]\n",
      " [ 4  5]]\n",
      "[[ 1  2  3]\n",
      " [ 4  5  6]\n",
      " [ 7  8 99]]\n"
     ]
    }
   ],
   "source": [
    "x = np.array([ [1,2,3], [4,5,6], [7,8,9] ])\n",
    "y = x[1:3,1:3]\n",
    "print(x)\n",
    "print(y)\n",
    "y[1,1] = 99\n",
    "print(y)\n",
    "print(x) \n",
    "z = x[:2,:2].copy()\n",
    "z[0,0] = 88\n",
    "print(z)\n",
    "print(x)"
   ]
  },
  {
   "cell_type": "raw",
   "id": "a169beb0-ea2d-4d2f-87f1-fd8132ef1e15",
   "metadata": {},
   "source": [
    "Cuando obtenemos una porción de un array mediante indexación, lo que tenemos realmente es una vista en lugar de una copia de los datos. Por lo tanto, si hacemos una modificación en un determinado valor de la vista, también estaremos modificando el array original.\n",
    "Para evitar este efecto podemos realizar copias de los arrays mediante la función copy."
   ]
  },
  {
   "cell_type": "markdown",
   "id": "e0a26f31-d2df-4112-8aca-0a884dad10eb",
   "metadata": {},
   "source": [
    "### Operaciones con arrays:"
   ]
  },
  {
   "cell_type": "code",
   "execution_count": 7,
   "id": "260f8bca-7315-4b32-88c4-2d097b7ab327",
   "metadata": {},
   "outputs": [
    {
     "name": "stdout",
     "output_type": "stream",
     "text": [
      "[4 5 6 7 8 9]\n",
      "[ 3  6  9 12 15 18]\n",
      "[0.5 1.  1.5 2.  2.5 3. ]\n",
      "[ 3  5  7  9 11 13]\n",
      "[0.5        0.66666667 0.75       0.8        0.83333333 0.85714286]\n",
      "[ 2.  4.  8. 16. 32. 64.]\n",
      "[  3   9  27  81 243 729]\n",
      "[0.         1.         1.5849625  2.         2.32192809 2.5849625 ]\n",
      "[0.         0.30103    0.47712125 0.60205999 0.69897    0.77815125]\n",
      "Suma:   21\n",
      "Min:    1\n",
      "Max:    6\n",
      "Media:  3.5\n",
      "Std:    1.707825127659933\n",
      "Var:    2.9166666666666665\n"
     ]
    }
   ],
   "source": [
    "x1 = np.array([1,2,3,4,5,6])\n",
    "x2 = np.array([2,3,4,5,6,7])\n",
    "print(x1+3)\n",
    "print(x1*3)\n",
    "print(x1/2)\n",
    "print(x1+x2)\n",
    "print(x1/x2)\n",
    "print(np.exp2(x1))\n",
    "print(np.power(3,x1))\n",
    "print(np.log2(x1))\n",
    "print(np.log10(x1))\n",
    "print(\"Suma:  \", np.sum(x1))\n",
    "print(\"Min:   \", np.min(x1))\n",
    "print(\"Max:   \", np.max(x1))\n",
    "print(\"Media: \", np.mean(x1))\n",
    "print(\"Std:   \", np.std(x1))\n",
    "print(\"Var:   \", np.var(x1))"
   ]
  },
  {
   "cell_type": "raw",
   "id": "dad54e97-df06-4c10-a747-446d439e2800",
   "metadata": {},
   "source": [
    "Python incluye una gran cantidad de funciones matemáticas aplicables sobre arrays."
   ]
  },
  {
   "cell_type": "code",
   "execution_count": 8,
   "id": "09470e22-7c71-494c-bfad-3d9326b99ead",
   "metadata": {},
   "outputs": [
    {
     "name": "stdout",
     "output_type": "stream",
     "text": [
      "[[ 4  5  6]\n",
      " [ 7  8  9]\n",
      " [10 11 12]]\n",
      "[[ 3  6  9]\n",
      " [12 15 18]\n",
      " [21 24 27]]\n",
      "[[0.5 1.  1.5]\n",
      " [2.  2.5 3. ]\n",
      " [3.5 4.  4.5]]\n",
      "[[  2.   4.   8.]\n",
      " [ 16.  32.  64.]\n",
      " [128. 256. 512.]]\n",
      "[[    3     9    27]\n",
      " [   81   243   729]\n",
      " [ 2187  6561 19683]]\n",
      "[[0.         1.         1.5849625 ]\n",
      " [2.         2.32192809 2.5849625 ]\n",
      " [2.80735492 3.         3.169925  ]]\n",
      "[[0.         0.30103    0.47712125]\n",
      " [0.60205999 0.69897    0.77815125]\n",
      " [0.84509804 0.90308999 0.95424251]]\n",
      "Suma:   45\n",
      "Min:    1\n",
      "Max:    9\n",
      "Media:  5.0\n",
      "Std:    2.581988897471611\n",
      "Var:    6.666666666666667\n"
     ]
    }
   ],
   "source": [
    "x1 = np.array([[1,2,3],[4,5,6],[7,8,9]])\n",
    "print(x1+3)\n",
    "print(x1*3)\n",
    "print(x1/2)\n",
    "print(np.exp2(x1))\n",
    "print(np.power(3,x1))\n",
    "print(np.log2(x1))\n",
    "print(np.log10(x1))\n",
    "print(\"Suma:  \", np.sum(x1))\n",
    "print(\"Min:   \", np.min(x1))\n",
    "print(\"Max:   \", np.max(x1))\n",
    "print(\"Media: \", np.mean(x1))\n",
    "print(\"Std:   \", np.std(x1))\n",
    "print(\"Var:   \", np.var(x1))"
   ]
  },
  {
   "cell_type": "raw",
   "id": "3dd9988a-62fd-4272-a54b-bc89b0242e37",
   "metadata": {},
   "source": [
    "Esas funciones también pueden aplicarse sobre arrays multidimensionales."
   ]
  },
  {
   "cell_type": "markdown",
   "id": "d22e5599-d5ad-4a78-b8b3-064850629b6b",
   "metadata": {
    "jp-MarkdownHeadingCollapsed": true
   },
   "source": [
    "# 4.3 Análisis con Pandas"
   ]
  },
  {
   "cell_type": "raw",
   "id": "07c17624-fc07-486a-8976-47a0fa02ca25",
   "metadata": {},
   "source": [
    "Pandas es un librería de Python específicamente creada para manipulación y análisis de datos. Ha sido construida sobre las funcionalidades que ya ofrece NumPy, añadiendo un tipo de datos de vital importancia a la hora de analizar datos, llamado DataFrame.\n",
    "\n",
    "Un DataFrame es el equivalente a un array bidimensional al que podemos asociar etiquetas tanto para columnas como para filas y que permite trabajar con datos desconocidos.\n",
    "\n",
    "Del mismo modo que ocurría con NumPy y sus arrays, la gran aportación de Pandas respecto de sus DataFrames es la implementación de una serie de operaciones altamente optimizadas sobre ellos.\n",
    "\n",
    "Además del tipo DataFrame, Pandas también incluye otra estructura de datos llamada Series, junto con sus correspondientes operaciones. El uso de Series queda fuera del alcance de este curso, pero lo mencionamos aquí para que el alumno conozca su existencia y pueda investigar por su cuenta si se siente interesado.\n",
    "\n",
    "Veremos a continuación cómo emplear DataFrames de Pandas:"
   ]
  },
  {
   "cell_type": "markdown",
   "id": "ad4b338b-e571-415e-8337-9de121594a80",
   "metadata": {},
   "source": [
    "### Importar Pandas:"
   ]
  },
  {
   "cell_type": "code",
   "execution_count": 9,
   "id": "71e2be2a-b20d-4c6c-ad4b-56d116a66c64",
   "metadata": {},
   "outputs": [],
   "source": [
    "import pandas as pd"
   ]
  },
  {
   "cell_type": "raw",
   "id": "b54ce84f-9064-4e9f-9445-86be152cf926",
   "metadata": {},
   "source": [
    "Necesitaremos una línea como ésta para poder usar Pandas (suponiendo que ya está instalado). Se suele utilizar pd como alias, pero realmente podemos utilizar el que queramos. "
   ]
  },
  {
   "cell_type": "markdown",
   "id": "1f38e7f9-ec7d-48eb-a5ca-4fb0966d57c6",
   "metadata": {},
   "source": [
    "### Crear DataFrames:"
   ]
  },
  {
   "cell_type": "code",
   "execution_count": 10,
   "id": "69916f22-6225-4871-9cde-9f7d514c30e7",
   "metadata": {},
   "outputs": [
    {
     "name": "stdout",
     "output_type": "stream",
     "text": [
      "       Fruta  Numero\n",
      "0    Manzana       7\n",
      "1       Pera       9\n",
      "2  Mandarina      11\n"
     ]
    }
   ],
   "source": [
    "lista = [['Manzana',7],['Pera',9],['Mandarina',11]]\n",
    "df = pd.DataFrame(lista,columns=['Fruta','Numero'])\n",
    "print(df)"
   ]
  },
  {
   "cell_type": "raw",
   "id": "8ff245e1-656f-4d18-8d78-36b42b965e46",
   "metadata": {},
   "source": [
    "Creamos un DataFrame mediante la función DataFrame. Hemos escogido crear nuestro DataFrame a partir de listas de Python, aunque existen otros modos que el alumno interesado puede investigar."
   ]
  },
  {
   "cell_type": "markdown",
   "id": "b99791da-ca4c-4e19-a4b7-6afdbb2e9acd",
   "metadata": {},
   "source": [
    "### Seleccionar una columna:"
   ]
  },
  {
   "cell_type": "code",
   "execution_count": 11,
   "id": "5a5863d1-a187-4cca-8693-1aec18db894b",
   "metadata": {},
   "outputs": [
    {
     "name": "stdout",
     "output_type": "stream",
     "text": [
      "0      Manzana\n",
      "1         Pera\n",
      "2    Mandarina\n",
      "Name: Fruta, dtype: object\n"
     ]
    }
   ],
   "source": [
    "lista = [['Manzana',7],['Pera',9],['Mandarina',11]]\n",
    "df = pd.DataFrame(lista,columns=['Fruta','Numero'])\n",
    "print(df['Fruta'])"
   ]
  },
  {
   "cell_type": "raw",
   "id": "bd9cdf77-38f5-4880-a2e3-2c8426de7861",
   "metadata": {},
   "source": [
    "Podemos seleccionar una columna accediendo a ella mediante su nombre."
   ]
  },
  {
   "cell_type": "markdown",
   "id": "cc1e393d-1c98-499c-8851-4cdaf6b2a99f",
   "metadata": {},
   "source": [
    "### Añadir y eliminar columnas:"
   ]
  },
  {
   "cell_type": "code",
   "execution_count": 12,
   "id": "0f82fc2c-a5ca-42d4-bca2-6cb1d63b0218",
   "metadata": {},
   "outputs": [
    {
     "name": "stdout",
     "output_type": "stream",
     "text": [
      "       Fruta  Numero\n",
      "0    Manzana       7\n",
      "1       Pera       9\n",
      "2  Mandarina      11\n",
      "       Fruta  Numero  OtroNum\n",
      "0    Manzana       7        3\n",
      "1       Pera       9        5\n",
      "2  Mandarina      11        7\n",
      "       Fruta  OtroNum\n",
      "0    Manzana        3\n",
      "1       Pera        5\n",
      "2  Mandarina        7\n"
     ]
    }
   ],
   "source": [
    "lista = [['Manzana',7],['Pera',9],['Mandarina',11]]\n",
    "df = pd.DataFrame(lista,columns=['Fruta','Numero'])\n",
    "col = [3,5,7]\n",
    "print(df)\n",
    "df['OtroNum'] = col\n",
    "print(df)\n",
    "del df['Numero']\n",
    "print(df)"
   ]
  },
  {
   "cell_type": "raw",
   "id": "a03d3cd0-ccb0-4338-abc2-eef3327fd3ab",
   "metadata": {},
   "source": [
    "Podemos añadir columnas accediendo al array mediante el nombre que tendrá la nueva columna, o eliminar columnas utilizando del."
   ]
  },
  {
   "cell_type": "markdown",
   "id": "ec2e3c80-8015-4bd9-864e-cae25e52f060",
   "metadata": {},
   "source": [
    "### Tomar filas:"
   ]
  },
  {
   "cell_type": "code",
   "execution_count": 13,
   "id": "a472bbe6-09ea-4fa8-b605-677a6ce4c6ef",
   "metadata": {},
   "outputs": [
    {
     "name": "stdout",
     "output_type": "stream",
     "text": [
      "       Fruta  Numero\n",
      "0    Manzana       7\n",
      "1       Pera       9\n",
      "2  Mandarina      11\n",
      "3      Mango       2\n",
      "       Fruta  Numero\n",
      "1       Pera       9\n",
      "2  Mandarina      11\n"
     ]
    }
   ],
   "source": [
    "lista = [['Manzana',7],['Pera',9],['Mandarina',11],['Mango',2]]\n",
    "df = pd.DataFrame(lista,columns=['Fruta','Numero'])\n",
    "print(df)\n",
    "print(df[1:3])"
   ]
  },
  {
   "cell_type": "raw",
   "id": "49e43ca4-115c-4513-81e6-54d8fdfcb14d",
   "metadata": {},
   "source": [
    "Podemos tomar filas indexando mediante la notación inicio:fin:paso del mismo modo que habíamos con los arrays de NumPy."
   ]
  },
  {
   "cell_type": "markdown",
   "id": "b995ead9-ed7a-4628-a55e-c6ea567b4431",
   "metadata": {},
   "source": [
    "### Añadir y eliminar filas:"
   ]
  },
  {
   "cell_type": "code",
   "execution_count": 15,
   "id": "7f95f14a-7507-4cd8-9615-f93c85f9b39b",
   "metadata": {},
   "outputs": [
    {
     "name": "stdout",
     "output_type": "stream",
     "text": [
      "       Fruta  Numero\n",
      "0    Manzana       7\n",
      "1       Pera       9\n",
      "0  Mandarina      11\n",
      "1      Mango       2\n",
      "       Fruta  Numero\n",
      "0    Manzana       7\n",
      "0  Mandarina      11\n"
     ]
    }
   ],
   "source": [
    "lista = [['Manzana',7],['Pera',9]]\n",
    "lista2 = [['Mandarina',11],['Mango',2]]\n",
    "df = pd.DataFrame(lista,columns=['Fruta','Numero'])\n",
    "df2 = pd.DataFrame(lista2,columns=['Fruta','Numero'])\n",
    "df = pd.concat([df,df2])\n",
    "print(df)\n",
    "df = df.drop(1)\n",
    "print(df)"
   ]
  },
  {
   "cell_type": "raw",
   "id": "d1cd3fe7-31c4-45f0-afbe-31d67fe416d3",
   "metadata": {},
   "source": [
    "Podemos añadir las filas de un DataFrame a otro mediante concat y eliminarlas con drop indicando el valor del índice a eliminar.\n",
    "Fíjate que en este ejemplo el índice 1 estaba repetido, por lo que se han eliminado dos filas."
   ]
  },
  {
   "cell_type": "code",
   "execution_count": 18,
   "id": "9a122c18-3599-434d-b27d-20a594d8b524",
   "metadata": {},
   "outputs": [
    {
     "name": "stdout",
     "output_type": "stream",
     "text": [
      "            Fruta  Numero\n",
      "uno       Manzana       7\n",
      "dos          Pera       9\n",
      "tres    Mandarina      11\n",
      "cuatro      Mango       2\n",
      "            Fruta  Numero\n",
      "uno       Manzana       7\n",
      "tres    Mandarina      11\n",
      "cuatro      Mango       2\n"
     ]
    }
   ],
   "source": [
    "lista = [['Manzana',7],['Pera',9]]\n",
    "lista2 = [['Mandarina',11],['Mango',2]]\n",
    "df = pd.DataFrame(lista,columns=['Fruta','Numero'],index=['uno','dos'])\n",
    "df2 = pd.DataFrame(lista2,columns=['Fruta','Numero'],index=['tres','cuatro'])\n",
    "df = pd.concat([df,df2])\n",
    "print(df)\n",
    "df = df.drop('dos')\n",
    "print(df)"
   ]
  },
  {
   "cell_type": "raw",
   "id": "698471f9-7b7b-45b2-98e3-d12f59da7d13",
   "metadata": {},
   "source": [
    "Por supuesto, podemos imponer nuestros propios índices a las filas de los DataFrame, de modo que esos borrados sean únicos."
   ]
  },
  {
   "cell_type": "markdown",
   "id": "c549816b-f064-4d63-ad09-a60ff2a779bc",
   "metadata": {},
   "source": [
    "### Obtener una descripcion de los datos dentro de un DataFrame:"
   ]
  },
  {
   "cell_type": "code",
   "execution_count": 19,
   "id": "f3ee8414-0f4d-4aa0-aa05-d8dcef6279ea",
   "metadata": {},
   "outputs": [
    {
     "name": "stdout",
     "output_type": "stream",
     "text": [
      "   0  1  2\n",
      "0  1  2  3\n",
      "1  4  5  6\n",
      "2  7  8  9\n",
      "         0    1    2\n",
      "count  3.0  3.0  3.0\n",
      "mean   4.0  5.0  6.0\n",
      "std    3.0  3.0  3.0\n",
      "min    1.0  2.0  3.0\n",
      "25%    2.5  3.5  4.5\n",
      "50%    4.0  5.0  6.0\n",
      "75%    5.5  6.5  7.5\n",
      "max    7.0  8.0  9.0\n"
     ]
    }
   ],
   "source": [
    "lista = [[1,2,3],[4,5,6],[7,8,9]]\n",
    "df = pd.DataFrame(lista)\n",
    "print(df)\n",
    "print(df.describe())"
   ]
  },
  {
   "cell_type": "raw",
   "id": "e8fbc46e-b8c9-459f-88a0-3d72751d90f4",
   "metadata": {},
   "source": [
    "Podemos ver una descripción de los datos que hay dentro de un DataFrame mediante la función describe."
   ]
  },
  {
   "cell_type": "markdown",
   "id": "a2c93c5b-64c7-4df2-a340-a36e2a1a4384",
   "metadata": {},
   "source": [
    "# 4.4 Visualización con Matplotlib"
   ]
  },
  {
   "cell_type": "raw",
   "id": "1a592d2e-a548-4fd6-9a57-b257bb844316",
   "metadata": {},
   "source": [
    "Si has explorado los enlaces que aparecen en el primer \"Para saber más\" del apartado anterior, ya habrás visto la librería Matplotlib en funcionamiento, ya que la persona que creó el notebook la va utilizando para mostrar el aspecto que tienen los datos a medida que va realizando su análisis exploratorio de los mismos.\n",
    "\n",
    "Matplotlib es la librería comúnmente utilizada en Python para generar todo tipo de gráficos. Existe desde antes de la llegada de Pandas, por lo que se diseñó para trabajar con listas convencionales de Python así como con los arrays de NumPy. Sin embargo, a día de hoy también funciona sobre DataFrames y Series de Pandas."
   ]
  },
  {
   "cell_type": "markdown",
   "id": "18292fe9-4db4-4337-9a42-726048148a75",
   "metadata": {},
   "source": [
    "### Importar MatplotLib:"
   ]
  },
  {
   "cell_type": "code",
   "execution_count": 20,
   "id": "c1cf1318-c706-4052-b26e-2a15e726c18c",
   "metadata": {},
   "outputs": [],
   "source": [
    "import matplotlib as mpl\n",
    "import matplotlib.pyplot as plt"
   ]
  },
  {
   "cell_type": "raw",
   "id": "e1f2c0a4-273f-4387-9a95-db88c64cae8d",
   "metadata": {},
   "source": [
    "Necesitaremos un par de líneas éstas para poder usar tanto matplotlib como matplotlib.pyplot (suponiendo que ya están instalados). Se suele utilizar mpl y plt como alias, pero realmente podemos utilizar los que queramos. "
   ]
  },
  {
   "cell_type": "markdown",
   "id": "1bffd35c-433e-4083-87f2-34d0155c1b83",
   "metadata": {},
   "source": [
    "### Creación básica de gráficos:"
   ]
  },
  {
   "cell_type": "code",
   "execution_count": 21,
   "id": "68726161-0733-46e7-a39e-e759a22b98e8",
   "metadata": {},
   "outputs": [
    {
     "name": "stdout",
     "output_type": "stream",
     "text": [
      "[ 0.          0.52631579  1.05263158  1.57894737  2.10526316  2.63157895\n",
      "  3.15789474  3.68421053  4.21052632  4.73684211  5.26315789  5.78947368\n",
      "  6.31578947  6.84210526  7.36842105  7.89473684  8.42105263  8.94736842\n",
      "  9.47368421 10.        ]\n"
     ]
    },
    {
     "data": {
      "image/png": "[encoded data removed]",
      "text/plain": [
       "<Figure size 640x480 with 1 Axes>"
      ]
     },
     "metadata": {},
     "output_type": "display_data"
    }
   ],
   "source": [
    "import numpy as np\n",
    "x = np.linspace(0, 10, 20)\n",
    "print(x)\n",
    "plt.plot(x, np.sin(x))\n",
    "plt.plot(x, np.cos(x))\n",
    "plt.show()"
   ]
  },
  {
   "cell_type": "raw",
   "id": "7e801039-c6f2-495b-a6d8-8e51858c4d36",
   "metadata": {},
   "source": [
    "En este ejemplo hemos creado una sencilla gráfica aplicando directamente Matplotlib sobre un array de NumPy mediante la función plot."
   ]
  },
  {
   "cell_type": "code",
   "execution_count": 22,
   "id": "98cff73d-5002-4ac0-a465-a4b726cd937c",
   "metadata": {},
   "outputs": [
    {
     "data": {
      "image/png": "[encoded data removed]",
      "text/plain": [
       "<Figure size 640x480 with 1 Axes>"
      ]
     },
     "metadata": {},
     "output_type": "display_data"
    }
   ],
   "source": [
    "import numpy as np\n",
    "x = np.linspace(0, 10, 20)\n",
    "plt.plot(x, np.sin(x), 'o', color=\"black\" )\n",
    "plt.plot(x, np.cos(x))\n",
    "plt.show()"
   ]
  },
  {
   "cell_type": "raw",
   "id": "b83b3e86-1c9c-46fb-b423-cc7a063df68e",
   "metadata": {},
   "source": [
    "Por defecto la función plot genera líneas, pero podemos dibujar puntos pasándole el parámetro 'o'."
   ]
  },
  {
   "cell_type": "code",
   "execution_count": 23,
   "id": "2b5e3ed0-8410-46a1-aeb6-0752cccb27e9",
   "metadata": {},
   "outputs": [
    {
     "data": {
      "image/png": "[encoded data removed]",
      "text/plain": [
       "<Figure size 900x300 with 3 Axes>"
      ]
     },
     "metadata": {},
     "output_type": "display_data"
    }
   ],
   "source": [
    "names = ['A', 'B', 'C']\n",
    "values = [5, 2, 7]\n",
    "\n",
    "plt.figure(figsize=(9, 3))\n",
    "\n",
    "plt.subplot(131)\n",
    "plt.plot(names, values)\n",
    "plt.subplot(132)\n",
    "plt.scatter(names, values)\n",
    "plt.subplot(133)\n",
    "plt.bar(names, values)\n",
    "plt.suptitle('Valores')\n",
    "plt.show()"
   ]
  },
  {
   "cell_type": "raw",
   "id": "d1e1b75d-69a8-4fe0-90dd-1028c21e8acf",
   "metadata": {},
   "source": [
    "También podemos crear gráficos de barras e incluso crear un gráfico con varios subgráficos. En este caso hemos creado un gráfico de línea con la función plot, un gráfico de puntos con la función scatter y otro de barras con la función bar.\n",
    "\n",
    "Lo cierto es que con matplotlib.pyplot podemos crear gráficos muy elaborados. Por ello, es interesante que veas el tutorial acerca de Pyplot que te indicamos en la sección \"Para saber más\"."
   ]
  }
 ],
 "metadata": {
  "kernelspec": {
   "display_name": "Python 3 (ipykernel)",
   "language": "python",
   "name": "python3"
  },
  "language_info": {
   "codemirror_mode": {
    "name": "ipython",
    "version": 3
   },
   "file_extension": ".py",
   "mimetype": "text/x-python",
   "name": "python",
   "nbconvert_exporter": "python",
   "pygments_lexer": "ipython3",
   "version": "3.12.9"
  }
 },
 "nbformat": 4,
 "nbformat_minor": 5
}
