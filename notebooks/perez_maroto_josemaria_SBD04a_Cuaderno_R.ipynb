{
 "cells": [
  {
   "cell_type": "markdown",
   "id": "a11e287b-e14a-4655-b88a-26a3bb849580",
   "metadata": {},
   "source": [
    "# 3.2 Arrrays y Matrices"
   ]
  },
  {
   "cell_type": "raw",
   "id": "c24f1e0c-7bae-4add-b7a8-6c98b0ca75b6",
   "metadata": {},
   "source": [
    "Hasta ahora hemos visto que R trabaja sin problemas con vectores, que son objetos unidimensionales.\n",
    "\n",
    "Sin embargo, también podemos trabajar con conjuntos de datos multidimensionales mediante arrays. Hay que tener en cuenta que los arrays son rectangulares (es decir que todas las filas deben tener la misma longitud, al igual que todas las columnas y todas las demás posibles dimensiones)."
   ]
  },
  {
   "cell_type": "code",
   "execution_count": 6,
   "id": "4c52f939-4e26-4e48-894f-a1a1a9a42004",
   "metadata": {},
   "outputs": [
    {
     "data": {
      "text/html": [
       "<style>\n",
       ".list-inline {list-style: none; margin:0; padding: 0}\n",
       ".list-inline>li {display: inline-block}\n",
       ".list-inline>li:not(:last-child)::after {content: \"\\00b7\"; padding: 0 .5ex}\n",
       "</style>\n",
       "<ol class=list-inline><li>1</li><li>2</li><li>3</li><li>4</li><li>5</li><li>6</li><li>7</li><li>8</li><li>9</li><li>10</li><li>11</li><li>12</li><li>13</li><li>14</li><li>15</li><li>16</li><li>17</li><li>18</li><li>19</li><li>20</li><li>21</li><li>22</li><li>23</li><li>24</li></ol>\n"
      ],
      "text/latex": [
       "\\begin{enumerate*}\n",
       "\\item 1\n",
       "\\item 2\n",
       "\\item 3\n",
       "\\item 4\n",
       "\\item 5\n",
       "\\item 6\n",
       "\\item 7\n",
       "\\item 8\n",
       "\\item 9\n",
       "\\item 10\n",
       "\\item 11\n",
       "\\item 12\n",
       "\\item 13\n",
       "\\item 14\n",
       "\\item 15\n",
       "\\item 16\n",
       "\\item 17\n",
       "\\item 18\n",
       "\\item 19\n",
       "\\item 20\n",
       "\\item 21\n",
       "\\item 22\n",
       "\\item 23\n",
       "\\item 24\n",
       "\\end{enumerate*}\n"
      ],
      "text/markdown": [
       "1. 1\n",
       "2. 2\n",
       "3. 3\n",
       "4. 4\n",
       "5. 5\n",
       "6. 6\n",
       "7. 7\n",
       "8. 8\n",
       "9. 9\n",
       "10. 10\n",
       "11. 11\n",
       "12. 12\n",
       "13. 13\n",
       "14. 14\n",
       "15. 15\n",
       "16. 16\n",
       "17. 17\n",
       "18. 18\n",
       "19. 19\n",
       "20. 20\n",
       "21. 21\n",
       "22. 22\n",
       "23. 23\n",
       "24. 24\n",
       "\n",
       "\n"
      ],
      "text/plain": [
       ", , uno\n",
       "\n",
       "          primero segundo tercero\n",
       "izquierda       1       3       5\n",
       "derecha         2       4       6\n",
       "\n",
       ", , dos\n",
       "\n",
       "          primero segundo tercero\n",
       "izquierda       7       9      11\n",
       "derecha         8      10      12\n",
       "\n",
       ", , tres\n",
       "\n",
       "          primero segundo tercero\n",
       "izquierda      13      15      17\n",
       "derecha        14      16      18\n",
       "\n",
       ", , cuatro\n",
       "\n",
       "          primero segundo tercero\n",
       "izquierda      19      21      23\n",
       "derecha        20      22      24\n"
      ]
     },
     "metadata": {},
     "output_type": "display_data"
    },
    {
     "name": "stdout",
     "output_type": "stream",
     "text": [
      ", , uno\n",
      "\n",
      "          primero segundo tercero\n",
      "izquierda       1       3       5\n",
      "derecha         2       4       6\n",
      "\n",
      ", , dos\n",
      "\n",
      "          primero segundo tercero\n",
      "izquierda       7       9      11\n",
      "derecha         8      10      12\n",
      "\n",
      ", , tres\n",
      "\n",
      "          primero segundo tercero\n",
      "izquierda      13      15      17\n",
      "derecha        14      16      18\n",
      "\n",
      ", , cuatro\n",
      "\n",
      "          primero segundo tercero\n",
      "izquierda      19      21      23\n",
      "derecha        20      22      24\n",
      "\n"
     ]
    }
   ],
   "source": [
    "(array_3d <- array(\n",
    "  1:24,\n",
    "  dim = c(2, 3, 4),\n",
    "  dimnames = list(\n",
    "    c(\"izquierda\", \"derecha\"),\n",
    "    c(\"primero\", \"segundo\", \"tercero\"),\n",
    "    c(\"uno\", \"dos\", \"tres\", \"cuatro\")\n",
    "  )\n",
    "))\n",
    "print(array_3d)"
   ]
  },
  {
   "cell_type": "raw",
   "id": "4db9e628-2cbe-44a4-807a-1cde3f78fd1b",
   "metadata": {},
   "source": [
    "Podemos crear un array de cualquier número de dimensiones mediante la función array, indicándole un vector con todos los valores, otro con la longitud en cada dimensión (lo cual implica cuántas dimensiones queremos) y una lista de vectores con los nombres para las distintas dimensiones."
   ]
  },
  {
   "cell_type": "code",
   "execution_count": 3,
   "id": "9d3b8b26-3ad4-4109-9575-fa8c0c6929ce",
   "metadata": {},
   "outputs": [
    {
     "data": {
      "text/html": [
       "<style>\n",
       ".list-inline {list-style: none; margin:0; padding: 0}\n",
       ".list-inline>li {display: inline-block}\n",
       ".list-inline>li:not(:last-child)::after {content: \"\\00b7\"; padding: 0 .5ex}\n",
       "</style>\n",
       "<ol class=list-inline><li>2</li><li>3</li><li>4</li></ol>\n"
      ],
      "text/latex": [
       "\\begin{enumerate*}\n",
       "\\item 2\n",
       "\\item 3\n",
       "\\item 4\n",
       "\\end{enumerate*}\n"
      ],
      "text/markdown": [
       "1. 2\n",
       "2. 3\n",
       "3. 4\n",
       "\n",
       "\n"
      ],
      "text/plain": [
       "[1] 2 3 4"
      ]
     },
     "metadata": {},
     "output_type": "display_data"
    },
    {
     "data": {
      "text/html": [
       "3"
      ],
      "text/latex": [
       "3"
      ],
      "text/markdown": [
       "3"
      ],
      "text/plain": [
       "[1] 3"
      ]
     },
     "metadata": {},
     "output_type": "display_data"
    }
   ],
   "source": [
    "dim(array_3d)\n",
    "length(dim(array_3d))"
   ]
  },
  {
   "cell_type": "raw",
   "id": "3d80bcdc-9c4e-45ab-a645-b3b5b224d183",
   "metadata": {},
   "source": [
    "Si tenemos un array podemos saber cuántas dimensiones tiene y la longitud de cada una con la función dim."
   ]
  },
  {
   "cell_type": "code",
   "execution_count": 7,
   "id": "57a54980-ae56-4642-ae2c-4277c8f79f5c",
   "metadata": {},
   "outputs": [
    {
     "name": "stdout",
     "output_type": "stream",
     "text": [
      ", , dos\n",
      "\n",
      "          primero segundo\n",
      "izquierda       7       9\n",
      "derecha         8      10\n",
      "\n",
      ", , tres\n",
      "\n",
      "          primero segundo\n",
      "izquierda      13      15\n",
      "derecha        14      16\n",
      "\n"
     ]
    }
   ],
   "source": [
    "print(array_3d[,1:2,c(2,3)])"
   ]
  },
  {
   "cell_type": "raw",
   "id": "82c037cc-1be5-4a45-9488-9fd6e00f410c",
   "metadata": {},
   "source": [
    "Podemos acceder al array utilizando corchetes \"[]\" de un modo similar a como lo hacemos con los vectores, pero usando comas para separar las distintas dimensiones (si en una posición no ponemos nada -vacío- obtendremos su contenido completo).\n",
    "Las matrices son un caso especial de arrays limitado a 2 dimensiones."
   ]
  },
  {
   "cell_type": "code",
   "execution_count": 8,
   "id": "047e777c-ec38-42a1-9326-9bd1fc472604",
   "metadata": {},
   "outputs": [
    {
     "data": {
      "text/html": [
       "<table class=\"dataframe\">\n",
       "<caption>A matrix: 3 × 2 of type int</caption>\n",
       "<thead>\n",
       "\t<tr><th></th><th scope=col>arriba</th><th scope=col>abajo</th></tr>\n",
       "</thead>\n",
       "<tbody>\n",
       "\t<tr><th scope=row>uno</th><td>1</td><td>4</td></tr>\n",
       "\t<tr><th scope=row>dos</th><td>2</td><td>5</td></tr>\n",
       "\t<tr><th scope=row>tres</th><td>3</td><td>6</td></tr>\n",
       "</tbody>\n",
       "</table>\n"
      ],
      "text/latex": [
       "A matrix: 3 × 2 of type int\n",
       "\\begin{tabular}{r|ll}\n",
       "  & arriba & abajo\\\\\n",
       "\\hline\n",
       "\tuno & 1 & 4\\\\\n",
       "\tdos & 2 & 5\\\\\n",
       "\ttres & 3 & 6\\\\\n",
       "\\end{tabular}\n"
      ],
      "text/markdown": [
       "\n",
       "A matrix: 3 × 2 of type int\n",
       "\n",
       "| <!--/--> | arriba | abajo |\n",
       "|---|---|---|\n",
       "| uno | 1 | 4 |\n",
       "| dos | 2 | 5 |\n",
       "| tres | 3 | 6 |\n",
       "\n"
      ],
      "text/plain": [
       "     arriba abajo\n",
       "uno  1      4    \n",
       "dos  2      5    \n",
       "tres 3      6    "
      ]
     },
     "metadata": {},
     "output_type": "display_data"
    }
   ],
   "source": [
    "(matriz <- matrix(\n",
    "  1:6,\n",
    "  nrow = 3, #ncol = 2 hace lo mismo\n",
    "  dimnames = list(\n",
    "    c(\"uno\", \"dos\", \"tres\"),\n",
    "    c(\"arriba\", \"abajo\")\n",
    "  )\n",
    "))"
   ]
  },
  {
   "cell_type": "code",
   "execution_count": null,
   "id": "ea2cbfe1-4424-4f2f-9ac0-78100e954929",
   "metadata": {},
   "outputs": [],
   "source": []
  }
 ],
 "metadata": {
  "kernelspec": {
   "display_name": "R",
   "language": "R",
   "name": "ir"
  },
  "language_info": {
   "codemirror_mode": "r",
   "file_extension": ".r",
   "mimetype": "text/x-r-source",
   "name": "R",
   "pygments_lexer": "r",
   "version": "4.3.3"
  }
 },
 "nbformat": 4,
 "nbformat_minor": 5
}
