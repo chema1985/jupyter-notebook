{
 "cells": [
  {
   "cell_type": "markdown",
   "id": "a11e287b-e14a-4655-b88a-26a3bb849580",
   "metadata": {
    "jp-MarkdownHeadingCollapsed": true
   },
   "source": [
    "# 3.2 Arrrays y Matrices"
   ]
  },
  {
   "cell_type": "raw",
   "id": "c24f1e0c-7bae-4add-b7a8-6c98b0ca75b6",
   "metadata": {},
   "source": [
    "Hasta ahora hemos visto que R trabaja sin problemas con vectores, que son objetos unidimensionales.\n",
    "\n",
    "Sin embargo, también podemos trabajar con conjuntos de datos multidimensionales mediante arrays. Hay que tener en cuenta que los arrays son rectangulares (es decir que todas las filas deben tener la misma longitud, al igual que todas las columnas y todas las demás posibles dimensiones)."
   ]
  },
  {
   "cell_type": "code",
   "execution_count": 6,
   "id": "4c52f939-4e26-4e48-894f-a1a1a9a42004",
   "metadata": {},
   "outputs": [
    {
     "data": {
      "text/html": [
       "<style>\n",
       ".list-inline {list-style: none; margin:0; padding: 0}\n",
       ".list-inline>li {display: inline-block}\n",
       ".list-inline>li:not(:last-child)::after {content: \"\\00b7\"; padding: 0 .5ex}\n",
       "</style>\n",
       "<ol class=list-inline><li>1</li><li>2</li><li>3</li><li>4</li><li>5</li><li>6</li><li>7</li><li>8</li><li>9</li><li>10</li><li>11</li><li>12</li><li>13</li><li>14</li><li>15</li><li>16</li><li>17</li><li>18</li><li>19</li><li>20</li><li>21</li><li>22</li><li>23</li><li>24</li></ol>\n"
      ],
      "text/latex": [
       "\\begin{enumerate*}\n",
       "\\item 1\n",
       "\\item 2\n",
       "\\item 3\n",
       "\\item 4\n",
       "\\item 5\n",
       "\\item 6\n",
       "\\item 7\n",
       "\\item 8\n",
       "\\item 9\n",
       "\\item 10\n",
       "\\item 11\n",
       "\\item 12\n",
       "\\item 13\n",
       "\\item 14\n",
       "\\item 15\n",
       "\\item 16\n",
       "\\item 17\n",
       "\\item 18\n",
       "\\item 19\n",
       "\\item 20\n",
       "\\item 21\n",
       "\\item 22\n",
       "\\item 23\n",
       "\\item 24\n",
       "\\end{enumerate*}\n"
      ],
      "text/markdown": [
       "1. 1\n",
       "2. 2\n",
       "3. 3\n",
       "4. 4\n",
       "5. 5\n",
       "6. 6\n",
       "7. 7\n",
       "8. 8\n",
       "9. 9\n",
       "10. 10\n",
       "11. 11\n",
       "12. 12\n",
       "13. 13\n",
       "14. 14\n",
       "15. 15\n",
       "16. 16\n",
       "17. 17\n",
       "18. 18\n",
       "19. 19\n",
       "20. 20\n",
       "21. 21\n",
       "22. 22\n",
       "23. 23\n",
       "24. 24\n",
       "\n",
       "\n"
      ],
      "text/plain": [
       ", , uno\n",
       "\n",
       "          primero segundo tercero\n",
       "izquierda       1       3       5\n",
       "derecha         2       4       6\n",
       "\n",
       ", , dos\n",
       "\n",
       "          primero segundo tercero\n",
       "izquierda       7       9      11\n",
       "derecha         8      10      12\n",
       "\n",
       ", , tres\n",
       "\n",
       "          primero segundo tercero\n",
       "izquierda      13      15      17\n",
       "derecha        14      16      18\n",
       "\n",
       ", , cuatro\n",
       "\n",
       "          primero segundo tercero\n",
       "izquierda      19      21      23\n",
       "derecha        20      22      24\n"
      ]
     },
     "metadata": {},
     "output_type": "display_data"
    },
    {
     "name": "stdout",
     "output_type": "stream",
     "text": [
      ", , uno\n",
      "\n",
      "          primero segundo tercero\n",
      "izquierda       1       3       5\n",
      "derecha         2       4       6\n",
      "\n",
      ", , dos\n",
      "\n",
      "          primero segundo tercero\n",
      "izquierda       7       9      11\n",
      "derecha         8      10      12\n",
      "\n",
      ", , tres\n",
      "\n",
      "          primero segundo tercero\n",
      "izquierda      13      15      17\n",
      "derecha        14      16      18\n",
      "\n",
      ", , cuatro\n",
      "\n",
      "          primero segundo tercero\n",
      "izquierda      19      21      23\n",
      "derecha        20      22      24\n",
      "\n"
     ]
    }
   ],
   "source": [
    "(array_3d <- array(\n",
    "  1:24,\n",
    "  dim = c(2, 3, 4),\n",
    "  dimnames = list(\n",
    "    c(\"izquierda\", \"derecha\"),\n",
    "    c(\"primero\", \"segundo\", \"tercero\"),\n",
    "    c(\"uno\", \"dos\", \"tres\", \"cuatro\")\n",
    "  )\n",
    "))\n",
    "print(array_3d)"
   ]
  },
  {
   "cell_type": "raw",
   "id": "4db9e628-2cbe-44a4-807a-1cde3f78fd1b",
   "metadata": {},
   "source": [
    "Podemos crear un array de cualquier número de dimensiones mediante la función array, indicándole un vector con todos los valores, otro con la longitud en cada dimensión (lo cual implica cuántas dimensiones queremos) y una lista de vectores con los nombres para las distintas dimensiones."
   ]
  },
  {
   "cell_type": "code",
   "execution_count": 3,
   "id": "9d3b8b26-3ad4-4109-9575-fa8c0c6929ce",
   "metadata": {},
   "outputs": [
    {
     "data": {
      "text/html": [
       "<style>\n",
       ".list-inline {list-style: none; margin:0; padding: 0}\n",
       ".list-inline>li {display: inline-block}\n",
       ".list-inline>li:not(:last-child)::after {content: \"\\00b7\"; padding: 0 .5ex}\n",
       "</style>\n",
       "<ol class=list-inline><li>2</li><li>3</li><li>4</li></ol>\n"
      ],
      "text/latex": [
       "\\begin{enumerate*}\n",
       "\\item 2\n",
       "\\item 3\n",
       "\\item 4\n",
       "\\end{enumerate*}\n"
      ],
      "text/markdown": [
       "1. 2\n",
       "2. 3\n",
       "3. 4\n",
       "\n",
       "\n"
      ],
      "text/plain": [
       "[1] 2 3 4"
      ]
     },
     "metadata": {},
     "output_type": "display_data"
    },
    {
     "data": {
      "text/html": [
       "3"
      ],
      "text/latex": [
       "3"
      ],
      "text/markdown": [
       "3"
      ],
      "text/plain": [
       "[1] 3"
      ]
     },
     "metadata": {},
     "output_type": "display_data"
    }
   ],
   "source": [
    "dim(array_3d)\n",
    "length(dim(array_3d))"
   ]
  },
  {
   "cell_type": "raw",
   "id": "3d80bcdc-9c4e-45ab-a645-b3b5b224d183",
   "metadata": {},
   "source": [
    "Si tenemos un array podemos saber cuántas dimensiones tiene y la longitud de cada una con la función dim."
   ]
  },
  {
   "cell_type": "code",
   "execution_count": 7,
   "id": "57a54980-ae56-4642-ae2c-4277c8f79f5c",
   "metadata": {},
   "outputs": [
    {
     "name": "stdout",
     "output_type": "stream",
     "text": [
      ", , dos\n",
      "\n",
      "          primero segundo\n",
      "izquierda       7       9\n",
      "derecha         8      10\n",
      "\n",
      ", , tres\n",
      "\n",
      "          primero segundo\n",
      "izquierda      13      15\n",
      "derecha        14      16\n",
      "\n"
     ]
    }
   ],
   "source": [
    "print(array_3d[,1:2,c(2,3)])"
   ]
  },
  {
   "cell_type": "raw",
   "id": "82c037cc-1be5-4a45-9488-9fd6e00f410c",
   "metadata": {},
   "source": [
    "Podemos acceder al array utilizando corchetes \"[]\" de un modo similar a como lo hacemos con los vectores, pero usando comas para separar las distintas dimensiones (si en una posición no ponemos nada -vacío- obtendremos su contenido completo).\n",
    "Las matrices son un caso especial de arrays limitado a 2 dimensiones."
   ]
  },
  {
   "cell_type": "code",
   "execution_count": 8,
   "id": "047e777c-ec38-42a1-9326-9bd1fc472604",
   "metadata": {},
   "outputs": [
    {
     "data": {
      "text/html": [
       "<table class=\"dataframe\">\n",
       "<caption>A matrix: 3 × 2 of type int</caption>\n",
       "<thead>\n",
       "\t<tr><th></th><th scope=col>arriba</th><th scope=col>abajo</th></tr>\n",
       "</thead>\n",
       "<tbody>\n",
       "\t<tr><th scope=row>uno</th><td>1</td><td>4</td></tr>\n",
       "\t<tr><th scope=row>dos</th><td>2</td><td>5</td></tr>\n",
       "\t<tr><th scope=row>tres</th><td>3</td><td>6</td></tr>\n",
       "</tbody>\n",
       "</table>\n"
      ],
      "text/latex": [
       "A matrix: 3 × 2 of type int\n",
       "\\begin{tabular}{r|ll}\n",
       "  & arriba & abajo\\\\\n",
       "\\hline\n",
       "\tuno & 1 & 4\\\\\n",
       "\tdos & 2 & 5\\\\\n",
       "\ttres & 3 & 6\\\\\n",
       "\\end{tabular}\n"
      ],
      "text/markdown": [
       "\n",
       "A matrix: 3 × 2 of type int\n",
       "\n",
       "| <!--/--> | arriba | abajo |\n",
       "|---|---|---|\n",
       "| uno | 1 | 4 |\n",
       "| dos | 2 | 5 |\n",
       "| tres | 3 | 6 |\n",
       "\n"
      ],
      "text/plain": [
       "     arriba abajo\n",
       "uno  1      4    \n",
       "dos  2      5    \n",
       "tres 3      6    "
      ]
     },
     "metadata": {},
     "output_type": "display_data"
    }
   ],
   "source": [
    "(matriz <- matrix(\n",
    "  1:6,\n",
    "  nrow = 3, #ncol = 2 hace lo mismo\n",
    "  dimnames = list(\n",
    "    c(\"uno\", \"dos\", \"tres\"),\n",
    "    c(\"arriba\", \"abajo\")\n",
    "  )\n",
    "))"
   ]
  },
  {
   "cell_type": "raw",
   "id": "18f985f3-2641-4d25-ba7d-d1056ccb7ad1",
   "metadata": {},
   "source": [
    "Podemos crear una matriz con la función matrix, pasándole como argumentos un vector con los números, el número de filas (o de columnas) y una lista de vectores con los nombres para las distintas dimensiones."
   ]
  },
  {
   "cell_type": "code",
   "execution_count": 10,
   "id": "41c6ad48-8d6b-48c3-a4a9-8efd99e270de",
   "metadata": {},
   "outputs": [
    {
     "name": "stdout",
     "output_type": "stream",
     "text": [
      " uno  dos tres \n",
      "   4    5    6 \n"
     ]
    }
   ],
   "source": [
    "print(matriz[,2])"
   ]
  },
  {
   "cell_type": "raw",
   "id": "0e1a6b3f-4df6-4606-913c-833db45ff4cf",
   "metadata": {},
   "source": [
    "El acceso a las posiciones de la matriz es igual que en el caso de los arrays, teniendo en cuenta que sólo tienen 2 dimensiones."
   ]
  },
  {
   "cell_type": "code",
   "execution_count": 11,
   "id": "f20c0623-95c3-42fb-9459-d08f1499d8ee",
   "metadata": {},
   "outputs": [
    {
     "data": {
      "text/html": [
       "<table class=\"dataframe\">\n",
       "<caption>A matrix: 3 × 2 of type int</caption>\n",
       "<thead>\n",
       "\t<tr><th></th><th scope=col>arriba</th><th scope=col>abajo</th></tr>\n",
       "</thead>\n",
       "<tbody>\n",
       "\t<tr><th scope=row>uno</th><td>4</td><td>10</td></tr>\n",
       "\t<tr><th scope=row>dos</th><td>6</td><td>12</td></tr>\n",
       "\t<tr><th scope=row>tres</th><td>8</td><td>14</td></tr>\n",
       "</tbody>\n",
       "</table>\n"
      ],
      "text/latex": [
       "A matrix: 3 × 2 of type int\n",
       "\\begin{tabular}{r|ll}\n",
       "  & arriba & abajo\\\\\n",
       "\\hline\n",
       "\tuno & 4 & 10\\\\\n",
       "\tdos & 6 & 12\\\\\n",
       "\ttres & 8 & 14\\\\\n",
       "\\end{tabular}\n"
      ],
      "text/markdown": [
       "\n",
       "A matrix: 3 × 2 of type int\n",
       "\n",
       "| <!--/--> | arriba | abajo |\n",
       "|---|---|---|\n",
       "| uno | 4 | 10 |\n",
       "| dos | 6 | 12 |\n",
       "| tres | 8 | 14 |\n",
       "\n"
      ],
      "text/plain": [
       "     arriba abajo\n",
       "uno  4      10   \n",
       "dos  6      12   \n",
       "tres 8      14   "
      ]
     },
     "metadata": {},
     "output_type": "display_data"
    }
   ],
   "source": [
    "matriz2 <- matrix(\n",
    "  3:8,\n",
    "  nrow = 3, #ncol = 2 hace lo mismo\n",
    "  dimnames = list(\n",
    "    c(\"uno\", \"dos\", \"tres\"),\n",
    "    c(\"arriba\", \"abajo\")\n",
    "  )\n",
    ")\n",
    "\n",
    "matriz + matriz2"
   ]
  },
  {
   "cell_type": "raw",
   "id": "18f36982-e1e9-4d97-b8b4-89347c76ac9d",
   "metadata": {},
   "source": [
    "Podemos realizar operaciones de álgebra de matrices."
   ]
  },
  {
   "cell_type": "markdown",
   "id": "47a2e987-64a8-4500-80dc-1c31fd4ac8ab",
   "metadata": {},
   "source": [
    "# 3.3 Listas y Dataframes"
   ]
  },
  {
   "cell_type": "raw",
   "id": "5a4d228a-8dac-45cf-8349-9462ef2f42c2",
   "metadata": {},
   "source": [
    "Vectores, arrays y matrices tienen el inconveniente de que sólo permiten contener elementos de un único típo (por ejemplo todos numéricos o todos cadenas de caracteres).\n",
    "\n",
    "Una lista es algo equivalente a un vector en el que cada elemento puede ser de un tipo distinto."
   ]
  },
  {
   "cell_type": "code",
   "execution_count": 13,
   "id": "3955bf5b-3007-4d36-b08e-1141f3c9342d",
   "metadata": {},
   "outputs": [
    {
     "data": {
      "text/html": [
       "<ol>\n",
       "\t<li><style>\n",
       ".list-inline {list-style: none; margin:0; padding: 0}\n",
       ".list-inline>li {display: inline-block}\n",
       ".list-inline>li:not(:last-child)::after {content: \"\\00b7\"; padding: 0 .5ex}\n",
       "</style>\n",
       "<ol class=list-inline><li>1</li><li>2</li><li>3</li></ol>\n",
       "</li>\n",
       "\t<li>33</li>\n",
       "\t<li><table class=\"dataframe\">\n",
       "<caption>A matrix: 2 × 2 of type dbl</caption>\n",
       "<tbody>\n",
       "\t<tr><td>6</td><td>14</td></tr>\n",
       "\t<tr><td>7</td><td> 1</td></tr>\n",
       "</tbody>\n",
       "</table>\n",
       "</li>\n",
       "\t<li><pre class=language-r><code>function (x, ...) \n",
       "UseMethod(\"mean\")</code></pre></li>\n",
       "</ol>\n"
      ],
      "text/latex": [
       "\\begin{enumerate}\n",
       "\\item \\begin{enumerate*}\n",
       "\\item 1\n",
       "\\item 2\n",
       "\\item 3\n",
       "\\end{enumerate*}\n",
       "\n",
       "\\item 33\n",
       "\\item A matrix: 2 × 2 of type dbl\n",
       "\\begin{tabular}{ll}\n",
       "\t 6 & 14\\\\\n",
       "\t 7 &  1\\\\\n",
       "\\end{tabular}\n",
       "\n",
       "\\item \\begin{minted}{r}\n",
       "function (x, ...) \n",
       "UseMethod(\"mean\")\n",
       "\\end{minted}\n",
       "\\end{enumerate}\n"
      ],
      "text/markdown": [
       "1. 1. 1\n",
       "2. 2\n",
       "3. 3\n",
       "\n",
       "\n",
       "\n",
       "2. 33\n",
       "3. \n",
       "A matrix: 2 × 2 of type dbl\n",
       "\n",
       "| 6 | 14 |\n",
       "| 7 |  1 |\n",
       "\n",
       "\n",
       "4. ```r\n",
       "function (x, ...) \n",
       "UseMethod(\"mean\")\n",
       "```\n",
       "\n",
       "\n"
      ],
      "text/plain": [
       "[[1]]\n",
       "[1] 1 2 3\n",
       "\n",
       "[[2]]\n",
       "[1] 33\n",
       "\n",
       "[[3]]\n",
       "     [,1] [,2]\n",
       "[1,]    6   14\n",
       "[2,]    7    1\n",
       "\n",
       "[[4]]\n",
       "function (x, ...) \n",
       "UseMethod(\"mean\")\n",
       "<bytecode: 0x5935ccaabd30>\n",
       "<environment: namespace:base>\n"
      ]
     },
     "metadata": {},
     "output_type": "display_data"
    },
    {
     "name": "stdout",
     "output_type": "stream",
     "text": [
      "[[1]]\n",
      "[1] 1 2 3\n",
      "\n",
      "[[2]]\n",
      "[1] 33\n",
      "\n",
      "[[3]]\n",
      "     [,1] [,2]\n",
      "[1,]    6   14\n",
      "[2,]    7    1\n",
      "\n",
      "[[4]]\n",
      "function (x, ...) \n",
      "UseMethod(\"mean\")\n",
      "<bytecode: 0x5935ccaabd30>\n",
      "<environment: namespace:base>\n",
      "\n"
     ]
    }
   ],
   "source": [
    "(lista <- list(\n",
    "  c(1, 2, 3),\n",
    "  33,\n",
    "  matrix(c(6, 7, 14, 1), nrow = 2),\n",
    "  mean\n",
    "))\n",
    "print(lista)"
   ]
  },
  {
   "cell_type": "raw",
   "id": "aa0d195c-7550-4bd3-a54e-9e68471b246d",
   "metadata": {},
   "source": [
    "Podemos crear una lista mediante la función list, pasándole como argumentos los distintos valores que queramos incluír en ella. \n",
    "En este ejemplo hemos creado la lista con un vector, un valor numérico, una matriz y una función (recordemos que R permite usar funciones como si fuesen variables)."
   ]
  },
  {
   "cell_type": "code",
   "execution_count": 15,
   "id": "4a9ac541-5247-4f69-90cd-1c77fa291390",
   "metadata": {},
   "outputs": [
    {
     "name": "stdout",
     "output_type": "stream",
     "text": [
      "$vector\n",
      "[1] 1 2 3\n",
      "\n",
      "$numero\n",
      "[1] 33\n",
      "\n",
      "$matriz\n",
      "     [,1] [,2]\n",
      "[1,]    6   14\n",
      "[2,]    7    1\n",
      "\n",
      "$`funcion mean`\n",
      "function (x, ...) \n",
      "UseMethod(\"mean\")\n",
      "<bytecode: 0x5935ccaabd30>\n",
      "<environment: namespace:base>\n",
      "\n"
     ]
    }
   ],
   "source": [
    "names(lista) <- c(\"vector\", \"numero\", \"matriz\", \"funcion mean\")\n",
    "\n",
    "print(lista)"
   ]
  },
  {
   "cell_type": "raw",
   "id": "05bd0c3f-509b-4b49-8193-684716bfcfad",
   "metadata": {},
   "source": [
    "De igual modo que con los vectores, podemos asignar nombres a sus elementos."
   ]
  },
  {
   "cell_type": "code",
   "execution_count": 16,
   "id": "7ec49633-5c4b-4b73-b838-e039842b6f7e",
   "metadata": {},
   "outputs": [
    {
     "name": "stdout",
     "output_type": "stream",
     "text": [
      "$numero\n",
      "[1] 33\n",
      "\n",
      "$matriz\n",
      "     [,1] [,2]\n",
      "[1,]    6   14\n",
      "[2,]    7    1\n",
      "\n"
     ]
    }
   ],
   "source": [
    "print(lista[2:3])"
   ]
  },
  {
   "cell_type": "raw",
   "id": "429ebd89-01fc-4751-8122-0cfff3515ac4",
   "metadata": {},
   "source": [
    "Podemos acceder a la lista igual que hacíamos con los vectores.\n",
    "Los dataframes son el equivalente a matrices (por lo tanto bidimensionales) que pueden almacenar distintos tipos de datos, siendo por lo tanto similares al contenido de una hoja de cálculo.\n",
    "Por ello están especialmente indicados para trabajar con conjuntos de datos en su formato más común: secuencias de filas, las cuales están formadas por columnas que pueden contener distintos tipos de datos."
   ]
  },
  {
   "cell_type": "code",
   "execution_count": 17,
   "id": "ae4100f7-36ab-4df3-9be7-b017a9a0e469",
   "metadata": {},
   "outputs": [
    {
     "data": {
      "text/html": [
       "<table class=\"dataframe\">\n",
       "<caption>A data.frame: 5 × 3</caption>\n",
       "<thead>\n",
       "\t<tr><th scope=col>x</th><th scope=col>y</th><th scope=col>z</th></tr>\n",
       "\t<tr><th scope=col>&lt;chr&gt;</th><th scope=col>&lt;int&gt;</th><th scope=col>&lt;lgl&gt;</th></tr>\n",
       "</thead>\n",
       "<tbody>\n",
       "\t<tr><td>a</td><td>1</td><td>FALSE</td></tr>\n",
       "\t<tr><td>b</td><td>2</td><td>FALSE</td></tr>\n",
       "\t<tr><td>c</td><td>3</td><td> TRUE</td></tr>\n",
       "\t<tr><td>d</td><td>4</td><td> TRUE</td></tr>\n",
       "\t<tr><td>e</td><td>5</td><td> TRUE</td></tr>\n",
       "</tbody>\n",
       "</table>\n"
      ],
      "text/latex": [
       "A data.frame: 5 × 3\n",
       "\\begin{tabular}{lll}\n",
       " x & y & z\\\\\n",
       " <chr> & <int> & <lgl>\\\\\n",
       "\\hline\n",
       "\t a & 1 & FALSE\\\\\n",
       "\t b & 2 & FALSE\\\\\n",
       "\t c & 3 &  TRUE\\\\\n",
       "\t d & 4 &  TRUE\\\\\n",
       "\t e & 5 &  TRUE\\\\\n",
       "\\end{tabular}\n"
      ],
      "text/markdown": [
       "\n",
       "A data.frame: 5 × 3\n",
       "\n",
       "| x &lt;chr&gt; | y &lt;int&gt; | z &lt;lgl&gt; |\n",
       "|---|---|---|\n",
       "| a | 1 | FALSE |\n",
       "| b | 2 | FALSE |\n",
       "| c | 3 |  TRUE |\n",
       "| d | 4 |  TRUE |\n",
       "| e | 5 |  TRUE |\n",
       "\n"
      ],
      "text/plain": [
       "  x y z    \n",
       "1 a 1 FALSE\n",
       "2 b 2 FALSE\n",
       "3 c 3  TRUE\n",
       "4 d 4  TRUE\n",
       "5 e 5  TRUE"
      ]
     },
     "metadata": {},
     "output_type": "display_data"
    }
   ],
   "source": [
    "v <- 1:5\n",
    "(mi_dataframe <- data.frame(\n",
    "x = letters[1:5],\n",
    "y = v,\n",
    "z = v > 2\n",
    "))"
   ]
  },
  {
   "cell_type": "raw",
   "id": "e9316000-efc5-494f-b193-3725da1542b3",
   "metadata": {},
   "source": [
    "Podemos crear dataframes mediante la función data.frame, pasándole los datos por columnas (todas de la misma longitud). Como podemos ver, cada columna puede contener distinto tipo de datos (pero toda la columna el mismo)."
   ]
  },
  {
   "cell_type": "code",
   "execution_count": 18,
   "id": "86769fff-5e16-4027-a288-bf01a7578dda",
   "metadata": {},
   "outputs": [
    {
     "data": {
      "text/html": [
       "<table class=\"dataframe\">\n",
       "<caption>A data.frame: 2 × 2</caption>\n",
       "<thead>\n",
       "\t<tr><th></th><th scope=col>x</th><th scope=col>y</th></tr>\n",
       "\t<tr><th></th><th scope=col>&lt;chr&gt;</th><th scope=col>&lt;int&gt;</th></tr>\n",
       "</thead>\n",
       "<tbody>\n",
       "\t<tr><th scope=row>2</th><td>b</td><td>2</td></tr>\n",
       "\t<tr><th scope=row>3</th><td>c</td><td>3</td></tr>\n",
       "</tbody>\n",
       "</table>\n"
      ],
      "text/latex": [
       "A data.frame: 2 × 2\n",
       "\\begin{tabular}{r|ll}\n",
       "  & x & y\\\\\n",
       "  & <chr> & <int>\\\\\n",
       "\\hline\n",
       "\t2 & b & 2\\\\\n",
       "\t3 & c & 3\\\\\n",
       "\\end{tabular}\n"
      ],
      "text/markdown": [
       "\n",
       "A data.frame: 2 × 2\n",
       "\n",
       "| <!--/--> | x &lt;chr&gt; | y &lt;int&gt; |\n",
       "|---|---|---|\n",
       "| 2 | b | 2 |\n",
       "| 3 | c | 3 |\n",
       "\n"
      ],
      "text/plain": [
       "  x y\n",
       "2 b 2\n",
       "3 c 3"
      ]
     },
     "metadata": {},
     "output_type": "display_data"
    }
   ],
   "source": [
    "mi_dataframe[2:3,c(1,2)]"
   ]
  },
  {
   "cell_type": "raw",
   "id": "6c655f97-e185-442f-8789-72c3805a3da8",
   "metadata": {},
   "source": [
    "Podemos acceder a los dataframes de modo análogo a como lo hacemos con matrices."
   ]
  },
  {
   "cell_type": "code",
   "execution_count": 19,
   "id": "759b5d03-e50b-4a48-95c1-0cf593e6a6ba",
   "metadata": {},
   "outputs": [
    {
     "data": {
      "text/html": [
       "<table class=\"dataframe\">\n",
       "<caption>A data.frame: 5 × 6</caption>\n",
       "<thead>\n",
       "\t<tr><th scope=col>x</th><th scope=col>y</th><th scope=col>z</th><th scope=col>col4</th><th scope=col>col5</th><th scope=col>col6</th></tr>\n",
       "\t<tr><th scope=col>&lt;chr&gt;</th><th scope=col>&lt;int&gt;</th><th scope=col>&lt;lgl&gt;</th><th scope=col>&lt;int&gt;</th><th scope=col>&lt;dbl&gt;</th><th scope=col>&lt;lgl&gt;</th></tr>\n",
       "</thead>\n",
       "<tbody>\n",
       "\t<tr><td>a</td><td>1</td><td>FALSE</td><td> 6</td><td>4</td><td> TRUE</td></tr>\n",
       "\t<tr><td>b</td><td>2</td><td>FALSE</td><td> 7</td><td>5</td><td> TRUE</td></tr>\n",
       "\t<tr><td>c</td><td>3</td><td> TRUE</td><td> 8</td><td>6</td><td>FALSE</td></tr>\n",
       "\t<tr><td>d</td><td>4</td><td> TRUE</td><td> 9</td><td>7</td><td>FALSE</td></tr>\n",
       "\t<tr><td>e</td><td>5</td><td> TRUE</td><td>10</td><td>8</td><td>FALSE</td></tr>\n",
       "</tbody>\n",
       "</table>\n"
      ],
      "text/latex": [
       "A data.frame: 5 × 6\n",
       "\\begin{tabular}{llllll}\n",
       " x & y & z & col4 & col5 & col6\\\\\n",
       " <chr> & <int> & <lgl> & <int> & <dbl> & <lgl>\\\\\n",
       "\\hline\n",
       "\t a & 1 & FALSE &  6 & 4 &  TRUE\\\\\n",
       "\t b & 2 & FALSE &  7 & 5 &  TRUE\\\\\n",
       "\t c & 3 &  TRUE &  8 & 6 & FALSE\\\\\n",
       "\t d & 4 &  TRUE &  9 & 7 & FALSE\\\\\n",
       "\t e & 5 &  TRUE & 10 & 8 & FALSE\\\\\n",
       "\\end{tabular}\n"
      ],
      "text/markdown": [
       "\n",
       "A data.frame: 5 × 6\n",
       "\n",
       "| x &lt;chr&gt; | y &lt;int&gt; | z &lt;lgl&gt; | col4 &lt;int&gt; | col5 &lt;dbl&gt; | col6 &lt;lgl&gt; |\n",
       "|---|---|---|---|---|---|\n",
       "| a | 1 | FALSE |  6 | 4 |  TRUE |\n",
       "| b | 2 | FALSE |  7 | 5 |  TRUE |\n",
       "| c | 3 |  TRUE |  8 | 6 | FALSE |\n",
       "| d | 4 |  TRUE |  9 | 7 | FALSE |\n",
       "| e | 5 |  TRUE | 10 | 8 | FALSE |\n",
       "\n"
      ],
      "text/plain": [
       "  x y z     col4 col5 col6 \n",
       "1 a 1 FALSE  6   4     TRUE\n",
       "2 b 2 FALSE  7   5     TRUE\n",
       "3 c 3  TRUE  8   6    FALSE\n",
       "4 d 4  TRUE  9   7    FALSE\n",
       "5 e 5  TRUE 10   8    FALSE"
      ]
     },
     "metadata": {},
     "output_type": "display_data"
    }
   ],
   "source": [
    "mi_dataframe2 <- data.frame(\n",
    "col4 = 6:10,\n",
    "col5 = v+3,\n",
    "col6 = v < 3\n",
    ")\n",
    "\n",
    "cbind(mi_dataframe, mi_dataframe2)"
   ]
  },
  {
   "cell_type": "raw",
   "id": "4ffded8e-61f3-40aa-8d67-19d43e100916",
   "metadata": {},
   "source": [
    "Podemos realizar distintas operaciones con dataframes, como por ejemplo enlazarlos por columnas con cbind."
   ]
  },
  {
   "cell_type": "code",
   "execution_count": 21,
   "id": "8f0e9c12-444a-4c9a-a6cf-0533afdf5b40",
   "metadata": {},
   "outputs": [
    {
     "data": {
      "text/html": [
       "<table class=\"dataframe\">\n",
       "<caption>A data.frame: 8 × 3</caption>\n",
       "<thead>\n",
       "\t<tr><th scope=col>x</th><th scope=col>y</th><th scope=col>z</th></tr>\n",
       "\t<tr><th scope=col>&lt;chr&gt;</th><th scope=col>&lt;int&gt;</th><th scope=col>&lt;lgl&gt;</th></tr>\n",
       "</thead>\n",
       "<tbody>\n",
       "\t<tr><td>a</td><td>1</td><td>FALSE</td></tr>\n",
       "\t<tr><td>b</td><td>2</td><td>FALSE</td></tr>\n",
       "\t<tr><td>c</td><td>3</td><td> TRUE</td></tr>\n",
       "\t<tr><td>d</td><td>4</td><td> TRUE</td></tr>\n",
       "\t<tr><td>e</td><td>5</td><td> TRUE</td></tr>\n",
       "\t<tr><td>f</td><td>6</td><td> TRUE</td></tr>\n",
       "\t<tr><td>g</td><td>7</td><td>FALSE</td></tr>\n",
       "\t<tr><td>h</td><td>8</td><td> TRUE</td></tr>\n",
       "</tbody>\n",
       "</table>\n"
      ],
      "text/latex": [
       "A data.frame: 8 × 3\n",
       "\\begin{tabular}{lll}\n",
       " x & y & z\\\\\n",
       " <chr> & <int> & <lgl>\\\\\n",
       "\\hline\n",
       "\t a & 1 & FALSE\\\\\n",
       "\t b & 2 & FALSE\\\\\n",
       "\t c & 3 &  TRUE\\\\\n",
       "\t d & 4 &  TRUE\\\\\n",
       "\t e & 5 &  TRUE\\\\\n",
       "\t f & 6 &  TRUE\\\\\n",
       "\t g & 7 & FALSE\\\\\n",
       "\t h & 8 &  TRUE\\\\\n",
       "\\end{tabular}\n"
      ],
      "text/markdown": [
       "\n",
       "A data.frame: 8 × 3\n",
       "\n",
       "| x &lt;chr&gt; | y &lt;int&gt; | z &lt;lgl&gt; |\n",
       "|---|---|---|\n",
       "| a | 1 | FALSE |\n",
       "| b | 2 | FALSE |\n",
       "| c | 3 |  TRUE |\n",
       "| d | 4 |  TRUE |\n",
       "| e | 5 |  TRUE |\n",
       "| f | 6 |  TRUE |\n",
       "| g | 7 | FALSE |\n",
       "| h | 8 |  TRUE |\n",
       "\n"
      ],
      "text/plain": [
       "  x y z    \n",
       "1 a 1 FALSE\n",
       "2 b 2 FALSE\n",
       "3 c 3  TRUE\n",
       "4 d 4  TRUE\n",
       "5 e 5  TRUE\n",
       "6 f 6  TRUE\n",
       "7 g 7 FALSE\n",
       "8 h 8  TRUE"
      ]
     },
     "metadata": {},
     "output_type": "display_data"
    }
   ],
   "source": [
    "mi_dataframe3 <- data.frame(\n",
    "x = letters[6:8],\n",
    "y = 6:8,\n",
    "z = c(TRUE,FALSE,TRUE)\n",
    ")\n",
    "\n",
    "rbind(mi_dataframe, mi_dataframe3)"
   ]
  },
  {
   "cell_type": "raw",
   "id": "7ec0fdc3-a5df-4780-9eea-447db1cd971d",
   "metadata": {},
   "source": [
    "De modo similar, también podemos enlazar dos dataframes por filas con rbind."
   ]
  },
  {
   "cell_type": "code",
   "execution_count": null,
   "id": "13ffc901-d6b9-4873-9c1e-5cabca674b5b",
   "metadata": {},
   "outputs": [],
   "source": []
  }
 ],
 "metadata": {
  "kernelspec": {
   "display_name": "R",
   "language": "R",
   "name": "ir"
  },
  "language_info": {
   "codemirror_mode": "r",
   "file_extension": ".r",
   "mimetype": "text/x-r-source",
   "name": "R",
   "pygments_lexer": "r",
   "version": "4.3.3"
  }
 },
 "nbformat": 4,
 "nbformat_minor": 5
}
