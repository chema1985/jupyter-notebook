{
 "cells": [
  {
   "cell_type": "markdown",
   "id": "a11e287b-e14a-4655-b88a-26a3bb849580",
   "metadata": {
    "jp-MarkdownHeadingCollapsed": true
   },
   "source": [
    "# 3.2 Arrrays y Matrices"
   ]
  },
  {
   "cell_type": "raw",
   "id": "c24f1e0c-7bae-4add-b7a8-6c98b0ca75b6",
   "metadata": {},
   "source": [
    "Hasta ahora hemos visto que R trabaja sin problemas con vectores, que son objetos unidimensionales.\n",
    "\n",
    "Sin embargo, también podemos trabajar con conjuntos de datos multidimensionales mediante arrays. Hay que tener en cuenta que los arrays son rectangulares (es decir que todas las filas deben tener la misma longitud, al igual que todas las columnas y todas las demás posibles dimensiones)."
   ]
  },
  {
   "cell_type": "code",
   "execution_count": 6,
   "id": "4c52f939-4e26-4e48-894f-a1a1a9a42004",
   "metadata": {},
   "outputs": [
    {
     "data": {
      "text/html": [
       "<style>\n",
       ".list-inline {list-style: none; margin:0; padding: 0}\n",
       ".list-inline>li {display: inline-block}\n",
       ".list-inline>li:not(:last-child)::after {content: \"\\00b7\"; padding: 0 .5ex}\n",
       "</style>\n",
       "<ol class=list-inline><li>1</li><li>2</li><li>3</li><li>4</li><li>5</li><li>6</li><li>7</li><li>8</li><li>9</li><li>10</li><li>11</li><li>12</li><li>13</li><li>14</li><li>15</li><li>16</li><li>17</li><li>18</li><li>19</li><li>20</li><li>21</li><li>22</li><li>23</li><li>24</li></ol>\n"
      ],
      "text/latex": [
       "\\begin{enumerate*}\n",
       "\\item 1\n",
       "\\item 2\n",
       "\\item 3\n",
       "\\item 4\n",
       "\\item 5\n",
       "\\item 6\n",
       "\\item 7\n",
       "\\item 8\n",
       "\\item 9\n",
       "\\item 10\n",
       "\\item 11\n",
       "\\item 12\n",
       "\\item 13\n",
       "\\item 14\n",
       "\\item 15\n",
       "\\item 16\n",
       "\\item 17\n",
       "\\item 18\n",
       "\\item 19\n",
       "\\item 20\n",
       "\\item 21\n",
       "\\item 22\n",
       "\\item 23\n",
       "\\item 24\n",
       "\\end{enumerate*}\n"
      ],
      "text/markdown": [
       "1. 1\n",
       "2. 2\n",
       "3. 3\n",
       "4. 4\n",
       "5. 5\n",
       "6. 6\n",
       "7. 7\n",
       "8. 8\n",
       "9. 9\n",
       "10. 10\n",
       "11. 11\n",
       "12. 12\n",
       "13. 13\n",
       "14. 14\n",
       "15. 15\n",
       "16. 16\n",
       "17. 17\n",
       "18. 18\n",
       "19. 19\n",
       "20. 20\n",
       "21. 21\n",
       "22. 22\n",
       "23. 23\n",
       "24. 24\n",
       "\n",
       "\n"
      ],
      "text/plain": [
       ", , uno\n",
       "\n",
       "          primero segundo tercero\n",
       "izquierda       1       3       5\n",
       "derecha         2       4       6\n",
       "\n",
       ", , dos\n",
       "\n",
       "          primero segundo tercero\n",
       "izquierda       7       9      11\n",
       "derecha         8      10      12\n",
       "\n",
       ", , tres\n",
       "\n",
       "          primero segundo tercero\n",
       "izquierda      13      15      17\n",
       "derecha        14      16      18\n",
       "\n",
       ", , cuatro\n",
       "\n",
       "          primero segundo tercero\n",
       "izquierda      19      21      23\n",
       "derecha        20      22      24\n"
      ]
     },
     "metadata": {},
     "output_type": "display_data"
    },
    {
     "name": "stdout",
     "output_type": "stream",
     "text": [
      ", , uno\n",
      "\n",
      "          primero segundo tercero\n",
      "izquierda       1       3       5\n",
      "derecha         2       4       6\n",
      "\n",
      ", , dos\n",
      "\n",
      "          primero segundo tercero\n",
      "izquierda       7       9      11\n",
      "derecha         8      10      12\n",
      "\n",
      ", , tres\n",
      "\n",
      "          primero segundo tercero\n",
      "izquierda      13      15      17\n",
      "derecha        14      16      18\n",
      "\n",
      ", , cuatro\n",
      "\n",
      "          primero segundo tercero\n",
      "izquierda      19      21      23\n",
      "derecha        20      22      24\n",
      "\n"
     ]
    }
   ],
   "source": [
    "(array_3d <- array(\n",
    "  1:24,\n",
    "  dim = c(2, 3, 4),\n",
    "  dimnames = list(\n",
    "    c(\"izquierda\", \"derecha\"),\n",
    "    c(\"primero\", \"segundo\", \"tercero\"),\n",
    "    c(\"uno\", \"dos\", \"tres\", \"cuatro\")\n",
    "  )\n",
    "))\n",
    "print(array_3d)"
   ]
  },
  {
   "cell_type": "raw",
   "id": "4db9e628-2cbe-44a4-807a-1cde3f78fd1b",
   "metadata": {},
   "source": [
    "Podemos crear un array de cualquier número de dimensiones mediante la función array, indicándole un vector con todos los valores, otro con la longitud en cada dimensión (lo cual implica cuántas dimensiones queremos) y una lista de vectores con los nombres para las distintas dimensiones."
   ]
  },
  {
   "cell_type": "code",
   "execution_count": 3,
   "id": "9d3b8b26-3ad4-4109-9575-fa8c0c6929ce",
   "metadata": {},
   "outputs": [
    {
     "data": {
      "text/html": [
       "<style>\n",
       ".list-inline {list-style: none; margin:0; padding: 0}\n",
       ".list-inline>li {display: inline-block}\n",
       ".list-inline>li:not(:last-child)::after {content: \"\\00b7\"; padding: 0 .5ex}\n",
       "</style>\n",
       "<ol class=list-inline><li>2</li><li>3</li><li>4</li></ol>\n"
      ],
      "text/latex": [
       "\\begin{enumerate*}\n",
       "\\item 2\n",
       "\\item 3\n",
       "\\item 4\n",
       "\\end{enumerate*}\n"
      ],
      "text/markdown": [
       "1. 2\n",
       "2. 3\n",
       "3. 4\n",
       "\n",
       "\n"
      ],
      "text/plain": [
       "[1] 2 3 4"
      ]
     },
     "metadata": {},
     "output_type": "display_data"
    },
    {
     "data": {
      "text/html": [
       "3"
      ],
      "text/latex": [
       "3"
      ],
      "text/markdown": [
       "3"
      ],
      "text/plain": [
       "[1] 3"
      ]
     },
     "metadata": {},
     "output_type": "display_data"
    }
   ],
   "source": [
    "dim(array_3d)\n",
    "length(dim(array_3d))"
   ]
  },
  {
   "cell_type": "raw",
   "id": "3d80bcdc-9c4e-45ab-a645-b3b5b224d183",
   "metadata": {},
   "source": [
    "Si tenemos un array podemos saber cuántas dimensiones tiene y la longitud de cada una con la función dim."
   ]
  },
  {
   "cell_type": "code",
   "execution_count": 7,
   "id": "57a54980-ae56-4642-ae2c-4277c8f79f5c",
   "metadata": {},
   "outputs": [
    {
     "name": "stdout",
     "output_type": "stream",
     "text": [
      ", , dos\n",
      "\n",
      "          primero segundo\n",
      "izquierda       7       9\n",
      "derecha         8      10\n",
      "\n",
      ", , tres\n",
      "\n",
      "          primero segundo\n",
      "izquierda      13      15\n",
      "derecha        14      16\n",
      "\n"
     ]
    }
   ],
   "source": [
    "print(array_3d[,1:2,c(2,3)])"
   ]
  },
  {
   "cell_type": "raw",
   "id": "82c037cc-1be5-4a45-9488-9fd6e00f410c",
   "metadata": {},
   "source": [
    "Podemos acceder al array utilizando corchetes \"[]\" de un modo similar a como lo hacemos con los vectores, pero usando comas para separar las distintas dimensiones (si en una posición no ponemos nada -vacío- obtendremos su contenido completo).\n",
    "Las matrices son un caso especial de arrays limitado a 2 dimensiones."
   ]
  },
  {
   "cell_type": "code",
   "execution_count": 8,
   "id": "047e777c-ec38-42a1-9326-9bd1fc472604",
   "metadata": {},
   "outputs": [
    {
     "data": {
      "text/html": [
       "<table class=\"dataframe\">\n",
       "<caption>A matrix: 3 × 2 of type int</caption>\n",
       "<thead>\n",
       "\t<tr><th></th><th scope=col>arriba</th><th scope=col>abajo</th></tr>\n",
       "</thead>\n",
       "<tbody>\n",
       "\t<tr><th scope=row>uno</th><td>1</td><td>4</td></tr>\n",
       "\t<tr><th scope=row>dos</th><td>2</td><td>5</td></tr>\n",
       "\t<tr><th scope=row>tres</th><td>3</td><td>6</td></tr>\n",
       "</tbody>\n",
       "</table>\n"
      ],
      "text/latex": [
       "A matrix: 3 × 2 of type int\n",
       "\\begin{tabular}{r|ll}\n",
       "  & arriba & abajo\\\\\n",
       "\\hline\n",
       "\tuno & 1 & 4\\\\\n",
       "\tdos & 2 & 5\\\\\n",
       "\ttres & 3 & 6\\\\\n",
       "\\end{tabular}\n"
      ],
      "text/markdown": [
       "\n",
       "A matrix: 3 × 2 of type int\n",
       "\n",
       "| <!--/--> | arriba | abajo |\n",
       "|---|---|---|\n",
       "| uno | 1 | 4 |\n",
       "| dos | 2 | 5 |\n",
       "| tres | 3 | 6 |\n",
       "\n"
      ],
      "text/plain": [
       "     arriba abajo\n",
       "uno  1      4    \n",
       "dos  2      5    \n",
       "tres 3      6    "
      ]
     },
     "metadata": {},
     "output_type": "display_data"
    }
   ],
   "source": [
    "(matriz <- matrix(\n",
    "  1:6,\n",
    "  nrow = 3, #ncol = 2 hace lo mismo\n",
    "  dimnames = list(\n",
    "    c(\"uno\", \"dos\", \"tres\"),\n",
    "    c(\"arriba\", \"abajo\")\n",
    "  )\n",
    "))"
   ]
  },
  {
   "cell_type": "raw",
   "id": "18f985f3-2641-4d25-ba7d-d1056ccb7ad1",
   "metadata": {},
   "source": [
    "Podemos crear una matriz con la función matrix, pasándole como argumentos un vector con los números, el número de filas (o de columnas) y una lista de vectores con los nombres para las distintas dimensiones."
   ]
  },
  {
   "cell_type": "code",
   "execution_count": 10,
   "id": "41c6ad48-8d6b-48c3-a4a9-8efd99e270de",
   "metadata": {},
   "outputs": [
    {
     "name": "stdout",
     "output_type": "stream",
     "text": [
      " uno  dos tres \n",
      "   4    5    6 \n"
     ]
    }
   ],
   "source": [
    "print(matriz[,2])"
   ]
  },
  {
   "cell_type": "raw",
   "id": "0e1a6b3f-4df6-4606-913c-833db45ff4cf",
   "metadata": {},
   "source": [
    "El acceso a las posiciones de la matriz es igual que en el caso de los arrays, teniendo en cuenta que sólo tienen 2 dimensiones."
   ]
  },
  {
   "cell_type": "code",
   "execution_count": 11,
   "id": "f20c0623-95c3-42fb-9459-d08f1499d8ee",
   "metadata": {},
   "outputs": [
    {
     "data": {
      "text/html": [
       "<table class=\"dataframe\">\n",
       "<caption>A matrix: 3 × 2 of type int</caption>\n",
       "<thead>\n",
       "\t<tr><th></th><th scope=col>arriba</th><th scope=col>abajo</th></tr>\n",
       "</thead>\n",
       "<tbody>\n",
       "\t<tr><th scope=row>uno</th><td>4</td><td>10</td></tr>\n",
       "\t<tr><th scope=row>dos</th><td>6</td><td>12</td></tr>\n",
       "\t<tr><th scope=row>tres</th><td>8</td><td>14</td></tr>\n",
       "</tbody>\n",
       "</table>\n"
      ],
      "text/latex": [
       "A matrix: 3 × 2 of type int\n",
       "\\begin{tabular}{r|ll}\n",
       "  & arriba & abajo\\\\\n",
       "\\hline\n",
       "\tuno & 4 & 10\\\\\n",
       "\tdos & 6 & 12\\\\\n",
       "\ttres & 8 & 14\\\\\n",
       "\\end{tabular}\n"
      ],
      "text/markdown": [
       "\n",
       "A matrix: 3 × 2 of type int\n",
       "\n",
       "| <!--/--> | arriba | abajo |\n",
       "|---|---|---|\n",
       "| uno | 4 | 10 |\n",
       "| dos | 6 | 12 |\n",
       "| tres | 8 | 14 |\n",
       "\n"
      ],
      "text/plain": [
       "     arriba abajo\n",
       "uno  4      10   \n",
       "dos  6      12   \n",
       "tres 8      14   "
      ]
     },
     "metadata": {},
     "output_type": "display_data"
    }
   ],
   "source": [
    "matriz2 <- matrix(\n",
    "  3:8,\n",
    "  nrow = 3, #ncol = 2 hace lo mismo\n",
    "  dimnames = list(\n",
    "    c(\"uno\", \"dos\", \"tres\"),\n",
    "    c(\"arriba\", \"abajo\")\n",
    "  )\n",
    ")\n",
    "\n",
    "matriz + matriz2"
   ]
  },
  {
   "cell_type": "raw",
   "id": "18f36982-e1e9-4d97-b8b4-89347c76ac9d",
   "metadata": {},
   "source": [
    "Podemos realizar operaciones de álgebra de matrices."
   ]
  },
  {
   "cell_type": "markdown",
   "id": "47a2e987-64a8-4500-80dc-1c31fd4ac8ab",
   "metadata": {
    "jp-MarkdownHeadingCollapsed": true
   },
   "source": [
    "# 3.3 Listas y Dataframes"
   ]
  },
  {
   "cell_type": "raw",
   "id": "5a4d228a-8dac-45cf-8349-9462ef2f42c2",
   "metadata": {},
   "source": [
    "Vectores, arrays y matrices tienen el inconveniente de que sólo permiten contener elementos de un único típo (por ejemplo todos numéricos o todos cadenas de caracteres).\n",
    "\n",
    "Una lista es algo equivalente a un vector en el que cada elemento puede ser de un tipo distinto."
   ]
  },
  {
   "cell_type": "code",
   "execution_count": 13,
   "id": "3955bf5b-3007-4d36-b08e-1141f3c9342d",
   "metadata": {},
   "outputs": [
    {
     "data": {
      "text/html": [
       "<ol>\n",
       "\t<li><style>\n",
       ".list-inline {list-style: none; margin:0; padding: 0}\n",
       ".list-inline>li {display: inline-block}\n",
       ".list-inline>li:not(:last-child)::after {content: \"\\00b7\"; padding: 0 .5ex}\n",
       "</style>\n",
       "<ol class=list-inline><li>1</li><li>2</li><li>3</li></ol>\n",
       "</li>\n",
       "\t<li>33</li>\n",
       "\t<li><table class=\"dataframe\">\n",
       "<caption>A matrix: 2 × 2 of type dbl</caption>\n",
       "<tbody>\n",
       "\t<tr><td>6</td><td>14</td></tr>\n",
       "\t<tr><td>7</td><td> 1</td></tr>\n",
       "</tbody>\n",
       "</table>\n",
       "</li>\n",
       "\t<li><pre class=language-r><code>function (x, ...) \n",
       "UseMethod(\"mean\")</code></pre></li>\n",
       "</ol>\n"
      ],
      "text/latex": [
       "\\begin{enumerate}\n",
       "\\item \\begin{enumerate*}\n",
       "\\item 1\n",
       "\\item 2\n",
       "\\item 3\n",
       "\\end{enumerate*}\n",
       "\n",
       "\\item 33\n",
       "\\item A matrix: 2 × 2 of type dbl\n",
       "\\begin{tabular}{ll}\n",
       "\t 6 & 14\\\\\n",
       "\t 7 &  1\\\\\n",
       "\\end{tabular}\n",
       "\n",
       "\\item \\begin{minted}{r}\n",
       "function (x, ...) \n",
       "UseMethod(\"mean\")\n",
       "\\end{minted}\n",
       "\\end{enumerate}\n"
      ],
      "text/markdown": [
       "1. 1. 1\n",
       "2. 2\n",
       "3. 3\n",
       "\n",
       "\n",
       "\n",
       "2. 33\n",
       "3. \n",
       "A matrix: 2 × 2 of type dbl\n",
       "\n",
       "| 6 | 14 |\n",
       "| 7 |  1 |\n",
       "\n",
       "\n",
       "4. ```r\n",
       "function (x, ...) \n",
       "UseMethod(\"mean\")\n",
       "```\n",
       "\n",
       "\n"
      ],
      "text/plain": [
       "[[1]]\n",
       "[1] 1 2 3\n",
       "\n",
       "[[2]]\n",
       "[1] 33\n",
       "\n",
       "[[3]]\n",
       "     [,1] [,2]\n",
       "[1,]    6   14\n",
       "[2,]    7    1\n",
       "\n",
       "[[4]]\n",
       "function (x, ...) \n",
       "UseMethod(\"mean\")\n",
       "<bytecode: 0x5935ccaabd30>\n",
       "<environment: namespace:base>\n"
      ]
     },
     "metadata": {},
     "output_type": "display_data"
    },
    {
     "name": "stdout",
     "output_type": "stream",
     "text": [
      "[[1]]\n",
      "[1] 1 2 3\n",
      "\n",
      "[[2]]\n",
      "[1] 33\n",
      "\n",
      "[[3]]\n",
      "     [,1] [,2]\n",
      "[1,]    6   14\n",
      "[2,]    7    1\n",
      "\n",
      "[[4]]\n",
      "function (x, ...) \n",
      "UseMethod(\"mean\")\n",
      "<bytecode: 0x5935ccaabd30>\n",
      "<environment: namespace:base>\n",
      "\n"
     ]
    }
   ],
   "source": [
    "(lista <- list(\n",
    "  c(1, 2, 3),\n",
    "  33,\n",
    "  matrix(c(6, 7, 14, 1), nrow = 2),\n",
    "  mean\n",
    "))\n",
    "print(lista)"
   ]
  },
  {
   "cell_type": "raw",
   "id": "aa0d195c-7550-4bd3-a54e-9e68471b246d",
   "metadata": {},
   "source": [
    "Podemos crear una lista mediante la función list, pasándole como argumentos los distintos valores que queramos incluír en ella. \n",
    "En este ejemplo hemos creado la lista con un vector, un valor numérico, una matriz y una función (recordemos que R permite usar funciones como si fuesen variables)."
   ]
  },
  {
   "cell_type": "code",
   "execution_count": 15,
   "id": "4a9ac541-5247-4f69-90cd-1c77fa291390",
   "metadata": {},
   "outputs": [
    {
     "name": "stdout",
     "output_type": "stream",
     "text": [
      "$vector\n",
      "[1] 1 2 3\n",
      "\n",
      "$numero\n",
      "[1] 33\n",
      "\n",
      "$matriz\n",
      "     [,1] [,2]\n",
      "[1,]    6   14\n",
      "[2,]    7    1\n",
      "\n",
      "$`funcion mean`\n",
      "function (x, ...) \n",
      "UseMethod(\"mean\")\n",
      "<bytecode: 0x5935ccaabd30>\n",
      "<environment: namespace:base>\n",
      "\n"
     ]
    }
   ],
   "source": [
    "names(lista) <- c(\"vector\", \"numero\", \"matriz\", \"funcion mean\")\n",
    "\n",
    "print(lista)"
   ]
  },
  {
   "cell_type": "raw",
   "id": "05bd0c3f-509b-4b49-8193-684716bfcfad",
   "metadata": {},
   "source": [
    "De igual modo que con los vectores, podemos asignar nombres a sus elementos."
   ]
  },
  {
   "cell_type": "code",
   "execution_count": 16,
   "id": "7ec49633-5c4b-4b73-b838-e039842b6f7e",
   "metadata": {},
   "outputs": [
    {
     "name": "stdout",
     "output_type": "stream",
     "text": [
      "$numero\n",
      "[1] 33\n",
      "\n",
      "$matriz\n",
      "     [,1] [,2]\n",
      "[1,]    6   14\n",
      "[2,]    7    1\n",
      "\n"
     ]
    }
   ],
   "source": [
    "print(lista[2:3])"
   ]
  },
  {
   "cell_type": "raw",
   "id": "429ebd89-01fc-4751-8122-0cfff3515ac4",
   "metadata": {},
   "source": [
    "Podemos acceder a la lista igual que hacíamos con los vectores.\n",
    "Los dataframes son el equivalente a matrices (por lo tanto bidimensionales) que pueden almacenar distintos tipos de datos, siendo por lo tanto similares al contenido de una hoja de cálculo.\n",
    "Por ello están especialmente indicados para trabajar con conjuntos de datos en su formato más común: secuencias de filas, las cuales están formadas por columnas que pueden contener distintos tipos de datos."
   ]
  },
  {
   "cell_type": "code",
   "execution_count": 17,
   "id": "ae4100f7-36ab-4df3-9be7-b017a9a0e469",
   "metadata": {},
   "outputs": [
    {
     "data": {
      "text/html": [
       "<table class=\"dataframe\">\n",
       "<caption>A data.frame: 5 × 3</caption>\n",
       "<thead>\n",
       "\t<tr><th scope=col>x</th><th scope=col>y</th><th scope=col>z</th></tr>\n",
       "\t<tr><th scope=col>&lt;chr&gt;</th><th scope=col>&lt;int&gt;</th><th scope=col>&lt;lgl&gt;</th></tr>\n",
       "</thead>\n",
       "<tbody>\n",
       "\t<tr><td>a</td><td>1</td><td>FALSE</td></tr>\n",
       "\t<tr><td>b</td><td>2</td><td>FALSE</td></tr>\n",
       "\t<tr><td>c</td><td>3</td><td> TRUE</td></tr>\n",
       "\t<tr><td>d</td><td>4</td><td> TRUE</td></tr>\n",
       "\t<tr><td>e</td><td>5</td><td> TRUE</td></tr>\n",
       "</tbody>\n",
       "</table>\n"
      ],
      "text/latex": [
       "A data.frame: 5 × 3\n",
       "\\begin{tabular}{lll}\n",
       " x & y & z\\\\\n",
       " <chr> & <int> & <lgl>\\\\\n",
       "\\hline\n",
       "\t a & 1 & FALSE\\\\\n",
       "\t b & 2 & FALSE\\\\\n",
       "\t c & 3 &  TRUE\\\\\n",
       "\t d & 4 &  TRUE\\\\\n",
       "\t e & 5 &  TRUE\\\\\n",
       "\\end{tabular}\n"
      ],
      "text/markdown": [
       "\n",
       "A data.frame: 5 × 3\n",
       "\n",
       "| x &lt;chr&gt; | y &lt;int&gt; | z &lt;lgl&gt; |\n",
       "|---|---|---|\n",
       "| a | 1 | FALSE |\n",
       "| b | 2 | FALSE |\n",
       "| c | 3 |  TRUE |\n",
       "| d | 4 |  TRUE |\n",
       "| e | 5 |  TRUE |\n",
       "\n"
      ],
      "text/plain": [
       "  x y z    \n",
       "1 a 1 FALSE\n",
       "2 b 2 FALSE\n",
       "3 c 3  TRUE\n",
       "4 d 4  TRUE\n",
       "5 e 5  TRUE"
      ]
     },
     "metadata": {},
     "output_type": "display_data"
    }
   ],
   "source": [
    "v <- 1:5\n",
    "(mi_dataframe <- data.frame(\n",
    "x = letters[1:5],\n",
    "y = v,\n",
    "z = v > 2\n",
    "))"
   ]
  },
  {
   "cell_type": "raw",
   "id": "e9316000-efc5-494f-b193-3725da1542b3",
   "metadata": {},
   "source": [
    "Podemos crear dataframes mediante la función data.frame, pasándole los datos por columnas (todas de la misma longitud). Como podemos ver, cada columna puede contener distinto tipo de datos (pero toda la columna el mismo)."
   ]
  },
  {
   "cell_type": "code",
   "execution_count": 18,
   "id": "86769fff-5e16-4027-a288-bf01a7578dda",
   "metadata": {},
   "outputs": [
    {
     "data": {
      "text/html": [
       "<table class=\"dataframe\">\n",
       "<caption>A data.frame: 2 × 2</caption>\n",
       "<thead>\n",
       "\t<tr><th></th><th scope=col>x</th><th scope=col>y</th></tr>\n",
       "\t<tr><th></th><th scope=col>&lt;chr&gt;</th><th scope=col>&lt;int&gt;</th></tr>\n",
       "</thead>\n",
       "<tbody>\n",
       "\t<tr><th scope=row>2</th><td>b</td><td>2</td></tr>\n",
       "\t<tr><th scope=row>3</th><td>c</td><td>3</td></tr>\n",
       "</tbody>\n",
       "</table>\n"
      ],
      "text/latex": [
       "A data.frame: 2 × 2\n",
       "\\begin{tabular}{r|ll}\n",
       "  & x & y\\\\\n",
       "  & <chr> & <int>\\\\\n",
       "\\hline\n",
       "\t2 & b & 2\\\\\n",
       "\t3 & c & 3\\\\\n",
       "\\end{tabular}\n"
      ],
      "text/markdown": [
       "\n",
       "A data.frame: 2 × 2\n",
       "\n",
       "| <!--/--> | x &lt;chr&gt; | y &lt;int&gt; |\n",
       "|---|---|---|\n",
       "| 2 | b | 2 |\n",
       "| 3 | c | 3 |\n",
       "\n"
      ],
      "text/plain": [
       "  x y\n",
       "2 b 2\n",
       "3 c 3"
      ]
     },
     "metadata": {},
     "output_type": "display_data"
    }
   ],
   "source": [
    "mi_dataframe[2:3,c(1,2)]"
   ]
  },
  {
   "cell_type": "raw",
   "id": "6c655f97-e185-442f-8789-72c3805a3da8",
   "metadata": {},
   "source": [
    "Podemos acceder a los dataframes de modo análogo a como lo hacemos con matrices."
   ]
  },
  {
   "cell_type": "code",
   "execution_count": 19,
   "id": "759b5d03-e50b-4a48-95c1-0cf593e6a6ba",
   "metadata": {},
   "outputs": [
    {
     "data": {
      "text/html": [
       "<table class=\"dataframe\">\n",
       "<caption>A data.frame: 5 × 6</caption>\n",
       "<thead>\n",
       "\t<tr><th scope=col>x</th><th scope=col>y</th><th scope=col>z</th><th scope=col>col4</th><th scope=col>col5</th><th scope=col>col6</th></tr>\n",
       "\t<tr><th scope=col>&lt;chr&gt;</th><th scope=col>&lt;int&gt;</th><th scope=col>&lt;lgl&gt;</th><th scope=col>&lt;int&gt;</th><th scope=col>&lt;dbl&gt;</th><th scope=col>&lt;lgl&gt;</th></tr>\n",
       "</thead>\n",
       "<tbody>\n",
       "\t<tr><td>a</td><td>1</td><td>FALSE</td><td> 6</td><td>4</td><td> TRUE</td></tr>\n",
       "\t<tr><td>b</td><td>2</td><td>FALSE</td><td> 7</td><td>5</td><td> TRUE</td></tr>\n",
       "\t<tr><td>c</td><td>3</td><td> TRUE</td><td> 8</td><td>6</td><td>FALSE</td></tr>\n",
       "\t<tr><td>d</td><td>4</td><td> TRUE</td><td> 9</td><td>7</td><td>FALSE</td></tr>\n",
       "\t<tr><td>e</td><td>5</td><td> TRUE</td><td>10</td><td>8</td><td>FALSE</td></tr>\n",
       "</tbody>\n",
       "</table>\n"
      ],
      "text/latex": [
       "A data.frame: 5 × 6\n",
       "\\begin{tabular}{llllll}\n",
       " x & y & z & col4 & col5 & col6\\\\\n",
       " <chr> & <int> & <lgl> & <int> & <dbl> & <lgl>\\\\\n",
       "\\hline\n",
       "\t a & 1 & FALSE &  6 & 4 &  TRUE\\\\\n",
       "\t b & 2 & FALSE &  7 & 5 &  TRUE\\\\\n",
       "\t c & 3 &  TRUE &  8 & 6 & FALSE\\\\\n",
       "\t d & 4 &  TRUE &  9 & 7 & FALSE\\\\\n",
       "\t e & 5 &  TRUE & 10 & 8 & FALSE\\\\\n",
       "\\end{tabular}\n"
      ],
      "text/markdown": [
       "\n",
       "A data.frame: 5 × 6\n",
       "\n",
       "| x &lt;chr&gt; | y &lt;int&gt; | z &lt;lgl&gt; | col4 &lt;int&gt; | col5 &lt;dbl&gt; | col6 &lt;lgl&gt; |\n",
       "|---|---|---|---|---|---|\n",
       "| a | 1 | FALSE |  6 | 4 |  TRUE |\n",
       "| b | 2 | FALSE |  7 | 5 |  TRUE |\n",
       "| c | 3 |  TRUE |  8 | 6 | FALSE |\n",
       "| d | 4 |  TRUE |  9 | 7 | FALSE |\n",
       "| e | 5 |  TRUE | 10 | 8 | FALSE |\n",
       "\n"
      ],
      "text/plain": [
       "  x y z     col4 col5 col6 \n",
       "1 a 1 FALSE  6   4     TRUE\n",
       "2 b 2 FALSE  7   5     TRUE\n",
       "3 c 3  TRUE  8   6    FALSE\n",
       "4 d 4  TRUE  9   7    FALSE\n",
       "5 e 5  TRUE 10   8    FALSE"
      ]
     },
     "metadata": {},
     "output_type": "display_data"
    }
   ],
   "source": [
    "mi_dataframe2 <- data.frame(\n",
    "col4 = 6:10,\n",
    "col5 = v+3,\n",
    "col6 = v < 3\n",
    ")\n",
    "\n",
    "cbind(mi_dataframe, mi_dataframe2)"
   ]
  },
  {
   "cell_type": "raw",
   "id": "4ffded8e-61f3-40aa-8d67-19d43e100916",
   "metadata": {},
   "source": [
    "Podemos realizar distintas operaciones con dataframes, como por ejemplo enlazarlos por columnas con cbind."
   ]
  },
  {
   "cell_type": "code",
   "execution_count": 21,
   "id": "8f0e9c12-444a-4c9a-a6cf-0533afdf5b40",
   "metadata": {},
   "outputs": [
    {
     "data": {
      "text/html": [
       "<table class=\"dataframe\">\n",
       "<caption>A data.frame: 8 × 3</caption>\n",
       "<thead>\n",
       "\t<tr><th scope=col>x</th><th scope=col>y</th><th scope=col>z</th></tr>\n",
       "\t<tr><th scope=col>&lt;chr&gt;</th><th scope=col>&lt;int&gt;</th><th scope=col>&lt;lgl&gt;</th></tr>\n",
       "</thead>\n",
       "<tbody>\n",
       "\t<tr><td>a</td><td>1</td><td>FALSE</td></tr>\n",
       "\t<tr><td>b</td><td>2</td><td>FALSE</td></tr>\n",
       "\t<tr><td>c</td><td>3</td><td> TRUE</td></tr>\n",
       "\t<tr><td>d</td><td>4</td><td> TRUE</td></tr>\n",
       "\t<tr><td>e</td><td>5</td><td> TRUE</td></tr>\n",
       "\t<tr><td>f</td><td>6</td><td> TRUE</td></tr>\n",
       "\t<tr><td>g</td><td>7</td><td>FALSE</td></tr>\n",
       "\t<tr><td>h</td><td>8</td><td> TRUE</td></tr>\n",
       "</tbody>\n",
       "</table>\n"
      ],
      "text/latex": [
       "A data.frame: 8 × 3\n",
       "\\begin{tabular}{lll}\n",
       " x & y & z\\\\\n",
       " <chr> & <int> & <lgl>\\\\\n",
       "\\hline\n",
       "\t a & 1 & FALSE\\\\\n",
       "\t b & 2 & FALSE\\\\\n",
       "\t c & 3 &  TRUE\\\\\n",
       "\t d & 4 &  TRUE\\\\\n",
       "\t e & 5 &  TRUE\\\\\n",
       "\t f & 6 &  TRUE\\\\\n",
       "\t g & 7 & FALSE\\\\\n",
       "\t h & 8 &  TRUE\\\\\n",
       "\\end{tabular}\n"
      ],
      "text/markdown": [
       "\n",
       "A data.frame: 8 × 3\n",
       "\n",
       "| x &lt;chr&gt; | y &lt;int&gt; | z &lt;lgl&gt; |\n",
       "|---|---|---|\n",
       "| a | 1 | FALSE |\n",
       "| b | 2 | FALSE |\n",
       "| c | 3 |  TRUE |\n",
       "| d | 4 |  TRUE |\n",
       "| e | 5 |  TRUE |\n",
       "| f | 6 |  TRUE |\n",
       "| g | 7 | FALSE |\n",
       "| h | 8 |  TRUE |\n",
       "\n"
      ],
      "text/plain": [
       "  x y z    \n",
       "1 a 1 FALSE\n",
       "2 b 2 FALSE\n",
       "3 c 3  TRUE\n",
       "4 d 4  TRUE\n",
       "5 e 5  TRUE\n",
       "6 f 6  TRUE\n",
       "7 g 7 FALSE\n",
       "8 h 8  TRUE"
      ]
     },
     "metadata": {},
     "output_type": "display_data"
    }
   ],
   "source": [
    "mi_dataframe3 <- data.frame(\n",
    "x = letters[6:8],\n",
    "y = 6:8,\n",
    "z = c(TRUE,FALSE,TRUE)\n",
    ")\n",
    "\n",
    "rbind(mi_dataframe, mi_dataframe3)"
   ]
  },
  {
   "cell_type": "raw",
   "id": "7ec0fdc3-a5df-4780-9eea-447db1cd971d",
   "metadata": {},
   "source": [
    "De modo similar, también podemos enlazar dos dataframes por filas con rbind."
   ]
  },
  {
   "cell_type": "markdown",
   "id": "3586f59c-17ac-481f-8cf5-33bec84f8fba",
   "metadata": {},
   "source": [
    "# 3.4 Análisis y Visualización"
   ]
  },
  {
   "cell_type": "raw",
   "id": "2fd06a8a-0c07-4526-8db3-aa830531ac75",
   "metadata": {},
   "source": [
    "Respecto del análisis de datos, en primer lugar hemos de tener en cuenta que R tiene una gran cantidad de conjuntos de datos dentro de paquetes a los cuales podemos acceder si están instalados. \n",
    "\n",
    "Para acceder a ellos, podemos emplear la función data pasándole como argumentos el nombre del dataset y el paquete en el que éste se encuentra."
   ]
  },
  {
   "cell_type": "code",
   "execution_count": 25,
   "id": "f1baa592-a5a7-4b62-b795-6b2cbf93b1b4",
   "metadata": {},
   "outputs": [
    {
     "name": "stderr",
     "output_type": "stream",
     "text": [
      "Updating HTML index of packages in '.Library'\n",
      "\n",
      "Making 'packages.html' ...\n",
      " done\n",
      "\n",
      "Warning message in data(\"kidney\", package = \"survival\"):\n",
      "“data set ‘kidney’ not found”\n"
     ]
    },
    {
     "data": {
      "text/html": [
       "<table class=\"dataframe\">\n",
       "<caption>A data.frame: 6 × 7</caption>\n",
       "<thead>\n",
       "\t<tr><th></th><th scope=col>id</th><th scope=col>time</th><th scope=col>status</th><th scope=col>age</th><th scope=col>sex</th><th scope=col>disease</th><th scope=col>frail</th></tr>\n",
       "\t<tr><th></th><th scope=col>&lt;dbl&gt;</th><th scope=col>&lt;dbl&gt;</th><th scope=col>&lt;dbl&gt;</th><th scope=col>&lt;dbl&gt;</th><th scope=col>&lt;dbl&gt;</th><th scope=col>&lt;fct&gt;</th><th scope=col>&lt;dbl&gt;</th></tr>\n",
       "</thead>\n",
       "<tbody>\n",
       "\t<tr><th scope=row>1</th><td>1</td><td> 8</td><td>1</td><td>28</td><td>1</td><td>Other</td><td>2.3</td></tr>\n",
       "\t<tr><th scope=row>2</th><td>1</td><td>16</td><td>1</td><td>28</td><td>1</td><td>Other</td><td>2.3</td></tr>\n",
       "\t<tr><th scope=row>3</th><td>2</td><td>23</td><td>1</td><td>48</td><td>2</td><td>GN   </td><td>1.9</td></tr>\n",
       "\t<tr><th scope=row>4</th><td>2</td><td>13</td><td>0</td><td>48</td><td>2</td><td>GN   </td><td>1.9</td></tr>\n",
       "\t<tr><th scope=row>5</th><td>3</td><td>22</td><td>1</td><td>32</td><td>1</td><td>Other</td><td>1.2</td></tr>\n",
       "\t<tr><th scope=row>6</th><td>3</td><td>28</td><td>1</td><td>32</td><td>1</td><td>Other</td><td>1.2</td></tr>\n",
       "</tbody>\n",
       "</table>\n"
      ],
      "text/latex": [
       "A data.frame: 6 × 7\n",
       "\\begin{tabular}{r|lllllll}\n",
       "  & id & time & status & age & sex & disease & frail\\\\\n",
       "  & <dbl> & <dbl> & <dbl> & <dbl> & <dbl> & <fct> & <dbl>\\\\\n",
       "\\hline\n",
       "\t1 & 1 &  8 & 1 & 28 & 1 & Other & 2.3\\\\\n",
       "\t2 & 1 & 16 & 1 & 28 & 1 & Other & 2.3\\\\\n",
       "\t3 & 2 & 23 & 1 & 48 & 2 & GN    & 1.9\\\\\n",
       "\t4 & 2 & 13 & 0 & 48 & 2 & GN    & 1.9\\\\\n",
       "\t5 & 3 & 22 & 1 & 32 & 1 & Other & 1.2\\\\\n",
       "\t6 & 3 & 28 & 1 & 32 & 1 & Other & 1.2\\\\\n",
       "\\end{tabular}\n"
      ],
      "text/markdown": [
       "\n",
       "A data.frame: 6 × 7\n",
       "\n",
       "| <!--/--> | id &lt;dbl&gt; | time &lt;dbl&gt; | status &lt;dbl&gt; | age &lt;dbl&gt; | sex &lt;dbl&gt; | disease &lt;fct&gt; | frail &lt;dbl&gt; |\n",
       "|---|---|---|---|---|---|---|---|\n",
       "| 1 | 1 |  8 | 1 | 28 | 1 | Other | 2.3 |\n",
       "| 2 | 1 | 16 | 1 | 28 | 1 | Other | 2.3 |\n",
       "| 3 | 2 | 23 | 1 | 48 | 2 | GN    | 1.9 |\n",
       "| 4 | 2 | 13 | 0 | 48 | 2 | GN    | 1.9 |\n",
       "| 5 | 3 | 22 | 1 | 32 | 1 | Other | 1.2 |\n",
       "| 6 | 3 | 28 | 1 | 32 | 1 | Other | 1.2 |\n",
       "\n"
      ],
      "text/plain": [
       "  id time status age sex disease frail\n",
       "1 1   8   1      28  1   Other   2.3  \n",
       "2 1  16   1      28  1   Other   2.3  \n",
       "3 2  23   1      48  2   GN      1.9  \n",
       "4 2  13   0      48  2   GN      1.9  \n",
       "5 3  22   1      32  1   Other   1.2  \n",
       "6 3  28   1      32  1   Other   1.2  "
      ]
     },
     "metadata": {},
     "output_type": "display_data"
    }
   ],
   "source": [
    "install.packages(\"survival\")\n",
    "library(survival)\n",
    "data(\"kidney\", package = \"survival\")\n",
    "head(kidney)"
   ]
  },
  {
   "cell_type": "raw",
   "id": "b8e8e034-099f-43c6-a0f7-c3efa8ea1654",
   "metadata": {},
   "source": [
    "En este caso hemos cargado el dataset llamado kidney dentro del paquete survival y hemos mostrado las primeras filas mediante la función head."
   ]
  },
  {
   "cell_type": "code",
   "execution_count": 27,
   "id": "8dd782b5-f746-4c39-bc7b-e84abd34b959",
   "metadata": {},
   "outputs": [
    {
     "name": "stdout",
     "output_type": "stream",
     "text": [
      "[1] 76  7\n"
     ]
    }
   ],
   "source": [
    "print(dim(kidney))"
   ]
  },
  {
   "cell_type": "raw",
   "id": "a9690f7d-ab79-4a31-a1eb-f1ba691bafaa",
   "metadata": {},
   "source": [
    "Vemos que el dataset contiene 76 filas y 7 columnas."
   ]
  },
  {
   "cell_type": "code",
   "execution_count": 28,
   "id": "7b8d8c81-4d5f-42ca-a8bc-05bfb757d471",
   "metadata": {},
   "outputs": [
    {
     "data": {
      "text/html": [
       "101.631578947368"
      ],
      "text/latex": [
       "101.631578947368"
      ],
      "text/markdown": [
       "101.631578947368"
      ],
      "text/plain": [
       "[1] 101.6316"
      ]
     },
     "metadata": {},
     "output_type": "display_data"
    },
    {
     "data": {
      "text/html": [
       "39.5"
      ],
      "text/latex": [
       "39.5"
      ],
      "text/markdown": [
       "39.5"
      ],
      "text/plain": [
       "[1] 39.5"
      ]
     },
     "metadata": {},
     "output_type": "display_data"
    },
    {
     "data": {
      "text/html": [
       "17138.5024561404"
      ],
      "text/latex": [
       "17138.5024561404"
      ],
      "text/markdown": [
       "17138.5024561404"
      ],
      "text/plain": [
       "[1] 17138.5"
      ]
     },
     "metadata": {},
     "output_type": "display_data"
    },
    {
     "data": {
      "text/html": [
       "130.914103350786"
      ],
      "text/latex": [
       "130.914103350786"
      ],
      "text/markdown": [
       "130.914103350786"
      ],
      "text/plain": [
       "[1] 130.9141"
      ]
     },
     "metadata": {},
     "output_type": "display_data"
    }
   ],
   "source": [
    "time <- kidney$time\n",
    "mean(time)\n",
    "median(time)\n",
    "var(time)\n",
    "sd(time)"
   ]
  },
  {
   "cell_type": "raw",
   "id": "d4eb7756-b409-4605-ae50-ea29a1fd6728",
   "metadata": {},
   "source": [
    "R nos permite calcular diversas estadísticas utilizando funciones específicas para ello.\n",
    "Fíjate que para este ejemplo hemos obtenido una columna del dataframe utilizando el accesor $ tras su nombre seguido del nombre de la columna."
   ]
  },
  {
   "cell_type": "code",
   "execution_count": 31,
   "id": "64ac3b45-1c76-46d4-9bc0-349c397bd8e6",
   "metadata": {},
   "outputs": [
    {
     "data": {
      "text/plain": [
       "       id            time           status            age            sex       \n",
       " Min.   : 1.0   Min.   :  2.0   Min.   :0.0000   Min.   :10.0   Min.   :1.000  \n",
       " 1st Qu.:10.0   1st Qu.: 16.0   1st Qu.:1.0000   1st Qu.:34.0   1st Qu.:1.000  \n",
       " Median :19.5   Median : 39.5   Median :1.0000   Median :45.5   Median :2.000  \n",
       " Mean   :19.5   Mean   :101.6   Mean   :0.7632   Mean   :43.7   Mean   :1.737  \n",
       " 3rd Qu.:29.0   3rd Qu.:149.8   3rd Qu.:1.0000   3rd Qu.:54.0   3rd Qu.:2.000  \n",
       " Max.   :38.0   Max.   :562.0   Max.   :1.0000   Max.   :69.0   Max.   :2.000  \n",
       "  disease       frail      \n",
       " Other:26   Min.   :0.200  \n",
       " GN   :18   1st Qu.:0.600  \n",
       " AN   :24   Median :1.100  \n",
       " PKD  : 8   Mean   :1.184  \n",
       "            3rd Qu.:1.500  \n",
       "            Max.   :3.000  "
      ]
     },
     "metadata": {},
     "output_type": "display_data"
    }
   ],
   "source": [
    "summary(kidney)"
   ]
  },
  {
   "cell_type": "raw",
   "id": "f225f5dd-b694-4307-83bf-f617fed336cf",
   "metadata": {},
   "source": [
    "Incluso podemos utlizar la función summary para obtener una serie de estadísticas interesantes acerca de todas las columnas del dataframe."
   ]
  },
  {
   "cell_type": "code",
   "execution_count": 32,
   "id": "a057c43d-8678-4249-828b-3e53fbaff6dc",
   "metadata": {},
   "outputs": [
    {
     "data": {
      "application/pdf": "[encoded data removed]",
      "image/jpeg": "[encoded data removed]",
      "image/png": "[encoded data removed]",
      "image/svg+xml": [
       "<?xml version=\"1.0\" encoding=\"UTF-8\"?>\n",
       "<svg xmlns=\"http://www.w3.org/2000/svg\" xmlns:xlink=\"http://www.w3.org/1999/xlink\" width=\"504\" height=\"504\" viewBox=\"0 0 504 504\">\n",
       "<defs>\n",
       "<g>\n",
       "<g id=\"glyph-0-0\">\n",
       "<path d=\"M 6.203125 -4.125 C 6.203125 -2.75 5.957031 -1.695312 5.46875 -0.96875 C 4.988281 -0.238281 4.273438 0.125 3.328125 0.125 C 2.378906 0.125 1.664062 -0.234375 1.1875 -0.953125 C 0.707031 -1.679688 0.46875 -2.738281 0.46875 -4.125 C 0.46875 -5.550781 0.695312 -6.613281 1.15625 -7.3125 C 1.625 -8.019531 2.359375 -8.375 3.359375 -8.375 C 4.328125 -8.375 5.039062 -8.015625 5.5 -7.296875 C 5.96875 -6.585938 6.203125 -5.53125 6.203125 -4.125 Z M 5.140625 -4.125 C 5.140625 -5.320312 5 -6.1875 4.71875 -6.71875 C 4.445312 -7.257812 3.992188 -7.53125 3.359375 -7.53125 C 2.710938 -7.53125 2.242188 -7.265625 1.953125 -6.734375 C 1.671875 -6.203125 1.53125 -5.332031 1.53125 -4.125 C 1.53125 -2.957031 1.671875 -2.101562 1.953125 -1.5625 C 2.242188 -1.019531 2.703125 -0.75 3.328125 -0.75 C 3.953125 -0.75 4.410156 -1.023438 4.703125 -1.578125 C 4.992188 -2.128906 5.140625 -2.976562 5.140625 -4.125 Z M 5.140625 -4.125 \"/>\n",
       "</g>\n",
       "<g id=\"glyph-0-1\">\n",
       "<path d=\"M 0.921875 0 L 0.921875 -0.890625 L 3.015625 -0.890625 L 3.015625 -7.25 L 1.15625 -5.921875 L 1.15625 -6.921875 L 3.109375 -8.25 L 4.078125 -8.25 L 4.078125 -0.890625 L 6.09375 -0.890625 L 6.09375 0 Z M 0.921875 0 \"/>\n",
       "</g>\n",
       "<g id=\"glyph-0-2\">\n",
       "<path d=\"M 0.609375 0 L 0.609375 -0.75 C 0.804688 -1.207031 1.046875 -1.609375 1.328125 -1.953125 C 1.617188 -2.304688 1.921875 -2.625 2.234375 -2.90625 C 2.554688 -3.1875 2.867188 -3.445312 3.171875 -3.6875 C 3.484375 -3.9375 3.765625 -4.179688 4.015625 -4.421875 C 4.265625 -4.660156 4.46875 -4.910156 4.625 -5.171875 C 4.78125 -5.441406 4.859375 -5.742188 4.859375 -6.078125 C 4.859375 -6.535156 4.722656 -6.890625 4.453125 -7.140625 C 4.191406 -7.390625 3.828125 -7.515625 3.359375 -7.515625 C 2.898438 -7.515625 2.523438 -7.390625 2.234375 -7.140625 C 1.953125 -6.898438 1.785156 -6.5625 1.734375 -6.125 L 0.65625 -6.21875 C 0.726562 -6.875 1.003906 -7.394531 1.484375 -7.78125 C 1.972656 -8.175781 2.597656 -8.375 3.359375 -8.375 C 4.179688 -8.375 4.816406 -8.175781 5.265625 -7.78125 C 5.710938 -7.394531 5.9375 -6.84375 5.9375 -6.125 C 5.9375 -5.800781 5.863281 -5.476562 5.71875 -5.15625 C 5.570312 -4.84375 5.351562 -4.523438 5.0625 -4.203125 C 4.78125 -3.890625 4.226562 -3.40625 3.40625 -2.75 C 2.957031 -2.375 2.597656 -2.039062 2.328125 -1.75 C 2.066406 -1.457031 1.878906 -1.171875 1.765625 -0.890625 L 6.078125 -0.890625 L 6.078125 0 Z M 0.609375 0 \"/>\n",
       "</g>\n",
       "<g id=\"glyph-0-3\">\n",
       "<path d=\"M 6.140625 -2.28125 C 6.140625 -1.519531 5.894531 -0.925781 5.40625 -0.5 C 4.925781 -0.0820312 4.238281 0.125 3.34375 0.125 C 2.507812 0.125 1.84375 -0.0625 1.34375 -0.4375 C 0.84375 -0.820312 0.546875 -1.382812 0.453125 -2.125 L 1.546875 -2.21875 C 1.691406 -1.238281 2.289062 -0.75 3.34375 -0.75 C 3.875 -0.75 4.289062 -0.878906 4.59375 -1.140625 C 4.894531 -1.410156 5.046875 -1.800781 5.046875 -2.3125 C 5.046875 -2.757812 4.875 -3.109375 4.53125 -3.359375 C 4.1875 -3.617188 3.6875 -3.75 3.03125 -3.75 L 2.4375 -3.75 L 2.4375 -4.65625 L 3.015625 -4.65625 C 3.585938 -4.65625 4.03125 -4.78125 4.34375 -5.03125 C 4.664062 -5.289062 4.828125 -5.640625 4.828125 -6.078125 C 4.828125 -6.523438 4.695312 -6.875 4.4375 -7.125 C 4.1875 -7.382812 3.800781 -7.515625 3.28125 -7.515625 C 2.820312 -7.515625 2.445312 -7.394531 2.15625 -7.15625 C 1.875 -6.914062 1.707031 -6.578125 1.65625 -6.140625 L 0.59375 -6.234375 C 0.675781 -6.910156 0.957031 -7.4375 1.4375 -7.8125 C 1.914062 -8.1875 2.535156 -8.375 3.296875 -8.375 C 4.128906 -8.375 4.773438 -8.179688 5.234375 -7.796875 C 5.691406 -7.410156 5.921875 -6.875 5.921875 -6.1875 C 5.921875 -5.664062 5.769531 -5.238281 5.46875 -4.90625 C 5.175781 -4.570312 4.75 -4.347656 4.1875 -4.234375 L 4.1875 -4.21875 C 4.800781 -4.144531 5.28125 -3.9375 5.625 -3.59375 C 5.96875 -3.25 6.140625 -2.8125 6.140625 -2.28125 Z M 6.140625 -2.28125 \"/>\n",
       "</g>\n",
       "<g id=\"glyph-0-4\">\n",
       "<path d=\"M 5.15625 -1.875 L 5.15625 0 L 4.171875 0 L 4.171875 -1.875 L 0.28125 -1.875 L 0.28125 -2.6875 L 4.0625 -8.25 L 5.15625 -8.25 L 5.15625 -2.703125 L 6.328125 -2.703125 L 6.328125 -1.875 Z M 4.171875 -7.0625 C 4.160156 -7.039062 4.101562 -6.9375 4 -6.75 C 3.894531 -6.570312 3.820312 -6.445312 3.78125 -6.375 L 1.65625 -3.25 L 1.34375 -2.8125 L 1.25 -2.703125 L 4.171875 -2.703125 Z M 4.171875 -7.0625 \"/>\n",
       "</g>\n",
       "<g id=\"glyph-0-5\">\n",
       "<path d=\"M 6.171875 -2.6875 C 6.171875 -1.820312 5.910156 -1.132812 5.390625 -0.625 C 4.878906 -0.125 4.160156 0.125 3.234375 0.125 C 2.472656 0.125 1.851562 -0.0390625 1.375 -0.375 C 0.90625 -0.71875 0.609375 -1.207031 0.484375 -1.84375 L 1.546875 -1.96875 C 1.765625 -1.15625 2.335938 -0.75 3.265625 -0.75 C 3.828125 -0.75 4.269531 -0.914062 4.59375 -1.25 C 4.914062 -1.59375 5.078125 -2.066406 5.078125 -2.671875 C 5.078125 -3.191406 4.914062 -3.609375 4.59375 -3.921875 C 4.269531 -4.242188 3.832031 -4.40625 3.28125 -4.40625 C 3 -4.40625 2.734375 -4.359375 2.484375 -4.265625 C 2.242188 -4.179688 2 -4.03125 1.75 -3.8125 L 0.71875 -3.8125 L 1 -8.25 L 5.6875 -8.25 L 5.6875 -7.359375 L 1.953125 -7.359375 L 1.796875 -4.734375 C 2.253906 -5.085938 2.820312 -5.265625 3.5 -5.265625 C 4.3125 -5.265625 4.957031 -5.023438 5.4375 -4.546875 C 5.925781 -4.078125 6.171875 -3.457031 6.171875 -2.6875 Z M 6.171875 -2.6875 \"/>\n",
       "</g>\n",
       "<g id=\"glyph-0-6\">\n",
       "<path d=\"M 3.25 -0.046875 C 2.894531 0.046875 2.539062 0.09375 2.1875 0.09375 C 1.34375 0.09375 0.921875 -0.382812 0.921875 -1.34375 L 0.921875 -5.578125 L 0.1875 -5.578125 L 0.1875 -6.34375 L 0.953125 -6.34375 L 1.265625 -7.765625 L 1.96875 -7.765625 L 1.96875 -6.34375 L 3.140625 -6.34375 L 3.140625 -5.578125 L 1.96875 -5.578125 L 1.96875 -1.578125 C 1.96875 -1.265625 2.015625 -1.046875 2.109375 -0.921875 C 2.210938 -0.804688 2.390625 -0.75 2.640625 -0.75 C 2.773438 -0.75 2.976562 -0.773438 3.25 -0.828125 Z M 3.25 -0.046875 \"/>\n",
       "</g>\n",
       "<g id=\"glyph-0-7\">\n",
       "<path d=\"M 0.796875 -7.6875 L 0.796875 -8.703125 L 1.859375 -8.703125 L 1.859375 -7.6875 Z M 0.796875 0 L 0.796875 -6.34375 L 1.859375 -6.34375 L 1.859375 0 Z M 0.796875 0 \"/>\n",
       "</g>\n",
       "<g id=\"glyph-0-8\">\n",
       "<path d=\"M 4.5 0 L 4.5 -4.015625 C 4.5 -4.628906 4.414062 -5.050781 4.25 -5.28125 C 4.082031 -5.519531 3.78125 -5.640625 3.34375 -5.640625 C 2.894531 -5.640625 2.535156 -5.46875 2.265625 -5.125 C 2.003906 -4.78125 1.875 -4.296875 1.875 -3.671875 L 1.875 0 L 0.828125 0 L 0.828125 -4.984375 C 0.828125 -5.722656 0.816406 -6.175781 0.796875 -6.34375 L 1.796875 -6.34375 C 1.796875 -6.320312 1.796875 -6.265625 1.796875 -6.171875 C 1.804688 -6.085938 1.8125 -5.988281 1.8125 -5.875 C 1.820312 -5.769531 1.832031 -5.5625 1.84375 -5.25 L 1.859375 -5.25 C 2.085938 -5.707031 2.347656 -6.019531 2.640625 -6.1875 C 2.929688 -6.363281 3.285156 -6.453125 3.703125 -6.453125 C 4.191406 -6.453125 4.570312 -6.359375 4.84375 -6.171875 C 5.125 -5.984375 5.320312 -5.675781 5.4375 -5.25 L 5.453125 -5.25 C 5.671875 -5.675781 5.929688 -5.984375 6.234375 -6.171875 C 6.546875 -6.359375 6.925781 -6.453125 7.375 -6.453125 C 8.007812 -6.453125 8.472656 -6.28125 8.765625 -5.9375 C 9.054688 -5.59375 9.203125 -5.019531 9.203125 -4.21875 L 9.203125 0 L 8.15625 0 L 8.15625 -4.015625 C 8.15625 -4.628906 8.070312 -5.050781 7.90625 -5.28125 C 7.738281 -5.519531 7.4375 -5.640625 7 -5.640625 C 6.539062 -5.640625 6.179688 -5.46875 5.921875 -5.125 C 5.671875 -4.789062 5.546875 -4.304688 5.546875 -3.671875 L 5.546875 0 Z M 4.5 0 \"/>\n",
       "</g>\n",
       "<g id=\"glyph-0-9\">\n",
       "<path d=\"M 1.625 -2.953125 C 1.625 -2.222656 1.769531 -1.660156 2.0625 -1.265625 C 2.363281 -0.867188 2.804688 -0.671875 3.390625 -0.671875 C 3.847656 -0.671875 4.210938 -0.757812 4.484375 -0.9375 C 4.765625 -1.125 4.953125 -1.359375 5.046875 -1.640625 L 5.96875 -1.390625 C 5.59375 -0.378906 4.734375 0.125 3.390625 0.125 C 2.453125 0.125 1.738281 -0.15625 1.25 -0.71875 C 0.757812 -1.28125 0.515625 -2.113281 0.515625 -3.21875 C 0.515625 -4.257812 0.757812 -5.054688 1.25 -5.609375 C 1.738281 -6.171875 2.4375 -6.453125 3.34375 -6.453125 C 5.207031 -6.453125 6.140625 -5.332031 6.140625 -3.09375 L 6.140625 -2.953125 Z M 5.046875 -3.75 C 4.992188 -4.425781 4.828125 -4.914062 4.546875 -5.21875 C 4.265625 -5.519531 3.859375 -5.671875 3.328125 -5.671875 C 2.816406 -5.671875 2.410156 -5.5 2.109375 -5.15625 C 1.816406 -4.820312 1.65625 -4.351562 1.625 -3.75 Z M 5.046875 -3.75 \"/>\n",
       "</g>\n",
       "<g id=\"glyph-1-0\">\n",
       "<path d=\"M 0 -0.921875 L -0.890625 -0.921875 L -0.890625 -3.015625 L -7.25 -3.015625 L -5.921875 -1.15625 L -6.921875 -1.15625 L -8.25 -3.109375 L -8.25 -4.078125 L -0.890625 -4.078125 L -0.890625 -6.09375 L 0 -6.09375 Z M 0 -0.921875 \"/>\n",
       "</g>\n",
       "<g id=\"glyph-1-1\">\n",
       "<path d=\"M -4.125 -6.203125 C -2.75 -6.203125 -1.695312 -5.957031 -0.96875 -5.46875 C -0.238281 -4.988281 0.125 -4.273438 0.125 -3.328125 C 0.125 -2.378906 -0.234375 -1.664062 -0.953125 -1.1875 C -1.679688 -0.707031 -2.738281 -0.46875 -4.125 -0.46875 C -5.550781 -0.46875 -6.613281 -0.695312 -7.3125 -1.15625 C -8.019531 -1.625 -8.375 -2.359375 -8.375 -3.359375 C -8.375 -4.328125 -8.015625 -5.039062 -7.296875 -5.5 C -6.585938 -5.96875 -5.53125 -6.203125 -4.125 -6.203125 Z M -4.125 -5.140625 C -5.320312 -5.140625 -6.1875 -5 -6.71875 -4.71875 C -7.257812 -4.445312 -7.53125 -3.992188 -7.53125 -3.359375 C -7.53125 -2.710938 -7.265625 -2.242188 -6.734375 -1.953125 C -6.203125 -1.671875 -5.332031 -1.53125 -4.125 -1.53125 C -2.957031 -1.53125 -2.101562 -1.671875 -1.5625 -1.953125 C -1.019531 -2.242188 -0.75 -2.703125 -0.75 -3.328125 C -0.75 -3.953125 -1.023438 -4.410156 -1.578125 -4.703125 C -2.128906 -4.992188 -2.976562 -5.140625 -4.125 -5.140625 Z M -4.125 -5.140625 \"/>\n",
       "</g>\n",
       "<g id=\"glyph-1-2\">\n",
       "<path d=\"M 0 -0.609375 L -0.75 -0.609375 C -1.207031 -0.804688 -1.609375 -1.046875 -1.953125 -1.328125 C -2.304688 -1.617188 -2.625 -1.921875 -2.90625 -2.234375 C -3.1875 -2.554688 -3.445312 -2.867188 -3.6875 -3.171875 C -3.9375 -3.484375 -4.179688 -3.765625 -4.421875 -4.015625 C -4.660156 -4.265625 -4.910156 -4.46875 -5.171875 -4.625 C -5.441406 -4.78125 -5.742188 -4.859375 -6.078125 -4.859375 C -6.535156 -4.859375 -6.890625 -4.722656 -7.140625 -4.453125 C -7.390625 -4.191406 -7.515625 -3.828125 -7.515625 -3.359375 C -7.515625 -2.898438 -7.390625 -2.523438 -7.140625 -2.234375 C -6.898438 -1.953125 -6.5625 -1.785156 -6.125 -1.734375 L -6.21875 -0.65625 C -6.875 -0.726562 -7.394531 -1.003906 -7.78125 -1.484375 C -8.175781 -1.972656 -8.375 -2.597656 -8.375 -3.359375 C -8.375 -4.179688 -8.175781 -4.816406 -7.78125 -5.265625 C -7.394531 -5.710938 -6.84375 -5.9375 -6.125 -5.9375 C -5.800781 -5.9375 -5.476562 -5.863281 -5.15625 -5.71875 C -4.84375 -5.570312 -4.523438 -5.351562 -4.203125 -5.0625 C -3.890625 -4.78125 -3.40625 -4.226562 -2.75 -3.40625 C -2.375 -2.957031 -2.039062 -2.597656 -1.75 -2.328125 C -1.457031 -2.066406 -1.171875 -1.878906 -0.890625 -1.765625 L -0.890625 -6.078125 L 0 -6.078125 Z M 0 -0.609375 \"/>\n",
       "</g>\n",
       "<g id=\"glyph-1-3\">\n",
       "<path d=\"M -2.28125 -6.140625 C -1.519531 -6.140625 -0.925781 -5.894531 -0.5 -5.40625 C -0.0820312 -4.925781 0.125 -4.238281 0.125 -3.34375 C 0.125 -2.507812 -0.0625 -1.84375 -0.4375 -1.34375 C -0.820312 -0.84375 -1.382812 -0.546875 -2.125 -0.453125 L -2.21875 -1.546875 C -1.238281 -1.691406 -0.75 -2.289062 -0.75 -3.34375 C -0.75 -3.875 -0.878906 -4.289062 -1.140625 -4.59375 C -1.410156 -4.894531 -1.800781 -5.046875 -2.3125 -5.046875 C -2.757812 -5.046875 -3.109375 -4.875 -3.359375 -4.53125 C -3.617188 -4.1875 -3.75 -3.6875 -3.75 -3.03125 L -3.75 -2.4375 L -4.65625 -2.4375 L -4.65625 -3.015625 C -4.65625 -3.585938 -4.78125 -4.03125 -5.03125 -4.34375 C -5.289062 -4.664062 -5.640625 -4.828125 -6.078125 -4.828125 C -6.523438 -4.828125 -6.875 -4.695312 -7.125 -4.4375 C -7.382812 -4.1875 -7.515625 -3.800781 -7.515625 -3.28125 C -7.515625 -2.820312 -7.394531 -2.445312 -7.15625 -2.15625 C -6.914062 -1.875 -6.578125 -1.707031 -6.140625 -1.65625 L -6.234375 -0.59375 C -6.910156 -0.675781 -7.4375 -0.957031 -7.8125 -1.4375 C -8.1875 -1.914062 -8.375 -2.535156 -8.375 -3.296875 C -8.375 -4.128906 -8.179688 -4.773438 -7.796875 -5.234375 C -7.410156 -5.691406 -6.875 -5.921875 -6.1875 -5.921875 C -5.664062 -5.921875 -5.238281 -5.769531 -4.90625 -5.46875 C -4.570312 -5.175781 -4.347656 -4.75 -4.234375 -4.1875 L -4.21875 -4.1875 C -4.144531 -4.800781 -3.9375 -5.28125 -3.59375 -5.625 C -3.25 -5.96875 -2.8125 -6.140625 -2.28125 -6.140625 Z M -2.28125 -6.140625 \"/>\n",
       "</g>\n",
       "<g id=\"glyph-1-4\">\n",
       "<path d=\"M -1.875 -5.15625 L 0 -5.15625 L 0 -4.171875 L -1.875 -4.171875 L -1.875 -0.28125 L -2.6875 -0.28125 L -8.25 -4.0625 L -8.25 -5.15625 L -2.703125 -5.15625 L -2.703125 -6.328125 L -1.875 -6.328125 Z M -7.0625 -4.171875 C -7.039062 -4.160156 -6.9375 -4.101562 -6.75 -4 C -6.570312 -3.894531 -6.445312 -3.820312 -6.375 -3.78125 L -3.25 -1.65625 L -2.8125 -1.34375 L -2.703125 -1.25 L -2.703125 -4.171875 Z M -7.0625 -4.171875 \"/>\n",
       "</g>\n",
       "<g id=\"glyph-1-5\">\n",
       "<path d=\"M -2.6875 -6.171875 C -1.820312 -6.171875 -1.132812 -5.910156 -0.625 -5.390625 C -0.125 -4.878906 0.125 -4.160156 0.125 -3.234375 C 0.125 -2.472656 -0.0390625 -1.851562 -0.375 -1.375 C -0.71875 -0.90625 -1.207031 -0.609375 -1.84375 -0.484375 L -1.96875 -1.546875 C -1.15625 -1.765625 -0.75 -2.335938 -0.75 -3.265625 C -0.75 -3.828125 -0.914062 -4.269531 -1.25 -4.59375 C -1.59375 -4.914062 -2.066406 -5.078125 -2.671875 -5.078125 C -3.191406 -5.078125 -3.609375 -4.914062 -3.921875 -4.59375 C -4.242188 -4.269531 -4.40625 -3.832031 -4.40625 -3.28125 C -4.40625 -3 -4.359375 -2.734375 -4.265625 -2.484375 C -4.179688 -2.242188 -4.03125 -2 -3.8125 -1.75 L -3.8125 -0.71875 L -8.25 -1 L -8.25 -5.6875 L -7.359375 -5.6875 L -7.359375 -1.953125 L -4.734375 -1.796875 C -5.085938 -2.253906 -5.265625 -2.820312 -5.265625 -3.5 C -5.265625 -4.3125 -5.023438 -4.957031 -4.546875 -5.4375 C -4.078125 -5.925781 -3.457031 -6.171875 -2.6875 -6.171875 Z M -2.6875 -6.171875 \"/>\n",
       "</g>\n",
       "<g id=\"glyph-1-6\">\n",
       "<path d=\"M -2.703125 -6.140625 C -1.828125 -6.140625 -1.132812 -5.90625 -0.625 -5.4375 C -0.125 -4.96875 0.125 -4.316406 0.125 -3.484375 C 0.125 -2.554688 -0.21875 -1.84375 -0.90625 -1.34375 C -1.601562 -0.851562 -2.613281 -0.609375 -3.9375 -0.609375 C -5.363281 -0.609375 -6.457031 -0.863281 -7.21875 -1.375 C -7.988281 -1.882812 -8.375 -2.613281 -8.375 -3.5625 C -8.375 -4.8125 -7.816406 -5.597656 -6.703125 -5.921875 L -6.515625 -4.90625 C -7.191406 -4.695312 -7.53125 -4.242188 -7.53125 -3.546875 C -7.53125 -2.953125 -7.25 -2.488281 -6.6875 -2.15625 C -6.125 -1.820312 -5.3125 -1.65625 -4.25 -1.65625 C -4.601562 -1.851562 -4.875 -2.125 -5.0625 -2.46875 C -5.25 -2.8125 -5.34375 -3.207031 -5.34375 -3.65625 C -5.34375 -4.425781 -5.101562 -5.03125 -4.625 -5.46875 C -4.144531 -5.914062 -3.503906 -6.140625 -2.703125 -6.140625 Z M -2.65625 -5.078125 C -3.25 -5.078125 -3.707031 -4.929688 -4.03125 -4.640625 C -4.363281 -4.347656 -4.53125 -3.9375 -4.53125 -3.40625 C -4.53125 -2.914062 -4.382812 -2.519531 -4.09375 -2.21875 C -3.800781 -1.914062 -3.40625 -1.765625 -2.90625 -1.765625 C -2.269531 -1.765625 -1.75 -1.921875 -1.34375 -2.234375 C -0.9375 -2.546875 -0.734375 -2.953125 -0.734375 -3.453125 C -0.734375 -3.953125 -0.90625 -4.347656 -1.25 -4.640625 C -1.59375 -4.929688 -2.0625 -5.078125 -2.65625 -5.078125 Z M -2.65625 -5.078125 \"/>\n",
       "</g>\n",
       "<g id=\"glyph-1-7\">\n",
       "<path d=\"M -7.40625 -6.078125 C -6.113281 -5.234375 -5.101562 -4.632812 -4.375 -4.28125 C -3.644531 -3.9375 -2.921875 -3.675781 -2.203125 -3.5 C -1.492188 -3.320312 -0.757812 -3.234375 0 -3.234375 L 0 -2.140625 C -1.050781 -2.140625 -2.160156 -2.363281 -3.328125 -2.8125 C -4.492188 -3.257812 -5.835938 -4.003906 -7.359375 -5.046875 L -7.359375 -0.609375 L -8.25 -0.609375 L -8.25 -6.078125 Z M -7.40625 -6.078125 \"/>\n",
       "</g>\n",
       "<g id=\"glyph-1-8\">\n",
       "<path d=\"M 0.125 -2.421875 C 0.125 -1.785156 -0.0390625 -1.304688 -0.375 -0.984375 C -0.71875 -0.671875 -1.179688 -0.515625 -1.765625 -0.515625 C -2.421875 -0.515625 -2.925781 -0.726562 -3.28125 -1.15625 C -3.632812 -1.59375 -3.820312 -2.289062 -3.84375 -3.25 L -3.875 -4.671875 L -4.21875 -4.671875 C -4.726562 -4.671875 -5.09375 -4.5625 -5.3125 -4.34375 C -5.539062 -4.125 -5.65625 -3.78125 -5.65625 -3.3125 C -5.65625 -2.84375 -5.570312 -2.5 -5.40625 -2.28125 C -5.25 -2.0625 -4.992188 -1.929688 -4.640625 -1.890625 L -4.75 -0.796875 C -5.882812 -0.972656 -6.453125 -1.816406 -6.453125 -3.328125 C -6.453125 -4.128906 -6.269531 -4.726562 -5.90625 -5.125 C -5.539062 -5.53125 -5.015625 -5.734375 -4.328125 -5.734375 L -1.59375 -5.734375 C -1.28125 -5.734375 -1.046875 -5.773438 -0.890625 -5.859375 C -0.734375 -5.941406 -0.65625 -6.097656 -0.65625 -6.328125 C -0.65625 -6.429688 -0.664062 -6.546875 -0.6875 -6.671875 L -0.03125 -6.671875 C 0.03125 -6.410156 0.0625 -6.140625 0.0625 -5.859375 C 0.0625 -5.472656 -0.0390625 -5.1875 -0.25 -5 C -0.457031 -4.820312 -0.78125 -4.722656 -1.21875 -4.703125 L -1.21875 -4.671875 C -0.726562 -4.398438 -0.378906 -4.082031 -0.171875 -3.71875 C 0.0234375 -3.363281 0.125 -2.929688 0.125 -2.421875 Z M -0.671875 -2.671875 C -0.671875 -3.054688 -0.757812 -3.398438 -0.9375 -3.703125 C -1.113281 -4.003906 -1.351562 -4.238281 -1.65625 -4.40625 C -1.96875 -4.582031 -2.285156 -4.671875 -2.609375 -4.671875 L -3.125 -4.671875 L -3.109375 -3.515625 C -3.097656 -3.015625 -3.046875 -2.632812 -2.953125 -2.375 C -2.859375 -2.125 -2.710938 -1.929688 -2.515625 -1.796875 C -2.328125 -1.660156 -2.070312 -1.59375 -1.75 -1.59375 C -1.40625 -1.59375 -1.140625 -1.6875 -0.953125 -1.875 C -0.765625 -2.0625 -0.671875 -2.328125 -0.671875 -2.671875 Z M -0.671875 -2.671875 \"/>\n",
       "</g>\n",
       "<g id=\"glyph-1-9\">\n",
       "<path d=\"M 2.484375 -3.21875 C 2.484375 -2.519531 2.347656 -1.960938 2.078125 -1.546875 C 1.804688 -1.140625 1.421875 -0.878906 0.921875 -0.765625 L 0.78125 -1.828125 C 1.070312 -1.898438 1.296875 -2.054688 1.453125 -2.296875 C 1.609375 -2.535156 1.6875 -2.847656 1.6875 -3.234375 C 1.6875 -4.285156 1.070312 -4.8125 -0.15625 -4.8125 L -1.171875 -4.8125 C -0.765625 -4.601562 -0.457031 -4.328125 -0.25 -3.984375 C -0.0507812 -3.640625 0.046875 -3.234375 0.046875 -2.765625 C 0.046875 -1.984375 -0.207031 -1.410156 -0.71875 -1.046875 C -1.238281 -0.679688 -2.050781 -0.5 -3.15625 -0.5 C -4.28125 -0.5 -5.109375 -0.695312 -5.640625 -1.09375 C -6.171875 -1.488281 -6.4375 -2.085938 -6.4375 -2.890625 C -6.4375 -3.335938 -6.332031 -3.722656 -6.125 -4.046875 C -5.925781 -4.378906 -5.632812 -4.632812 -5.25 -4.8125 L -5.25 -4.828125 C -5.375 -4.828125 -5.578125 -4.832031 -5.859375 -4.84375 C -6.148438 -4.863281 -6.3125 -4.882812 -6.34375 -4.90625 L -6.34375 -5.90625 C -6.132812 -5.875 -5.695312 -5.859375 -5.03125 -5.859375 L -0.1875 -5.859375 C 1.59375 -5.859375 2.484375 -4.976562 2.484375 -3.21875 Z M -3.171875 -4.8125 C -3.679688 -4.8125 -4.125 -4.738281 -4.5 -4.59375 C -4.875 -4.457031 -5.160156 -4.257812 -5.359375 -4 C -5.554688 -3.75 -5.65625 -3.460938 -5.65625 -3.140625 C -5.65625 -2.597656 -5.457031 -2.203125 -5.0625 -1.953125 C -4.675781 -1.710938 -4.046875 -1.59375 -3.171875 -1.59375 C -2.304688 -1.59375 -1.679688 -1.707031 -1.296875 -1.9375 C -0.921875 -2.164062 -0.734375 -2.5625 -0.734375 -3.125 C -0.734375 -3.457031 -0.828125 -3.75 -1.015625 -4 C -1.210938 -4.257812 -1.492188 -4.457031 -1.859375 -4.59375 C -2.234375 -4.738281 -2.671875 -4.8125 -3.171875 -4.8125 Z M -3.171875 -4.8125 \"/>\n",
       "</g>\n",
       "<g id=\"glyph-1-10\">\n",
       "<path d=\"M -2.953125 -1.625 C -2.222656 -1.625 -1.660156 -1.769531 -1.265625 -2.0625 C -0.867188 -2.363281 -0.671875 -2.804688 -0.671875 -3.390625 C -0.671875 -3.847656 -0.757812 -4.210938 -0.9375 -4.484375 C -1.125 -4.765625 -1.359375 -4.953125 -1.640625 -5.046875 L -1.390625 -5.96875 C -0.378906 -5.59375 0.125 -4.734375 0.125 -3.390625 C 0.125 -2.453125 -0.15625 -1.738281 -0.71875 -1.25 C -1.28125 -0.757812 -2.113281 -0.515625 -3.21875 -0.515625 C -4.257812 -0.515625 -5.054688 -0.757812 -5.609375 -1.25 C -6.171875 -1.738281 -6.453125 -2.4375 -6.453125 -3.34375 C -6.453125 -5.207031 -5.332031 -6.140625 -3.09375 -6.140625 L -2.953125 -6.140625 Z M -3.75 -5.046875 C -4.425781 -4.992188 -4.914062 -4.828125 -5.21875 -4.546875 C -5.519531 -4.265625 -5.671875 -3.859375 -5.671875 -3.328125 C -5.671875 -2.816406 -5.5 -2.410156 -5.15625 -2.109375 C -4.820312 -1.816406 -4.351562 -1.65625 -3.75 -1.625 Z M -3.75 -5.046875 \"/>\n",
       "</g>\n",
       "</g>\n",
       "</defs>\n",
       "<rect x=\"-50.4\" y=\"-50.4\" width=\"604.8\" height=\"604.8\" fill=\"rgb(100%, 100%, 100%)\" fill-opacity=\"1\"/>\n",
       "<path fill=\"none\" stroke-width=\"0.75\" stroke-linecap=\"round\" stroke-linejoin=\"round\" stroke=\"rgb(0%, 0%, 0%)\" stroke-opacity=\"1\" stroke-miterlimit=\"10\" d=\"M 81.214844 311.851562 C 81.214844 315.449219 75.8125 315.449219 75.8125 311.851562 C 75.8125 308.25 81.214844 308.25 81.214844 311.851562 \"/>\n",
       "<path fill=\"none\" stroke-width=\"0.75\" stroke-linecap=\"round\" stroke-linejoin=\"round\" stroke=\"rgb(0%, 0%, 0%)\" stroke-opacity=\"1\" stroke-miterlimit=\"10\" d=\"M 86.699219 311.851562 C 86.699219 315.449219 81.300781 315.449219 81.300781 311.851562 C 81.300781 308.25 86.699219 308.25 86.699219 311.851562 \"/>\n",
       "<path fill=\"none\" stroke-width=\"0.75\" stroke-linecap=\"round\" stroke-linejoin=\"round\" stroke=\"rgb(0%, 0%, 0%)\" stroke-opacity=\"1\" stroke-miterlimit=\"10\" d=\"M 91.5 195.242188 C 91.5 198.839844 86.101562 198.839844 86.101562 195.242188 C 86.101562 191.640625 91.5 191.640625 91.5 195.242188 \"/>\n",
       "<path fill=\"none\" stroke-width=\"0.75\" stroke-linecap=\"round\" stroke-linejoin=\"round\" stroke=\"rgb(0%, 0%, 0%)\" stroke-opacity=\"1\" stroke-miterlimit=\"10\" d=\"M 84.644531 195.242188 C 84.644531 198.839844 79.242188 198.839844 79.242188 195.242188 C 79.242188 191.640625 84.644531 191.640625 84.644531 195.242188 \"/>\n",
       "<path fill=\"none\" stroke-width=\"0.75\" stroke-linecap=\"round\" stroke-linejoin=\"round\" stroke=\"rgb(0%, 0%, 0%)\" stroke-opacity=\"1\" stroke-miterlimit=\"10\" d=\"M 90.8125 288.527344 C 90.8125 292.128906 85.414062 292.128906 85.414062 288.527344 C 85.414062 284.929688 90.8125 284.929688 90.8125 288.527344 \"/>\n",
       "<path fill=\"none\" stroke-width=\"0.75\" stroke-linecap=\"round\" stroke-linejoin=\"round\" stroke=\"rgb(0%, 0%, 0%)\" stroke-opacity=\"1\" stroke-miterlimit=\"10\" d=\"M 94.929688 288.527344 C 94.929688 292.128906 89.527344 292.128906 89.527344 288.527344 C 89.527344 284.929688 94.929688 284.929688 94.929688 288.527344 \"/>\n",
       "<path fill=\"none\" stroke-width=\"0.75\" stroke-linecap=\"round\" stroke-linejoin=\"round\" stroke=\"rgb(0%, 0%, 0%)\" stroke-opacity=\"1\" stroke-miterlimit=\"10\" d=\"M 382.242188 294.359375 C 382.242188 297.960938 376.84375 297.960938 376.84375 294.359375 C 376.84375 290.757812 382.242188 290.757812 382.242188 294.359375 \"/>\n",
       "<path fill=\"none\" stroke-width=\"0.75\" stroke-linecap=\"round\" stroke-linejoin=\"round\" stroke=\"rgb(0%, 0%, 0%)\" stroke-opacity=\"1\" stroke-miterlimit=\"10\" d=\"M 293.785156 288.527344 C 293.785156 292.128906 288.386719 292.128906 288.386719 288.527344 C 288.386719 284.929688 293.785156 284.929688 293.785156 288.527344 \"/>\n",
       "<path fill=\"none\" stroke-width=\"0.75\" stroke-linecap=\"round\" stroke-linejoin=\"round\" stroke=\"rgb(0%, 0%, 0%)\" stroke-opacity=\"1\" stroke-miterlimit=\"10\" d=\"M 96.300781 416.800781 C 96.300781 420.398438 90.898438 420.398438 90.898438 416.800781 C 90.898438 413.199219 96.300781 413.199219 96.300781 416.800781 \"/>\n",
       "<path fill=\"none\" stroke-width=\"0.75\" stroke-linecap=\"round\" stroke-linejoin=\"round\" stroke=\"rgb(0%, 0%, 0%)\" stroke-opacity=\"1\" stroke-miterlimit=\"10\" d=\"M 83.957031 416.800781 C 83.957031 420.398438 78.558594 420.398438 78.558594 416.800781 C 78.558594 413.199219 83.957031 413.199219 83.957031 416.800781 \"/>\n",
       "<path fill=\"none\" stroke-width=\"0.75\" stroke-linecap=\"round\" stroke-linejoin=\"round\" stroke=\"rgb(0%, 0%, 0%)\" stroke-opacity=\"1\" stroke-miterlimit=\"10\" d=\"M 92.1875 381.816406 C 92.1875 385.417969 86.785156 385.417969 86.785156 381.816406 C 86.785156 378.21875 92.1875 378.21875 92.1875 381.816406 \"/>\n",
       "<path fill=\"none\" stroke-width=\"0.75\" stroke-linecap=\"round\" stroke-linejoin=\"round\" stroke=\"rgb(0%, 0%, 0%)\" stroke-opacity=\"1\" stroke-miterlimit=\"10\" d=\"M 243.730469 375.988281 C 243.730469 379.585938 238.328125 379.585938 238.328125 375.988281 C 238.328125 372.386719 243.730469 372.386719 243.730469 375.988281 \"/>\n",
       "<path fill=\"none\" stroke-width=\"0.75\" stroke-linecap=\"round\" stroke-linejoin=\"round\" stroke=\"rgb(0%, 0%, 0%)\" stroke-opacity=\"1\" stroke-miterlimit=\"10\" d=\"M 80.527344 177.75 C 80.527344 181.347656 75.128906 181.347656 75.128906 177.75 C 75.128906 174.148438 80.527344 174.148438 80.527344 177.75 \"/>\n",
       "<path fill=\"none\" stroke-width=\"0.75\" stroke-linecap=\"round\" stroke-linejoin=\"round\" stroke=\"rgb(0%, 0%, 0%)\" stroke-opacity=\"1\" stroke-miterlimit=\"10\" d=\"M 81.898438 177.75 C 81.898438 181.347656 76.5 181.347656 76.5 177.75 C 76.5 174.148438 81.898438 174.148438 81.898438 177.75 \"/>\n",
       "<path fill=\"none\" stroke-width=\"0.75\" stroke-linecap=\"round\" stroke-linejoin=\"round\" stroke=\"rgb(0%, 0%, 0%)\" stroke-opacity=\"1\" stroke-miterlimit=\"10\" d=\"M 426.128906 154.425781 C 426.128906 158.027344 420.730469 158.027344 420.730469 154.425781 C 420.730469 150.828125 426.128906 150.828125 426.128906 154.425781 \"/>\n",
       "<path fill=\"none\" stroke-width=\"0.75\" stroke-linecap=\"round\" stroke-linejoin=\"round\" stroke=\"rgb(0%, 0%, 0%)\" stroke-opacity=\"1\" stroke-miterlimit=\"10\" d=\"M 96.300781 148.597656 C 96.300781 152.195312 90.898438 152.195312 90.898438 148.597656 C 90.898438 144.996094 96.300781 144.996094 96.300781 148.597656 \"/>\n",
       "<path fill=\"none\" stroke-width=\"0.75\" stroke-linecap=\"round\" stroke-linejoin=\"round\" stroke=\"rgb(0%, 0%, 0%)\" stroke-opacity=\"1\" stroke-miterlimit=\"10\" d=\"M 112.070312 72.800781 C 112.070312 76.398438 106.671875 76.398438 106.671875 72.800781 C 106.671875 69.199219 112.070312 69.199219 112.070312 72.800781 \"/>\n",
       "<path fill=\"none\" stroke-width=\"0.75\" stroke-linecap=\"round\" stroke-linejoin=\"round\" stroke=\"rgb(0%, 0%, 0%)\" stroke-opacity=\"1\" stroke-miterlimit=\"10\" d=\"M 210.128906 72.800781 C 210.128906 76.398438 204.730469 76.398438 204.730469 72.800781 C 204.730469 69.199219 210.128906 69.199219 210.128906 72.800781 \"/>\n",
       "<path fill=\"none\" stroke-width=\"0.75\" stroke-linecap=\"round\" stroke-linejoin=\"round\" stroke=\"rgb(0%, 0%, 0%)\" stroke-opacity=\"1\" stroke-miterlimit=\"10\" d=\"M 86.015625 177.75 C 86.015625 181.347656 80.613281 181.347656 80.613281 177.75 C 80.613281 174.148438 86.015625 174.148438 86.015625 177.75 \"/>\n",
       "<path fill=\"none\" stroke-width=\"0.75\" stroke-linecap=\"round\" stroke-linejoin=\"round\" stroke=\"rgb(0%, 0%, 0%)\" stroke-opacity=\"1\" stroke-miterlimit=\"10\" d=\"M 181.328125 171.917969 C 181.328125 175.519531 175.929688 175.519531 175.929688 171.917969 C 175.929688 168.320312 181.328125 168.320312 181.328125 171.917969 \"/>\n",
       "<path fill=\"none\" stroke-width=\"0.75\" stroke-linecap=\"round\" stroke-linejoin=\"round\" stroke=\"rgb(0%, 0%, 0%)\" stroke-opacity=\"1\" stroke-miterlimit=\"10\" d=\"M 80.527344 218.5625 C 80.527344 222.164062 75.128906 222.164062 75.128906 218.5625 C 75.128906 214.960938 80.527344 214.960938 80.527344 218.5625 \"/>\n",
       "<path fill=\"none\" stroke-width=\"0.75\" stroke-linecap=\"round\" stroke-linejoin=\"round\" stroke=\"rgb(0%, 0%, 0%)\" stroke-opacity=\"1\" stroke-miterlimit=\"10\" d=\"M 304.070312 218.5625 C 304.070312 222.164062 298.671875 222.164062 298.671875 218.5625 C 298.671875 214.960938 304.070312 214.960938 304.070312 218.5625 \"/>\n",
       "<path fill=\"none\" stroke-width=\"0.75\" stroke-linecap=\"round\" stroke-linejoin=\"round\" stroke=\"rgb(0%, 0%, 0%)\" stroke-opacity=\"1\" stroke-miterlimit=\"10\" d=\"M 172.414062 276.867188 C 172.414062 280.46875 167.015625 280.46875 167.015625 276.867188 C 167.015625 273.269531 172.414062 273.269531 172.414062 276.867188 \"/>\n",
       "<path fill=\"none\" stroke-width=\"0.75\" stroke-linecap=\"round\" stroke-linejoin=\"round\" stroke=\"rgb(0%, 0%, 0%)\" stroke-opacity=\"1\" stroke-miterlimit=\"10\" d=\"M 81.214844 276.867188 C 81.214844 280.46875 75.8125 280.46875 75.8125 276.867188 C 75.8125 273.269531 81.214844 273.269531 81.214844 276.867188 \"/>\n",
       "<path fill=\"none\" stroke-width=\"0.75\" stroke-linecap=\"round\" stroke-linejoin=\"round\" stroke=\"rgb(0%, 0%, 0%)\" stroke-opacity=\"1\" stroke-miterlimit=\"10\" d=\"M 141.558594 271.039062 C 141.558594 274.636719 136.15625 274.636719 136.15625 271.039062 C 136.15625 267.4375 141.558594 267.4375 141.558594 271.039062 \"/>\n",
       "<path fill=\"none\" stroke-width=\"0.75\" stroke-linecap=\"round\" stroke-linejoin=\"round\" stroke=\"rgb(0%, 0%, 0%)\" stroke-opacity=\"1\" stroke-miterlimit=\"10\" d=\"M 101.785156 271.039062 C 101.785156 274.636719 96.386719 274.636719 96.386719 271.039062 C 96.386719 267.4375 101.785156 267.4375 101.785156 271.039062 \"/>\n",
       "<path fill=\"none\" stroke-width=\"0.75\" stroke-linecap=\"round\" stroke-linejoin=\"round\" stroke=\"rgb(0%, 0%, 0%)\" stroke-opacity=\"1\" stroke-miterlimit=\"10\" d=\"M 177.898438 230.222656 C 177.898438 233.824219 172.5 233.824219 172.5 230.222656 C 172.5 226.625 177.898438 226.625 177.898438 230.222656 \"/>\n",
       "<path fill=\"none\" stroke-width=\"0.75\" stroke-linecap=\"round\" stroke-linejoin=\"round\" stroke=\"rgb(0%, 0%, 0%)\" stroke-opacity=\"1\" stroke-miterlimit=\"10\" d=\"M 123.730469 230.222656 C 123.730469 233.824219 118.328125 233.824219 118.328125 230.222656 C 118.328125 226.625 123.730469 226.625 123.730469 230.222656 \"/>\n",
       "<path fill=\"none\" stroke-width=\"0.75\" stroke-linecap=\"round\" stroke-linejoin=\"round\" stroke=\"rgb(0%, 0%, 0%)\" stroke-opacity=\"1\" stroke-miterlimit=\"10\" d=\"M 443.269531 375.988281 C 443.269531 379.585938 437.871094 379.585938 437.871094 375.988281 C 437.871094 372.386719 443.269531 372.386719 443.269531 375.988281 \"/>\n",
       "<path fill=\"none\" stroke-width=\"0.75\" stroke-linecap=\"round\" stroke-linejoin=\"round\" stroke=\"rgb(0%, 0%, 0%)\" stroke-opacity=\"1\" stroke-miterlimit=\"10\" d=\"M 92.871094 375.988281 C 92.871094 379.585938 87.472656 379.585938 87.472656 375.988281 C 87.472656 372.386719 92.871094 372.386719 92.871094 375.988281 \"/>\n",
       "<path fill=\"none\" stroke-width=\"0.75\" stroke-linecap=\"round\" stroke-linejoin=\"round\" stroke=\"rgb(0%, 0%, 0%)\" stroke-opacity=\"1\" stroke-miterlimit=\"10\" d=\"M 87.386719 125.273438 C 87.386719 128.875 81.984375 128.875 81.984375 125.273438 C 81.984375 121.675781 87.386719 121.675781 87.386719 125.273438 \"/>\n",
       "<path fill=\"none\" stroke-width=\"0.75\" stroke-linecap=\"round\" stroke-linejoin=\"round\" stroke=\"rgb(0%, 0%, 0%)\" stroke-opacity=\"1\" stroke-miterlimit=\"10\" d=\"M 78.472656 125.273438 C 78.472656 128.875 73.070312 128.875 73.070312 125.273438 C 73.070312 121.675781 78.472656 121.675781 78.472656 125.273438 \"/>\n",
       "<path fill=\"none\" stroke-width=\"0.75\" stroke-linecap=\"round\" stroke-linejoin=\"round\" stroke=\"rgb(0%, 0%, 0%)\" stroke-opacity=\"1\" stroke-miterlimit=\"10\" d=\"M 202.585938 125.273438 C 202.585938 128.875 197.1875 128.875 197.1875 125.273438 C 197.1875 121.675781 202.585938 121.675781 202.585938 125.273438 \"/>\n",
       "<path fill=\"none\" stroke-width=\"0.75\" stroke-linecap=\"round\" stroke-linejoin=\"round\" stroke=\"rgb(0%, 0%, 0%)\" stroke-opacity=\"1\" stroke-miterlimit=\"10\" d=\"M 197.101562 125.273438 C 197.101562 128.875 191.699219 128.875 191.699219 125.273438 C 191.699219 121.675781 197.101562 121.675781 197.101562 125.273438 \"/>\n",
       "<path fill=\"none\" stroke-width=\"0.75\" stroke-linecap=\"round\" stroke-linejoin=\"round\" stroke=\"rgb(0%, 0%, 0%)\" stroke-opacity=\"1\" stroke-miterlimit=\"10\" d=\"M 275.957031 224.394531 C 275.957031 227.992188 270.558594 227.992188 270.558594 224.394531 C 270.558594 220.792969 275.957031 220.792969 275.957031 224.394531 \"/>\n",
       "<path fill=\"none\" stroke-width=\"0.75\" stroke-linecap=\"round\" stroke-linejoin=\"round\" stroke=\"rgb(0%, 0%, 0%)\" stroke-opacity=\"1\" stroke-miterlimit=\"10\" d=\"M 153.898438 218.5625 C 153.898438 222.164062 148.5 222.164062 148.5 218.5625 C 148.5 214.960938 153.898438 214.960938 153.898438 218.5625 \"/>\n",
       "<path fill=\"none\" stroke-width=\"0.75\" stroke-linecap=\"round\" stroke-linejoin=\"round\" stroke=\"rgb(0%, 0%, 0%)\" stroke-opacity=\"1\" stroke-miterlimit=\"10\" d=\"M 90.8125 166.089844 C 90.8125 169.6875 85.414062 169.6875 85.414062 166.089844 C 85.414062 162.488281 90.8125 162.488281 90.8125 166.089844 \"/>\n",
       "<path fill=\"none\" stroke-width=\"0.75\" stroke-linecap=\"round\" stroke-linejoin=\"round\" stroke=\"rgb(0%, 0%, 0%)\" stroke-opacity=\"1\" stroke-miterlimit=\"10\" d=\"M 184.757812 166.089844 C 184.757812 169.6875 179.355469 169.6875 179.355469 166.089844 C 179.355469 162.488281 184.757812 162.488281 184.757812 166.089844 \"/>\n",
       "<path fill=\"none\" stroke-width=\"0.75\" stroke-linecap=\"round\" stroke-linejoin=\"round\" stroke=\"rgb(0%, 0%, 0%)\" stroke-opacity=\"1\" stroke-miterlimit=\"10\" d=\"M 86.015625 218.5625 C 86.015625 222.164062 80.613281 222.164062 80.613281 218.5625 C 80.613281 214.960938 86.015625 214.960938 86.015625 218.5625 \"/>\n",
       "<path fill=\"none\" stroke-width=\"0.75\" stroke-linecap=\"round\" stroke-linejoin=\"round\" stroke=\"rgb(0%, 0%, 0%)\" stroke-opacity=\"1\" stroke-miterlimit=\"10\" d=\"M 149.785156 218.5625 C 149.785156 222.164062 144.386719 222.164062 144.386719 218.5625 C 144.386719 214.960938 149.785156 214.960938 149.785156 218.5625 \"/>\n",
       "<path fill=\"none\" stroke-width=\"0.75\" stroke-linecap=\"round\" stroke-linejoin=\"round\" stroke=\"rgb(0%, 0%, 0%)\" stroke-opacity=\"1\" stroke-miterlimit=\"10\" d=\"M 179.957031 206.902344 C 179.957031 210.5 174.558594 210.5 174.558594 206.902344 C 174.558594 203.300781 179.957031 203.300781 179.957031 206.902344 \"/>\n",
       "<path fill=\"none\" stroke-width=\"0.75\" stroke-linecap=\"round\" stroke-linejoin=\"round\" stroke=\"rgb(0%, 0%, 0%)\" stroke-opacity=\"1\" stroke-miterlimit=\"10\" d=\"M 461.101562 201.070312 C 461.101562 204.671875 455.699219 204.671875 455.699219 201.070312 C 455.699219 197.472656 461.101562 197.472656 461.101562 201.070312 \"/>\n",
       "<path fill=\"none\" stroke-width=\"0.75\" stroke-linecap=\"round\" stroke-linejoin=\"round\" stroke=\"rgb(0%, 0%, 0%)\" stroke-opacity=\"1\" stroke-miterlimit=\"10\" d=\"M 351.386719 300.191406 C 351.386719 303.789062 345.984375 303.789062 345.984375 300.191406 C 345.984375 296.589844 351.386719 296.589844 351.386719 300.191406 \"/>\n",
       "<path fill=\"none\" stroke-width=\"0.75\" stroke-linecap=\"round\" stroke-linejoin=\"round\" stroke=\"rgb(0%, 0%, 0%)\" stroke-opacity=\"1\" stroke-miterlimit=\"10\" d=\"M 92.1875 300.191406 C 92.1875 303.789062 86.785156 303.789062 86.785156 300.191406 C 86.785156 296.589844 92.1875 296.589844 92.1875 300.191406 \"/>\n",
       "<path fill=\"none\" stroke-width=\"0.75\" stroke-linecap=\"round\" stroke-linejoin=\"round\" stroke=\"rgb(0%, 0%, 0%)\" stroke-opacity=\"1\" stroke-miterlimit=\"10\" d=\"M 84.644531 113.613281 C 84.644531 117.214844 79.242188 117.214844 79.242188 113.613281 C 79.242188 110.011719 84.644531 110.011719 84.644531 113.613281 \"/>\n",
       "<path fill=\"none\" stroke-width=\"0.75\" stroke-linecap=\"round\" stroke-linejoin=\"round\" stroke=\"rgb(0%, 0%, 0%)\" stroke-opacity=\"1\" stroke-miterlimit=\"10\" d=\"M 120.984375 107.78125 C 120.984375 111.382812 115.585938 111.382812 115.585938 107.78125 C 115.585938 104.183594 120.984375 104.183594 120.984375 107.78125 \"/>\n",
       "<path fill=\"none\" stroke-width=\"0.75\" stroke-linecap=\"round\" stroke-linejoin=\"round\" stroke=\"rgb(0%, 0%, 0%)\" stroke-opacity=\"1\" stroke-miterlimit=\"10\" d=\"M 102.472656 230.222656 C 102.472656 233.824219 97.070312 233.824219 97.070312 230.222656 C 97.070312 226.625 102.472656 226.625 102.472656 230.222656 \"/>\n",
       "<path fill=\"none\" stroke-width=\"0.75\" stroke-linecap=\"round\" stroke-linejoin=\"round\" stroke=\"rgb(0%, 0%, 0%)\" stroke-opacity=\"1\" stroke-miterlimit=\"10\" d=\"M 107.269531 224.394531 C 107.269531 227.992188 101.871094 227.992188 101.871094 224.394531 C 101.871094 220.792969 107.269531 220.792969 107.269531 224.394531 \"/>\n",
       "<path fill=\"none\" stroke-width=\"0.75\" stroke-linecap=\"round\" stroke-linejoin=\"round\" stroke=\"rgb(0%, 0%, 0%)\" stroke-opacity=\"1\" stroke-miterlimit=\"10\" d=\"M 83.957031 224.394531 C 83.957031 227.992188 78.558594 227.992188 78.558594 224.394531 C 78.558594 220.792969 83.957031 220.792969 83.957031 224.394531 \"/>\n",
       "<path fill=\"none\" stroke-width=\"0.75\" stroke-linecap=\"round\" stroke-linejoin=\"round\" stroke=\"rgb(0%, 0%, 0%)\" stroke-opacity=\"1\" stroke-miterlimit=\"10\" d=\"M 103.15625 224.394531 C 103.15625 227.992188 97.757812 227.992188 97.757812 224.394531 C 97.757812 220.792969 103.15625 220.792969 103.15625 224.394531 \"/>\n",
       "<path fill=\"none\" stroke-width=\"0.75\" stroke-linecap=\"round\" stroke-linejoin=\"round\" stroke=\"rgb(0%, 0%, 0%)\" stroke-opacity=\"1\" stroke-miterlimit=\"10\" d=\"M 153.214844 142.765625 C 153.214844 146.367188 147.8125 146.367188 147.8125 142.765625 C 147.8125 139.167969 153.214844 139.167969 153.214844 142.765625 \"/>\n",
       "<path fill=\"none\" stroke-width=\"0.75\" stroke-linecap=\"round\" stroke-linejoin=\"round\" stroke=\"rgb(0%, 0%, 0%)\" stroke-opacity=\"1\" stroke-miterlimit=\"10\" d=\"M 213.558594 136.9375 C 213.558594 140.535156 208.15625 140.535156 208.15625 136.9375 C 208.15625 133.335938 213.558594 133.335938 213.558594 136.9375 \"/>\n",
       "<path fill=\"none\" stroke-width=\"0.75\" stroke-linecap=\"round\" stroke-linejoin=\"round\" stroke=\"rgb(0%, 0%, 0%)\" stroke-opacity=\"1\" stroke-miterlimit=\"10\" d=\"M 166.242188 416.800781 C 166.242188 420.398438 160.84375 420.398438 160.84375 416.800781 C 160.84375 413.199219 166.242188 413.199219 166.242188 416.800781 \"/>\n",
       "<path fill=\"none\" stroke-width=\"0.75\" stroke-linecap=\"round\" stroke-linejoin=\"round\" stroke=\"rgb(0%, 0%, 0%)\" stroke-opacity=\"1\" stroke-miterlimit=\"10\" d=\"M 182.699219 416.800781 C 182.699219 420.398438 177.300781 420.398438 177.300781 416.800781 C 177.300781 413.199219 182.699219 413.199219 182.699219 416.800781 \"/>\n",
       "<path fill=\"none\" stroke-width=\"0.75\" stroke-linecap=\"round\" stroke-linejoin=\"round\" stroke=\"rgb(0%, 0%, 0%)\" stroke-opacity=\"1\" stroke-miterlimit=\"10\" d=\"M 99.042969 171.917969 C 99.042969 175.519531 93.644531 175.519531 93.644531 171.917969 C 93.644531 168.320312 99.042969 168.320312 99.042969 171.917969 \"/>\n",
       "<path fill=\"none\" stroke-width=\"0.75\" stroke-linecap=\"round\" stroke-linejoin=\"round\" stroke=\"rgb(0%, 0%, 0%)\" stroke-opacity=\"1\" stroke-miterlimit=\"10\" d=\"M 96.300781 171.917969 C 96.300781 175.519531 90.898438 175.519531 90.898438 171.917969 C 90.898438 168.320312 96.300781 168.320312 96.300781 171.917969 \"/>\n",
       "<path fill=\"none\" stroke-width=\"0.75\" stroke-linecap=\"round\" stroke-linejoin=\"round\" stroke=\"rgb(0%, 0%, 0%)\" stroke-opacity=\"1\" stroke-miterlimit=\"10\" d=\"M 77.101562 166.089844 C 77.101562 169.6875 71.699219 169.6875 71.699219 166.089844 C 71.699219 162.488281 77.101562 162.488281 77.101562 166.089844 \"/>\n",
       "<path fill=\"none\" stroke-width=\"0.75\" stroke-linecap=\"round\" stroke-linejoin=\"round\" stroke=\"rgb(0%, 0%, 0%)\" stroke-opacity=\"1\" stroke-miterlimit=\"10\" d=\"M 92.871094 166.089844 C 92.871094 169.6875 87.472656 169.6875 87.472656 166.089844 C 87.472656 162.488281 92.871094 162.488281 92.871094 166.089844 \"/>\n",
       "<path fill=\"none\" stroke-width=\"0.75\" stroke-linecap=\"round\" stroke-linejoin=\"round\" stroke=\"rgb(0%, 0%, 0%)\" stroke-opacity=\"1\" stroke-miterlimit=\"10\" d=\"M 164.871094 160.257812 C 164.871094 163.859375 159.472656 163.859375 159.472656 160.257812 C 159.472656 156.65625 164.871094 156.65625 164.871094 160.257812 \"/>\n",
       "<path fill=\"none\" stroke-width=\"0.75\" stroke-linecap=\"round\" stroke-linejoin=\"round\" stroke=\"rgb(0%, 0%, 0%)\" stroke-opacity=\"1\" stroke-miterlimit=\"10\" d=\"M 93.558594 160.257812 C 93.558594 163.859375 88.15625 163.859375 88.15625 160.257812 C 88.15625 156.65625 93.558594 156.65625 93.558594 160.257812 \"/>\n",
       "<path fill=\"none\" stroke-width=\"0.75\" stroke-linecap=\"round\" stroke-linejoin=\"round\" stroke=\"rgb(0%, 0%, 0%)\" stroke-opacity=\"1\" stroke-miterlimit=\"10\" d=\"M 94.242188 148.597656 C 94.242188 152.195312 88.84375 152.195312 88.84375 148.597656 C 88.84375 144.996094 94.242188 144.996094 94.242188 148.597656 \"/>\n",
       "<path fill=\"none\" stroke-width=\"0.75\" stroke-linecap=\"round\" stroke-linejoin=\"round\" stroke=\"rgb(0%, 0%, 0%)\" stroke-opacity=\"1\" stroke-miterlimit=\"10\" d=\"M 115.5 148.597656 C 115.5 152.195312 110.101562 152.195312 110.101562 148.597656 C 110.101562 144.996094 115.5 144.996094 115.5 148.597656 \"/>\n",
       "<path fill=\"none\" stroke-width=\"0.75\" stroke-linecap=\"round\" stroke-linejoin=\"round\" stroke=\"rgb(0%, 0%, 0%)\" stroke-opacity=\"1\" stroke-miterlimit=\"10\" d=\"M 79.15625 183.578125 C 79.15625 187.179688 73.757812 187.179688 73.757812 183.578125 C 73.757812 179.980469 79.15625 179.980469 79.15625 183.578125 \"/>\n",
       "<path fill=\"none\" stroke-width=\"0.75\" stroke-linecap=\"round\" stroke-linejoin=\"round\" stroke=\"rgb(0%, 0%, 0%)\" stroke-opacity=\"1\" stroke-miterlimit=\"10\" d=\"M 105.214844 177.75 C 105.214844 181.347656 99.8125 181.347656 99.8125 177.75 C 99.8125 174.148438 105.214844 174.148438 105.214844 177.75 \"/>\n",
       "<path fill=\"none\" stroke-width=\"0.75\" stroke-linecap=\"round\" stroke-linejoin=\"round\" stroke=\"rgb(0%, 0%, 0%)\" stroke-opacity=\"1\" stroke-miterlimit=\"10\" d=\"M 179.957031 142.765625 C 179.957031 146.367188 174.558594 146.367188 174.558594 142.765625 C 174.558594 139.167969 179.957031 139.167969 179.957031 142.765625 \"/>\n",
       "<path fill=\"none\" stroke-width=\"0.75\" stroke-linecap=\"round\" stroke-linejoin=\"round\" stroke=\"rgb(0%, 0%, 0%)\" stroke-opacity=\"1\" stroke-miterlimit=\"10\" d=\"M 96.300781 142.765625 C 96.300781 146.367188 90.898438 146.367188 90.898438 142.765625 C 90.898438 139.167969 96.300781 139.167969 96.300781 142.765625 \"/>\n",
       "<path fill=\"none\" stroke-width=\"0.75\" stroke-linecap=\"round\" stroke-linejoin=\"round\" stroke=\"rgb(0%, 0%, 0%)\" stroke-opacity=\"1\" stroke-miterlimit=\"10\" d=\"M 206.015625 218.5625 C 206.015625 222.164062 200.613281 222.164062 200.613281 218.5625 C 200.613281 214.960938 206.015625 214.960938 206.015625 218.5625 \"/>\n",
       "<path fill=\"none\" stroke-width=\"0.75\" stroke-linecap=\"round\" stroke-linejoin=\"round\" stroke=\"rgb(0%, 0%, 0%)\" stroke-opacity=\"1\" stroke-miterlimit=\"10\" d=\"M 79.15625 212.730469 C 79.15625 216.332031 73.757812 216.332031 73.757812 212.730469 C 73.757812 209.132812 79.15625 209.132812 79.15625 212.730469 \"/>\n",
       "<path fill=\"none\" stroke-width=\"0.75\" stroke-linecap=\"round\" stroke-linejoin=\"round\" stroke=\"rgb(0%, 0%, 0%)\" stroke-opacity=\"1\" stroke-miterlimit=\"10\" d=\"M 157.328125 346.832031 C 157.328125 350.433594 151.929688 350.433594 151.929688 346.832031 C 151.929688 343.234375 157.328125 343.234375 157.328125 346.832031 \"/>\n",
       "<path fill=\"none\" stroke-width=\"0.75\" stroke-linecap=\"round\" stroke-linejoin=\"round\" stroke=\"rgb(0%, 0%, 0%)\" stroke-opacity=\"1\" stroke-miterlimit=\"10\" d=\"M 81.214844 346.832031 C 81.214844 350.433594 75.8125 350.433594 75.8125 346.832031 C 75.8125 343.234375 81.214844 343.234375 81.214844 346.832031 \"/>\n",
       "<path fill=\"none\" stroke-width=\"0.75\" stroke-linecap=\"round\" stroke-linejoin=\"round\" stroke=\"rgb(0%, 0%, 0%)\" stroke-opacity=\"1\" stroke-miterlimit=\"10\" d=\"M 112.757812 230.222656 C 112.757812 233.824219 107.355469 233.824219 107.355469 230.222656 C 107.355469 226.625 112.757812 226.625 112.757812 230.222656 \"/>\n",
       "<path fill=\"none\" stroke-width=\"0.75\" stroke-linecap=\"round\" stroke-linejoin=\"round\" stroke=\"rgb(0%, 0%, 0%)\" stroke-opacity=\"1\" stroke-miterlimit=\"10\" d=\"M 86.699219 230.222656 C 86.699219 233.824219 81.300781 233.824219 81.300781 230.222656 C 81.300781 226.625 86.699219 226.625 86.699219 230.222656 \"/>\n",
       "<path fill=\"none\" stroke-width=\"0.75\" stroke-linecap=\"round\" stroke-linejoin=\"round\" stroke=\"rgb(0%, 0%, 0%)\" stroke-opacity=\"1\" stroke-miterlimit=\"10\" d=\"M 79.84375 171.917969 C 79.84375 175.519531 74.441406 175.519531 74.441406 171.917969 C 74.441406 168.320312 79.84375 168.320312 79.84375 171.917969 \"/>\n",
       "<path fill=\"none\" stroke-width=\"0.75\" stroke-linecap=\"round\" stroke-linejoin=\"round\" stroke=\"rgb(0%, 0%, 0%)\" stroke-opacity=\"1\" stroke-miterlimit=\"10\" d=\"M 129.214844 171.917969 C 129.214844 175.519531 123.8125 175.519531 123.8125 171.917969 C 123.8125 168.320312 129.214844 168.320312 129.214844 171.917969 \"/>\n",
       "<path fill=\"none\" stroke-width=\"0.75\" stroke-linecap=\"round\" stroke-linejoin=\"round\" stroke=\"rgb(0%, 0%, 0%)\" stroke-opacity=\"1\" stroke-miterlimit=\"10\" d=\"M 118.929688 125.273438 C 118.929688 128.875 113.527344 128.875 113.527344 125.273438 C 113.527344 121.675781 118.929688 121.675781 118.929688 125.273438 \"/>\n",
       "<path fill=\"none\" stroke-width=\"0.75\" stroke-linecap=\"round\" stroke-linejoin=\"round\" stroke=\"rgb(0%, 0%, 0%)\" stroke-opacity=\"1\" stroke-miterlimit=\"10\" d=\"M 81.214844 125.273438 C 81.214844 128.875 75.8125 128.875 75.8125 125.273438 C 75.8125 121.675781 81.214844 121.675781 81.214844 125.273438 \"/>\n",
       "<path fill=\"none\" stroke-width=\"0.75\" stroke-linecap=\"round\" stroke-linejoin=\"round\" stroke=\"rgb(0%, 0%, 0%)\" stroke-opacity=\"1\" stroke-miterlimit=\"10\" d=\"M 73.027344 430.558594 L 415.886719 430.558594 \"/>\n",
       "<path fill=\"none\" stroke-width=\"0.75\" stroke-linecap=\"round\" stroke-linejoin=\"round\" stroke=\"rgb(0%, 0%, 0%)\" stroke-opacity=\"1\" stroke-miterlimit=\"10\" d=\"M 73.027344 430.558594 L 73.027344 437.761719 \"/>\n",
       "<path fill=\"none\" stroke-width=\"0.75\" stroke-linecap=\"round\" stroke-linejoin=\"round\" stroke=\"rgb(0%, 0%, 0%)\" stroke-opacity=\"1\" stroke-miterlimit=\"10\" d=\"M 141.601562 430.558594 L 141.601562 437.761719 \"/>\n",
       "<path fill=\"none\" stroke-width=\"0.75\" stroke-linecap=\"round\" stroke-linejoin=\"round\" stroke=\"rgb(0%, 0%, 0%)\" stroke-opacity=\"1\" stroke-miterlimit=\"10\" d=\"M 210.171875 430.558594 L 210.171875 437.761719 \"/>\n",
       "<path fill=\"none\" stroke-width=\"0.75\" stroke-linecap=\"round\" stroke-linejoin=\"round\" stroke=\"rgb(0%, 0%, 0%)\" stroke-opacity=\"1\" stroke-miterlimit=\"10\" d=\"M 278.742188 430.558594 L 278.742188 437.761719 \"/>\n",
       "<path fill=\"none\" stroke-width=\"0.75\" stroke-linecap=\"round\" stroke-linejoin=\"round\" stroke=\"rgb(0%, 0%, 0%)\" stroke-opacity=\"1\" stroke-miterlimit=\"10\" d=\"M 347.3125 430.558594 L 347.3125 437.761719 \"/>\n",
       "<path fill=\"none\" stroke-width=\"0.75\" stroke-linecap=\"round\" stroke-linejoin=\"round\" stroke=\"rgb(0%, 0%, 0%)\" stroke-opacity=\"1\" stroke-miterlimit=\"10\" d=\"M 415.886719 430.558594 L 415.886719 437.761719 \"/>\n",
       "<g fill=\"rgb(0%, 0%, 0%)\" fill-opacity=\"1\">\n",
       "<use xlink:href=\"#glyph-0-0\" x=\"69.527344\" y=\"456.34375\"/>\n",
       "</g>\n",
       "<g fill=\"rgb(0%, 0%, 0%)\" fill-opacity=\"1\">\n",
       "<use xlink:href=\"#glyph-0-1\" x=\"131.101562\" y=\"456.34375\"/>\n",
       "<use xlink:href=\"#glyph-0-0\" x=\"138.101562\" y=\"456.34375\"/>\n",
       "<use xlink:href=\"#glyph-0-0\" x=\"145.101562\" y=\"456.34375\"/>\n",
       "</g>\n",
       "<g fill=\"rgb(0%, 0%, 0%)\" fill-opacity=\"1\">\n",
       "<use xlink:href=\"#glyph-0-2\" x=\"199.671875\" y=\"456.34375\"/>\n",
       "<use xlink:href=\"#glyph-0-0\" x=\"206.671875\" y=\"456.34375\"/>\n",
       "<use xlink:href=\"#glyph-0-0\" x=\"213.671875\" y=\"456.34375\"/>\n",
       "</g>\n",
       "<g fill=\"rgb(0%, 0%, 0%)\" fill-opacity=\"1\">\n",
       "<use xlink:href=\"#glyph-0-3\" x=\"268.242188\" y=\"456.34375\"/>\n",
       "<use xlink:href=\"#glyph-0-0\" x=\"275.242188\" y=\"456.34375\"/>\n",
       "<use xlink:href=\"#glyph-0-0\" x=\"282.242188\" y=\"456.34375\"/>\n",
       "</g>\n",
       "<g fill=\"rgb(0%, 0%, 0%)\" fill-opacity=\"1\">\n",
       "<use xlink:href=\"#glyph-0-4\" x=\"336.8125\" y=\"456.34375\"/>\n",
       "<use xlink:href=\"#glyph-0-0\" x=\"343.8125\" y=\"456.34375\"/>\n",
       "<use xlink:href=\"#glyph-0-0\" x=\"350.8125\" y=\"456.34375\"/>\n",
       "</g>\n",
       "<g fill=\"rgb(0%, 0%, 0%)\" fill-opacity=\"1\">\n",
       "<use xlink:href=\"#glyph-0-5\" x=\"405.386719\" y=\"456.34375\"/>\n",
       "<use xlink:href=\"#glyph-0-0\" x=\"412.386719\" y=\"456.34375\"/>\n",
       "<use xlink:href=\"#glyph-0-0\" x=\"419.386719\" y=\"456.34375\"/>\n",
       "</g>\n",
       "<path fill=\"none\" stroke-width=\"0.75\" stroke-linecap=\"round\" stroke-linejoin=\"round\" stroke=\"rgb(0%, 0%, 0%)\" stroke-opacity=\"1\" stroke-miterlimit=\"10\" d=\"M 59.039062 416.800781 L 59.039062 66.96875 \"/>\n",
       "<path fill=\"none\" stroke-width=\"0.75\" stroke-linecap=\"round\" stroke-linejoin=\"round\" stroke=\"rgb(0%, 0%, 0%)\" stroke-opacity=\"1\" stroke-miterlimit=\"10\" d=\"M 59.039062 416.800781 L 51.839844 416.800781 \"/>\n",
       "<path fill=\"none\" stroke-width=\"0.75\" stroke-linecap=\"round\" stroke-linejoin=\"round\" stroke=\"rgb(0%, 0%, 0%)\" stroke-opacity=\"1\" stroke-miterlimit=\"10\" d=\"M 59.039062 358.496094 L 51.839844 358.496094 \"/>\n",
       "<path fill=\"none\" stroke-width=\"0.75\" stroke-linecap=\"round\" stroke-linejoin=\"round\" stroke=\"rgb(0%, 0%, 0%)\" stroke-opacity=\"1\" stroke-miterlimit=\"10\" d=\"M 59.039062 300.191406 L 51.839844 300.191406 \"/>\n",
       "<path fill=\"none\" stroke-width=\"0.75\" stroke-linecap=\"round\" stroke-linejoin=\"round\" stroke=\"rgb(0%, 0%, 0%)\" stroke-opacity=\"1\" stroke-miterlimit=\"10\" d=\"M 59.039062 241.882812 L 51.839844 241.882812 \"/>\n",
       "<path fill=\"none\" stroke-width=\"0.75\" stroke-linecap=\"round\" stroke-linejoin=\"round\" stroke=\"rgb(0%, 0%, 0%)\" stroke-opacity=\"1\" stroke-miterlimit=\"10\" d=\"M 59.039062 183.578125 L 51.839844 183.578125 \"/>\n",
       "<path fill=\"none\" stroke-width=\"0.75\" stroke-linecap=\"round\" stroke-linejoin=\"round\" stroke=\"rgb(0%, 0%, 0%)\" stroke-opacity=\"1\" stroke-miterlimit=\"10\" d=\"M 59.039062 125.273438 L 51.839844 125.273438 \"/>\n",
       "<path fill=\"none\" stroke-width=\"0.75\" stroke-linecap=\"round\" stroke-linejoin=\"round\" stroke=\"rgb(0%, 0%, 0%)\" stroke-opacity=\"1\" stroke-miterlimit=\"10\" d=\"M 59.039062 66.96875 L 51.839844 66.96875 \"/>\n",
       "<g fill=\"rgb(0%, 0%, 0%)\" fill-opacity=\"1\">\n",
       "<use xlink:href=\"#glyph-1-0\" x=\"41.625\" y=\"423.800781\"/>\n",
       "<use xlink:href=\"#glyph-1-1\" x=\"41.625\" y=\"416.800781\"/>\n",
       "</g>\n",
       "<g fill=\"rgb(0%, 0%, 0%)\" fill-opacity=\"1\">\n",
       "<use xlink:href=\"#glyph-1-2\" x=\"41.625\" y=\"365.496094\"/>\n",
       "<use xlink:href=\"#glyph-1-1\" x=\"41.625\" y=\"358.496094\"/>\n",
       "</g>\n",
       "<g fill=\"rgb(0%, 0%, 0%)\" fill-opacity=\"1\">\n",
       "<use xlink:href=\"#glyph-1-3\" x=\"41.625\" y=\"307.191406\"/>\n",
       "<use xlink:href=\"#glyph-1-1\" x=\"41.625\" y=\"300.191406\"/>\n",
       "</g>\n",
       "<g fill=\"rgb(0%, 0%, 0%)\" fill-opacity=\"1\">\n",
       "<use xlink:href=\"#glyph-1-4\" x=\"41.625\" y=\"248.882812\"/>\n",
       "<use xlink:href=\"#glyph-1-1\" x=\"41.625\" y=\"241.882812\"/>\n",
       "</g>\n",
       "<g fill=\"rgb(0%, 0%, 0%)\" fill-opacity=\"1\">\n",
       "<use xlink:href=\"#glyph-1-5\" x=\"41.625\" y=\"190.578125\"/>\n",
       "<use xlink:href=\"#glyph-1-1\" x=\"41.625\" y=\"183.578125\"/>\n",
       "</g>\n",
       "<g fill=\"rgb(0%, 0%, 0%)\" fill-opacity=\"1\">\n",
       "<use xlink:href=\"#glyph-1-6\" x=\"41.625\" y=\"132.273438\"/>\n",
       "<use xlink:href=\"#glyph-1-1\" x=\"41.625\" y=\"125.273438\"/>\n",
       "</g>\n",
       "<g fill=\"rgb(0%, 0%, 0%)\" fill-opacity=\"1\">\n",
       "<use xlink:href=\"#glyph-1-7\" x=\"41.625\" y=\"73.96875\"/>\n",
       "<use xlink:href=\"#glyph-1-1\" x=\"41.625\" y=\"66.96875\"/>\n",
       "</g>\n",
       "<path fill=\"none\" stroke-width=\"0.75\" stroke-linecap=\"round\" stroke-linejoin=\"round\" stroke=\"rgb(0%, 0%, 0%)\" stroke-opacity=\"1\" stroke-miterlimit=\"10\" d=\"M 59.039062 430.558594 L 473.761719 430.558594 L 473.761719 59.039062 L 59.039062 59.039062 Z M 59.039062 430.558594 \"/>\n",
       "<g fill=\"rgb(0%, 0%, 0%)\" fill-opacity=\"1\">\n",
       "<use xlink:href=\"#glyph-0-6\" x=\"254.898438\" y=\"485.144531\"/>\n",
       "<use xlink:href=\"#glyph-0-7\" x=\"257.898438\" y=\"485.144531\"/>\n",
       "<use xlink:href=\"#glyph-0-8\" x=\"260.898438\" y=\"485.144531\"/>\n",
       "<use xlink:href=\"#glyph-0-9\" x=\"270.898438\" y=\"485.144531\"/>\n",
       "</g>\n",
       "<g fill=\"rgb(0%, 0%, 0%)\" fill-opacity=\"1\">\n",
       "<use xlink:href=\"#glyph-1-8\" x=\"12.824219\" y=\"255.300781\"/>\n",
       "<use xlink:href=\"#glyph-1-9\" x=\"12.824219\" y=\"248.300781\"/>\n",
       "<use xlink:href=\"#glyph-1-10\" x=\"12.824219\" y=\"241.300781\"/>\n",
       "</g>\n",
       "</svg>\n"
      ],
      "text/plain": [
       "plot without title"
      ]
     },
     "metadata": {
      "application/pdf": {
       "height": 420,
       "width": 420
      },
      "image/jpeg": {
       "height": 420,
       "width": 420
      },
      "image/png": {
       "height": 420,
       "width": 420
      },
      "image/svg+xml": {
       "height": 420,
       "isolated": true,
       "width": 420
      }
     },
     "output_type": "display_data"
    }
   ],
   "source": [
    "with(kidney, plot(time, age))"
   ]
  },
  {
   "cell_type": "code",
   "execution_count": 33,
   "id": "32e902d9-1850-4301-a66a-778218c5cba9",
   "metadata": {},
   "outputs": [
    {
     "data": {
      "application/pdf": "[encoded data removed]",
      "image/jpeg": "[encoded data removed]",
      "image/png": "[encoded data removed]",
      "image/svg+xml": [
       "<?xml version=\"1.0\" encoding=\"UTF-8\"?>\n",
       "<svg xmlns=\"http://www.w3.org/2000/svg\" xmlns:xlink=\"http://www.w3.org/1999/xlink\" width=\"504\" height=\"504\" viewBox=\"0 0 504 504\">\n",
       "<defs>\n",
       "<g>\n",
       "<g id=\"glyph-0-0\">\n",
       "<path d=\"M 7.359375 0 L 7.359375 -4.25 L 3.03125 -4.25 L 3.03125 0 L 0.96875 0 L 0.96875 -9.90625 L 3.03125 -9.90625 L 3.03125 -5.96875 L 7.359375 -5.96875 L 7.359375 -9.90625 L 9.4375 -9.90625 L 9.4375 0 Z M 7.359375 0 \"/>\n",
       "</g>\n",
       "<g id=\"glyph-0-1\">\n",
       "<path d=\"M 1 -8.984375 L 1 -10.4375 L 2.984375 -10.4375 L 2.984375 -8.984375 Z M 1 0 L 1 -7.609375 L 2.984375 -7.609375 L 2.984375 0 Z M 1 0 \"/>\n",
       "</g>\n",
       "<g id=\"glyph-0-2\">\n",
       "<path d=\"M 7.421875 -2.21875 C 7.421875 -1.488281 7.117188 -0.910156 6.515625 -0.484375 C 5.910156 -0.0664062 5.078125 0.140625 4.015625 0.140625 C 2.972656 0.140625 2.171875 -0.0195312 1.609375 -0.34375 C 1.054688 -0.675781 0.6875 -1.195312 0.5 -1.90625 L 2.25 -2.15625 C 2.34375 -1.800781 2.507812 -1.546875 2.75 -1.390625 C 2.988281 -1.242188 3.410156 -1.171875 4.015625 -1.171875 C 4.566406 -1.171875 4.96875 -1.238281 5.21875 -1.375 C 5.476562 -1.519531 5.609375 -1.742188 5.609375 -2.046875 C 5.609375 -2.285156 5.503906 -2.472656 5.296875 -2.609375 C 5.097656 -2.753906 4.753906 -2.878906 4.265625 -2.984375 C 3.148438 -3.203125 2.394531 -3.40625 2 -3.59375 C 1.613281 -3.789062 1.316406 -4.039062 1.109375 -4.34375 C 0.910156 -4.644531 0.8125 -5.015625 0.8125 -5.453125 C 0.8125 -6.179688 1.085938 -6.75 1.640625 -7.15625 C 2.203125 -7.5625 3 -7.765625 4.03125 -7.765625 C 4.9375 -7.765625 5.664062 -7.585938 6.21875 -7.234375 C 6.769531 -6.878906 7.113281 -6.367188 7.25 -5.703125 L 5.5 -5.515625 C 5.4375 -5.828125 5.296875 -6.054688 5.078125 -6.203125 C 4.859375 -6.359375 4.507812 -6.4375 4.03125 -6.4375 C 3.5625 -6.4375 3.207031 -6.375 2.96875 -6.25 C 2.738281 -6.132812 2.625 -5.9375 2.625 -5.65625 C 2.625 -5.4375 2.710938 -5.257812 2.890625 -5.125 C 3.078125 -5 3.382812 -4.894531 3.8125 -4.8125 C 4.40625 -4.695312 4.929688 -4.570312 5.390625 -4.4375 C 5.847656 -4.3125 6.21875 -4.160156 6.5 -3.984375 C 6.78125 -3.804688 7.003906 -3.578125 7.171875 -3.296875 C 7.335938 -3.015625 7.421875 -2.65625 7.421875 -2.21875 Z M 7.421875 -2.21875 \"/>\n",
       "</g>\n",
       "<g id=\"glyph-0-3\">\n",
       "<path d=\"M 2.953125 0.125 C 2.367188 0.125 1.921875 -0.03125 1.609375 -0.34375 C 1.296875 -0.664062 1.140625 -1.144531 1.140625 -1.78125 L 1.140625 -6.28125 L 0.171875 -6.28125 L 0.171875 -7.609375 L 1.234375 -7.609375 L 1.859375 -9.390625 L 3.09375 -9.390625 L 3.09375 -7.609375 L 4.53125 -7.609375 L 4.53125 -6.28125 L 3.09375 -6.28125 L 3.09375 -2.328125 C 3.09375 -1.953125 3.160156 -1.675781 3.296875 -1.5 C 3.441406 -1.320312 3.660156 -1.234375 3.953125 -1.234375 C 4.109375 -1.234375 4.332031 -1.269531 4.625 -1.34375 L 4.625 -0.109375 C 4.132812 0.046875 3.578125 0.125 2.953125 0.125 Z M 2.953125 0.125 \"/>\n",
       "</g>\n",
       "<g id=\"glyph-0-4\">\n",
       "<path d=\"M 8.234375 -3.8125 C 8.234375 -2.582031 7.890625 -1.613281 7.203125 -0.90625 C 6.523438 -0.207031 5.582031 0.140625 4.375 0.140625 C 3.1875 0.140625 2.253906 -0.207031 1.578125 -0.90625 C 0.898438 -1.613281 0.5625 -2.582031 0.5625 -3.8125 C 0.5625 -5.039062 0.898438 -6.003906 1.578125 -6.703125 C 2.253906 -7.398438 3.195312 -7.75 4.40625 -7.75 C 5.65625 -7.75 6.601562 -7.410156 7.25 -6.734375 C 7.90625 -6.054688 8.234375 -5.082031 8.234375 -3.8125 Z M 6.171875 -3.8125 C 6.171875 -4.71875 6.019531 -5.375 5.71875 -5.78125 C 5.425781 -6.1875 5 -6.390625 4.4375 -6.390625 C 3.238281 -6.390625 2.640625 -5.53125 2.640625 -3.8125 C 2.640625 -2.96875 2.785156 -2.320312 3.078125 -1.875 C 3.367188 -1.425781 3.789062 -1.203125 4.34375 -1.203125 C 5.5625 -1.203125 6.171875 -2.070312 6.171875 -3.8125 Z M 6.171875 -3.8125 \"/>\n",
       "</g>\n",
       "<g id=\"glyph-0-5\">\n",
       "<path d=\"M 4.1875 3.046875 C 3.257812 3.046875 2.515625 2.867188 1.953125 2.515625 C 1.390625 2.160156 1.039062 1.65625 0.90625 1 L 2.890625 0.78125 C 2.953125 1.082031 3.097656 1.316406 3.328125 1.484375 C 3.566406 1.660156 3.875 1.75 4.25 1.75 C 4.800781 1.75 5.203125 1.578125 5.453125 1.234375 C 5.703125 0.898438 5.828125 0.398438 5.828125 -0.265625 L 5.828125 -0.65625 L 5.84375 -1.40625 L 5.828125 -1.40625 C 5.390625 -0.476562 4.578125 -0.015625 3.390625 -0.015625 C 2.492188 -0.015625 1.800781 -0.347656 1.3125 -1.015625 C 0.832031 -1.679688 0.59375 -2.632812 0.59375 -3.875 C 0.59375 -5.113281 0.84375 -6.070312 1.34375 -6.75 C 1.84375 -7.425781 2.570312 -7.765625 3.53125 -7.765625 C 4.632812 -7.765625 5.398438 -7.304688 5.828125 -6.390625 L 5.859375 -6.390625 C 5.859375 -6.554688 5.867188 -6.78125 5.890625 -7.0625 C 5.921875 -7.34375 5.945312 -7.523438 5.96875 -7.609375 L 7.84375 -7.609375 C 7.8125 -7.097656 7.796875 -6.515625 7.796875 -5.859375 L 7.796875 -0.234375 C 7.796875 0.847656 7.488281 1.664062 6.875 2.21875 C 6.257812 2.769531 5.363281 3.046875 4.1875 3.046875 Z M 5.84375 -3.90625 C 5.84375 -4.6875 5.703125 -5.296875 5.421875 -5.734375 C 5.148438 -6.179688 4.753906 -6.40625 4.234375 -6.40625 C 3.179688 -6.40625 2.65625 -5.5625 2.65625 -3.875 C 2.65625 -2.21875 3.175781 -1.390625 4.21875 -1.390625 C 4.75 -1.390625 5.148438 -1.609375 5.421875 -2.046875 C 5.703125 -2.484375 5.84375 -3.101562 5.84375 -3.90625 Z M 5.84375 -3.90625 \"/>\n",
       "</g>\n",
       "<g id=\"glyph-0-6\">\n",
       "<path d=\"M 1 0 L 1 -5.828125 C 1 -6.242188 0.992188 -6.585938 0.984375 -6.859375 C 0.972656 -7.140625 0.960938 -7.390625 0.953125 -7.609375 L 2.828125 -7.609375 C 2.847656 -7.523438 2.867188 -7.269531 2.890625 -6.84375 C 2.910156 -6.414062 2.921875 -6.128906 2.921875 -5.984375 L 2.953125 -5.984375 C 3.148438 -6.515625 3.320312 -6.890625 3.46875 -7.109375 C 3.613281 -7.328125 3.789062 -7.488281 4 -7.59375 C 4.207031 -7.707031 4.46875 -7.765625 4.78125 -7.765625 C 5.03125 -7.765625 5.234375 -7.726562 5.390625 -7.65625 L 5.390625 -6 C 5.066406 -6.070312 4.785156 -6.109375 4.546875 -6.109375 C 4.054688 -6.109375 3.671875 -5.90625 3.390625 -5.5 C 3.117188 -5.101562 2.984375 -4.515625 2.984375 -3.734375 L 2.984375 0 Z M 1 0 \"/>\n",
       "</g>\n",
       "<g id=\"glyph-0-7\">\n",
       "<path d=\"M 2.765625 0.140625 C 2.023438 0.140625 1.445312 -0.0546875 1.03125 -0.453125 C 0.625 -0.859375 0.421875 -1.425781 0.421875 -2.15625 C 0.421875 -2.9375 0.675781 -3.535156 1.1875 -3.953125 C 1.707031 -4.367188 2.453125 -4.582031 3.421875 -4.59375 L 5.0625 -4.609375 L 5.0625 -5 C 5.0625 -5.5 4.972656 -5.867188 4.796875 -6.109375 C 4.628906 -6.347656 4.347656 -6.46875 3.953125 -6.46875 C 3.585938 -6.46875 3.316406 -6.382812 3.140625 -6.21875 C 2.972656 -6.050781 2.867188 -5.773438 2.828125 -5.390625 L 0.765625 -5.5 C 0.890625 -6.238281 1.226562 -6.796875 1.78125 -7.171875 C 2.332031 -7.554688 3.082031 -7.75 4.03125 -7.75 C 5 -7.75 5.742188 -7.507812 6.265625 -7.03125 C 6.785156 -6.5625 7.046875 -5.890625 7.046875 -5.015625 L 7.046875 -2.25 C 7.046875 -1.820312 7.09375 -1.523438 7.1875 -1.359375 C 7.28125 -1.203125 7.441406 -1.125 7.671875 -1.125 C 7.816406 -1.125 7.960938 -1.140625 8.109375 -1.171875 L 8.109375 -0.09375 C 7.984375 -0.0703125 7.875 -0.046875 7.78125 -0.015625 C 7.6875 0.00390625 7.59375 0.0195312 7.5 0.03125 C 7.40625 0.0507812 7.304688 0.0625 7.203125 0.0625 C 7.097656 0.0703125 6.976562 0.078125 6.84375 0.078125 C 6.34375 0.078125 5.972656 -0.0390625 5.734375 -0.28125 C 5.492188 -0.519531 5.351562 -0.878906 5.3125 -1.359375 L 5.265625 -1.359375 C 4.710938 -0.359375 3.878906 0.140625 2.765625 0.140625 Z M 5.0625 -3.53125 L 4.046875 -3.515625 C 3.585938 -3.492188 3.257812 -3.441406 3.0625 -3.359375 C 2.875 -3.273438 2.726562 -3.148438 2.625 -2.984375 C 2.53125 -2.816406 2.484375 -2.59375 2.484375 -2.3125 C 2.484375 -1.945312 2.566406 -1.675781 2.734375 -1.5 C 2.898438 -1.320312 3.117188 -1.234375 3.390625 -1.234375 C 3.703125 -1.234375 3.984375 -1.316406 4.234375 -1.484375 C 4.492188 -1.660156 4.695312 -1.894531 4.84375 -2.1875 C 4.988281 -2.488281 5.0625 -2.804688 5.0625 -3.140625 Z M 5.0625 -3.53125 \"/>\n",
       "</g>\n",
       "<g id=\"glyph-0-8\">\n",
       "<path d=\"M 5.484375 0 L 5.484375 -4.265625 C 5.484375 -5.609375 5.097656 -6.28125 4.328125 -6.28125 C 3.929688 -6.28125 3.609375 -6.070312 3.359375 -5.65625 C 3.109375 -5.25 2.984375 -4.722656 2.984375 -4.078125 L 2.984375 0 L 1 0 L 1 -5.90625 C 1 -6.3125 0.992188 -6.644531 0.984375 -6.90625 C 0.972656 -7.164062 0.960938 -7.398438 0.953125 -7.609375 L 2.828125 -7.609375 C 2.847656 -7.523438 2.867188 -7.285156 2.890625 -6.890625 C 2.910156 -6.503906 2.921875 -6.238281 2.921875 -6.09375 L 2.953125 -6.09375 C 3.191406 -6.675781 3.492188 -7.097656 3.859375 -7.359375 C 4.222656 -7.628906 4.660156 -7.765625 5.171875 -7.765625 C 6.335938 -7.765625 7.039062 -7.207031 7.28125 -6.09375 L 7.328125 -6.09375 C 7.585938 -6.6875 7.894531 -7.113281 8.25 -7.375 C 8.613281 -7.632812 9.078125 -7.765625 9.640625 -7.765625 C 10.378906 -7.765625 10.941406 -7.507812 11.328125 -7 C 11.722656 -6.5 11.921875 -5.773438 11.921875 -4.828125 L 11.921875 0 L 9.953125 0 L 9.953125 -4.265625 C 9.953125 -5.609375 9.566406 -6.28125 8.796875 -6.28125 C 8.410156 -6.28125 8.09375 -6.09375 7.84375 -5.71875 C 7.601562 -5.34375 7.472656 -4.828125 7.453125 -4.171875 L 7.453125 0 Z M 5.484375 0 \"/>\n",
       "</g>\n",
       "<g id=\"glyph-0-9\">\n",
       "</g>\n",
       "<g id=\"glyph-0-10\">\n",
       "<path d=\"M 3.328125 -6.28125 L 3.328125 0 L 1.359375 0 L 1.359375 -6.28125 L 0.25 -6.28125 L 0.25 -7.609375 L 1.359375 -7.609375 L 1.359375 -8.40625 C 1.359375 -9.09375 1.539062 -9.601562 1.90625 -9.9375 C 2.269531 -10.269531 2.828125 -10.4375 3.578125 -10.4375 C 3.941406 -10.4375 4.359375 -10.398438 4.828125 -10.328125 L 4.828125 -9.046875 C 4.628906 -9.085938 4.4375 -9.109375 4.25 -9.109375 C 3.914062 -9.109375 3.675781 -9.039062 3.53125 -8.90625 C 3.394531 -8.78125 3.328125 -8.546875 3.328125 -8.203125 L 3.328125 -7.609375 L 4.828125 -7.609375 L 4.828125 -6.28125 Z M 3.328125 -6.28125 \"/>\n",
       "</g>\n",
       "<g id=\"glyph-0-11\">\n",
       "<path d=\"M 4.125 0.140625 C 2.976562 0.140625 2.097656 -0.195312 1.484375 -0.875 C 0.867188 -1.550781 0.5625 -2.539062 0.5625 -3.84375 C 0.5625 -5.09375 0.875 -6.054688 1.5 -6.734375 C 2.125 -7.410156 3.007812 -7.75 4.15625 -7.75 C 5.25 -7.75 6.082031 -7.382812 6.65625 -6.65625 C 7.226562 -5.9375 7.515625 -4.878906 7.515625 -3.484375 L 7.515625 -3.421875 L 2.640625 -3.421875 C 2.640625 -2.679688 2.773438 -2.125 3.046875 -1.75 C 3.316406 -1.375 3.707031 -1.1875 4.21875 -1.1875 C 4.914062 -1.1875 5.359375 -1.488281 5.546875 -2.09375 L 7.40625 -1.921875 C 6.863281 -0.546875 5.769531 0.140625 4.125 0.140625 Z M 4.125 -6.5 C 3.65625 -6.5 3.296875 -6.335938 3.046875 -6.015625 C 2.796875 -5.691406 2.664062 -5.238281 2.65625 -4.65625 L 5.609375 -4.65625 C 5.566406 -5.269531 5.414062 -5.726562 5.15625 -6.03125 C 4.90625 -6.34375 4.5625 -6.5 4.125 -6.5 Z M 4.125 -6.5 \"/>\n",
       "</g>\n",
       "<g id=\"glyph-1-0\">\n",
       "<path d=\"M 3.25 -0.046875 C 2.894531 0.046875 2.539062 0.09375 2.1875 0.09375 C 1.34375 0.09375 0.921875 -0.382812 0.921875 -1.34375 L 0.921875 -5.578125 L 0.1875 -5.578125 L 0.1875 -6.34375 L 0.953125 -6.34375 L 1.265625 -7.765625 L 1.96875 -7.765625 L 1.96875 -6.34375 L 3.140625 -6.34375 L 3.140625 -5.578125 L 1.96875 -5.578125 L 1.96875 -1.578125 C 1.96875 -1.265625 2.015625 -1.046875 2.109375 -0.921875 C 2.210938 -0.804688 2.390625 -0.75 2.640625 -0.75 C 2.773438 -0.75 2.976562 -0.773438 3.25 -0.828125 Z M 3.25 -0.046875 \"/>\n",
       "</g>\n",
       "<g id=\"glyph-1-1\">\n",
       "<path d=\"M 0.796875 -7.6875 L 0.796875 -8.703125 L 1.859375 -8.703125 L 1.859375 -7.6875 Z M 0.796875 0 L 0.796875 -6.34375 L 1.859375 -6.34375 L 1.859375 0 Z M 0.796875 0 \"/>\n",
       "</g>\n",
       "<g id=\"glyph-1-2\">\n",
       "<path d=\"M 4.5 0 L 4.5 -4.015625 C 4.5 -4.628906 4.414062 -5.050781 4.25 -5.28125 C 4.082031 -5.519531 3.78125 -5.640625 3.34375 -5.640625 C 2.894531 -5.640625 2.535156 -5.46875 2.265625 -5.125 C 2.003906 -4.78125 1.875 -4.296875 1.875 -3.671875 L 1.875 0 L 0.828125 0 L 0.828125 -4.984375 C 0.828125 -5.722656 0.816406 -6.175781 0.796875 -6.34375 L 1.796875 -6.34375 C 1.796875 -6.320312 1.796875 -6.265625 1.796875 -6.171875 C 1.804688 -6.085938 1.8125 -5.988281 1.8125 -5.875 C 1.820312 -5.769531 1.832031 -5.5625 1.84375 -5.25 L 1.859375 -5.25 C 2.085938 -5.707031 2.347656 -6.019531 2.640625 -6.1875 C 2.929688 -6.363281 3.285156 -6.453125 3.703125 -6.453125 C 4.191406 -6.453125 4.570312 -6.359375 4.84375 -6.171875 C 5.125 -5.984375 5.320312 -5.675781 5.4375 -5.25 L 5.453125 -5.25 C 5.671875 -5.675781 5.929688 -5.984375 6.234375 -6.171875 C 6.546875 -6.359375 6.925781 -6.453125 7.375 -6.453125 C 8.007812 -6.453125 8.472656 -6.28125 8.765625 -5.9375 C 9.054688 -5.59375 9.203125 -5.019531 9.203125 -4.21875 L 9.203125 0 L 8.15625 0 L 8.15625 -4.015625 C 8.15625 -4.628906 8.070312 -5.050781 7.90625 -5.28125 C 7.738281 -5.519531 7.4375 -5.640625 7 -5.640625 C 6.539062 -5.640625 6.179688 -5.46875 5.921875 -5.125 C 5.671875 -4.789062 5.546875 -4.304688 5.546875 -3.671875 L 5.546875 0 Z M 4.5 0 \"/>\n",
       "</g>\n",
       "<g id=\"glyph-1-3\">\n",
       "<path d=\"M 1.625 -2.953125 C 1.625 -2.222656 1.769531 -1.660156 2.0625 -1.265625 C 2.363281 -0.867188 2.804688 -0.671875 3.390625 -0.671875 C 3.847656 -0.671875 4.210938 -0.757812 4.484375 -0.9375 C 4.765625 -1.125 4.953125 -1.359375 5.046875 -1.640625 L 5.96875 -1.390625 C 5.59375 -0.378906 4.734375 0.125 3.390625 0.125 C 2.453125 0.125 1.738281 -0.15625 1.25 -0.71875 C 0.757812 -1.28125 0.515625 -2.113281 0.515625 -3.21875 C 0.515625 -4.257812 0.757812 -5.054688 1.25 -5.609375 C 1.738281 -6.171875 2.4375 -6.453125 3.34375 -6.453125 C 5.207031 -6.453125 6.140625 -5.332031 6.140625 -3.09375 L 6.140625 -2.953125 Z M 5.046875 -3.75 C 4.992188 -4.425781 4.828125 -4.914062 4.546875 -5.21875 C 4.265625 -5.519531 3.859375 -5.671875 3.328125 -5.671875 C 2.816406 -5.671875 2.410156 -5.5 2.109375 -5.15625 C 1.816406 -4.820312 1.65625 -4.351562 1.625 -3.75 Z M 5.046875 -3.75 \"/>\n",
       "</g>\n",
       "<g id=\"glyph-1-4\">\n",
       "<path d=\"M 6.203125 -4.125 C 6.203125 -2.75 5.957031 -1.695312 5.46875 -0.96875 C 4.988281 -0.238281 4.273438 0.125 3.328125 0.125 C 2.378906 0.125 1.664062 -0.234375 1.1875 -0.953125 C 0.707031 -1.679688 0.46875 -2.738281 0.46875 -4.125 C 0.46875 -5.550781 0.695312 -6.613281 1.15625 -7.3125 C 1.625 -8.019531 2.359375 -8.375 3.359375 -8.375 C 4.328125 -8.375 5.039062 -8.015625 5.5 -7.296875 C 5.96875 -6.585938 6.203125 -5.53125 6.203125 -4.125 Z M 5.140625 -4.125 C 5.140625 -5.320312 5 -6.1875 4.71875 -6.71875 C 4.445312 -7.257812 3.992188 -7.53125 3.359375 -7.53125 C 2.710938 -7.53125 2.242188 -7.265625 1.953125 -6.734375 C 1.671875 -6.203125 1.53125 -5.332031 1.53125 -4.125 C 1.53125 -2.957031 1.671875 -2.101562 1.953125 -1.5625 C 2.242188 -1.019531 2.703125 -0.75 3.328125 -0.75 C 3.953125 -0.75 4.410156 -1.023438 4.703125 -1.578125 C 4.992188 -2.128906 5.140625 -2.976562 5.140625 -4.125 Z M 5.140625 -4.125 \"/>\n",
       "</g>\n",
       "<g id=\"glyph-1-5\">\n",
       "<path d=\"M 0.921875 0 L 0.921875 -0.890625 L 3.015625 -0.890625 L 3.015625 -7.25 L 1.15625 -5.921875 L 1.15625 -6.921875 L 3.109375 -8.25 L 4.078125 -8.25 L 4.078125 -0.890625 L 6.09375 -0.890625 L 6.09375 0 Z M 0.921875 0 \"/>\n",
       "</g>\n",
       "<g id=\"glyph-1-6\">\n",
       "<path d=\"M 0.609375 0 L 0.609375 -0.75 C 0.804688 -1.207031 1.046875 -1.609375 1.328125 -1.953125 C 1.617188 -2.304688 1.921875 -2.625 2.234375 -2.90625 C 2.554688 -3.1875 2.867188 -3.445312 3.171875 -3.6875 C 3.484375 -3.9375 3.765625 -4.179688 4.015625 -4.421875 C 4.265625 -4.660156 4.46875 -4.910156 4.625 -5.171875 C 4.78125 -5.441406 4.859375 -5.742188 4.859375 -6.078125 C 4.859375 -6.535156 4.722656 -6.890625 4.453125 -7.140625 C 4.191406 -7.390625 3.828125 -7.515625 3.359375 -7.515625 C 2.898438 -7.515625 2.523438 -7.390625 2.234375 -7.140625 C 1.953125 -6.898438 1.785156 -6.5625 1.734375 -6.125 L 0.65625 -6.21875 C 0.726562 -6.875 1.003906 -7.394531 1.484375 -7.78125 C 1.972656 -8.175781 2.597656 -8.375 3.359375 -8.375 C 4.179688 -8.375 4.816406 -8.175781 5.265625 -7.78125 C 5.710938 -7.394531 5.9375 -6.84375 5.9375 -6.125 C 5.9375 -5.800781 5.863281 -5.476562 5.71875 -5.15625 C 5.570312 -4.84375 5.351562 -4.523438 5.0625 -4.203125 C 4.78125 -3.890625 4.226562 -3.40625 3.40625 -2.75 C 2.957031 -2.375 2.597656 -2.039062 2.328125 -1.75 C 2.066406 -1.457031 1.878906 -1.171875 1.765625 -0.890625 L 6.078125 -0.890625 L 6.078125 0 Z M 0.609375 0 \"/>\n",
       "</g>\n",
       "<g id=\"glyph-1-7\">\n",
       "<path d=\"M 6.140625 -2.28125 C 6.140625 -1.519531 5.894531 -0.925781 5.40625 -0.5 C 4.925781 -0.0820312 4.238281 0.125 3.34375 0.125 C 2.507812 0.125 1.84375 -0.0625 1.34375 -0.4375 C 0.84375 -0.820312 0.546875 -1.382812 0.453125 -2.125 L 1.546875 -2.21875 C 1.691406 -1.238281 2.289062 -0.75 3.34375 -0.75 C 3.875 -0.75 4.289062 -0.878906 4.59375 -1.140625 C 4.894531 -1.410156 5.046875 -1.800781 5.046875 -2.3125 C 5.046875 -2.757812 4.875 -3.109375 4.53125 -3.359375 C 4.1875 -3.617188 3.6875 -3.75 3.03125 -3.75 L 2.4375 -3.75 L 2.4375 -4.65625 L 3.015625 -4.65625 C 3.585938 -4.65625 4.03125 -4.78125 4.34375 -5.03125 C 4.664062 -5.289062 4.828125 -5.640625 4.828125 -6.078125 C 4.828125 -6.523438 4.695312 -6.875 4.4375 -7.125 C 4.1875 -7.382812 3.800781 -7.515625 3.28125 -7.515625 C 2.820312 -7.515625 2.445312 -7.394531 2.15625 -7.15625 C 1.875 -6.914062 1.707031 -6.578125 1.65625 -6.140625 L 0.59375 -6.234375 C 0.675781 -6.910156 0.957031 -7.4375 1.4375 -7.8125 C 1.914062 -8.1875 2.535156 -8.375 3.296875 -8.375 C 4.128906 -8.375 4.773438 -8.179688 5.234375 -7.796875 C 5.691406 -7.410156 5.921875 -6.875 5.921875 -6.1875 C 5.921875 -5.664062 5.769531 -5.238281 5.46875 -4.90625 C 5.175781 -4.570312 4.75 -4.347656 4.1875 -4.234375 L 4.1875 -4.21875 C 4.800781 -4.144531 5.28125 -3.9375 5.625 -3.59375 C 5.96875 -3.25 6.140625 -2.8125 6.140625 -2.28125 Z M 6.140625 -2.28125 \"/>\n",
       "</g>\n",
       "<g id=\"glyph-1-8\">\n",
       "<path d=\"M 5.15625 -1.875 L 5.15625 0 L 4.171875 0 L 4.171875 -1.875 L 0.28125 -1.875 L 0.28125 -2.6875 L 4.0625 -8.25 L 5.15625 -8.25 L 5.15625 -2.703125 L 6.328125 -2.703125 L 6.328125 -1.875 Z M 4.171875 -7.0625 C 4.160156 -7.039062 4.101562 -6.9375 4 -6.75 C 3.894531 -6.570312 3.820312 -6.445312 3.78125 -6.375 L 1.65625 -3.25 L 1.34375 -2.8125 L 1.25 -2.703125 L 4.171875 -2.703125 Z M 4.171875 -7.0625 \"/>\n",
       "</g>\n",
       "<g id=\"glyph-1-9\">\n",
       "<path d=\"M 6.171875 -2.6875 C 6.171875 -1.820312 5.910156 -1.132812 5.390625 -0.625 C 4.878906 -0.125 4.160156 0.125 3.234375 0.125 C 2.472656 0.125 1.851562 -0.0390625 1.375 -0.375 C 0.90625 -0.71875 0.609375 -1.207031 0.484375 -1.84375 L 1.546875 -1.96875 C 1.765625 -1.15625 2.335938 -0.75 3.265625 -0.75 C 3.828125 -0.75 4.269531 -0.914062 4.59375 -1.25 C 4.914062 -1.59375 5.078125 -2.066406 5.078125 -2.671875 C 5.078125 -3.191406 4.914062 -3.609375 4.59375 -3.921875 C 4.269531 -4.242188 3.832031 -4.40625 3.28125 -4.40625 C 3 -4.40625 2.734375 -4.359375 2.484375 -4.265625 C 2.242188 -4.179688 2 -4.03125 1.75 -3.8125 L 0.71875 -3.8125 L 1 -8.25 L 5.6875 -8.25 L 5.6875 -7.359375 L 1.953125 -7.359375 L 1.796875 -4.734375 C 2.253906 -5.085938 2.820312 -5.265625 3.5 -5.265625 C 4.3125 -5.265625 4.957031 -5.023438 5.4375 -4.546875 C 5.925781 -4.078125 6.171875 -3.457031 6.171875 -2.6875 Z M 6.171875 -2.6875 \"/>\n",
       "</g>\n",
       "<g id=\"glyph-1-10\">\n",
       "<path d=\"M 6.140625 -2.703125 C 6.140625 -1.828125 5.90625 -1.132812 5.4375 -0.625 C 4.96875 -0.125 4.316406 0.125 3.484375 0.125 C 2.554688 0.125 1.84375 -0.21875 1.34375 -0.90625 C 0.851562 -1.601562 0.609375 -2.613281 0.609375 -3.9375 C 0.609375 -5.363281 0.863281 -6.457031 1.375 -7.21875 C 1.882812 -7.988281 2.613281 -8.375 3.5625 -8.375 C 4.8125 -8.375 5.597656 -7.816406 5.921875 -6.703125 L 4.90625 -6.515625 C 4.695312 -7.191406 4.242188 -7.53125 3.546875 -7.53125 C 2.953125 -7.53125 2.488281 -7.25 2.15625 -6.6875 C 1.820312 -6.125 1.65625 -5.3125 1.65625 -4.25 C 1.851562 -4.601562 2.125 -4.875 2.46875 -5.0625 C 2.8125 -5.25 3.207031 -5.34375 3.65625 -5.34375 C 4.425781 -5.34375 5.03125 -5.101562 5.46875 -4.625 C 5.914062 -4.144531 6.140625 -3.503906 6.140625 -2.703125 Z M 5.078125 -2.65625 C 5.078125 -3.25 4.929688 -3.707031 4.640625 -4.03125 C 4.347656 -4.363281 3.9375 -4.53125 3.40625 -4.53125 C 2.914062 -4.53125 2.519531 -4.382812 2.21875 -4.09375 C 1.914062 -3.800781 1.765625 -3.40625 1.765625 -2.90625 C 1.765625 -2.269531 1.921875 -1.75 2.234375 -1.34375 C 2.546875 -0.9375 2.953125 -0.734375 3.453125 -0.734375 C 3.953125 -0.734375 4.347656 -0.90625 4.640625 -1.25 C 4.929688 -1.59375 5.078125 -2.0625 5.078125 -2.65625 Z M 5.078125 -2.65625 \"/>\n",
       "</g>\n",
       "<g id=\"glyph-2-0\">\n",
       "<path d=\"M -7.34375 -2.109375 L -4.265625 -2.109375 L -4.265625 -6.703125 L -3.34375 -6.703125 L -3.34375 -2.109375 L 0 -2.109375 L 0 -0.984375 L -8.25 -0.984375 L -8.25 -6.84375 L -7.34375 -6.84375 Z M -7.34375 -2.109375 \"/>\n",
       "</g>\n",
       "<g id=\"glyph-2-1\">\n",
       "<path d=\"M 0 -0.828125 L -4.859375 -0.828125 C -5.304688 -0.828125 -5.800781 -0.816406 -6.34375 -0.796875 L -6.34375 -1.796875 C -5.625 -1.828125 -5.191406 -1.84375 -5.046875 -1.84375 L -5.046875 -1.859375 C -5.585938 -2.023438 -5.957031 -2.21875 -6.15625 -2.4375 C -6.351562 -2.65625 -6.453125 -2.96875 -6.453125 -3.375 C -6.453125 -3.507812 -6.4375 -3.648438 -6.40625 -3.796875 L -5.4375 -3.796875 C -5.46875 -3.660156 -5.484375 -3.472656 -5.484375 -3.234375 C -5.484375 -2.796875 -5.296875 -2.460938 -4.921875 -2.234375 C -4.546875 -2.003906 -4.007812 -1.890625 -3.3125 -1.890625 L 0 -1.890625 Z M 0 -0.828125 \"/>\n",
       "</g>\n",
       "<g id=\"glyph-2-2\">\n",
       "<path d=\"M -2.953125 -1.625 C -2.222656 -1.625 -1.660156 -1.769531 -1.265625 -2.0625 C -0.867188 -2.363281 -0.671875 -2.804688 -0.671875 -3.390625 C -0.671875 -3.847656 -0.757812 -4.210938 -0.9375 -4.484375 C -1.125 -4.765625 -1.359375 -4.953125 -1.640625 -5.046875 L -1.390625 -5.96875 C -0.378906 -5.59375 0.125 -4.734375 0.125 -3.390625 C 0.125 -2.453125 -0.15625 -1.738281 -0.71875 -1.25 C -1.28125 -0.757812 -2.113281 -0.515625 -3.21875 -0.515625 C -4.257812 -0.515625 -5.054688 -0.757812 -5.609375 -1.25 C -6.171875 -1.738281 -6.453125 -2.4375 -6.453125 -3.34375 C -6.453125 -5.207031 -5.332031 -6.140625 -3.09375 -6.140625 L -2.953125 -6.140625 Z M -3.75 -5.046875 C -4.425781 -4.992188 -4.914062 -4.828125 -5.21875 -4.546875 C -5.519531 -4.265625 -5.671875 -3.859375 -5.671875 -3.328125 C -5.671875 -2.816406 -5.5 -2.410156 -5.15625 -2.109375 C -4.820312 -1.816406 -4.351562 -1.65625 -3.75 -1.625 Z M -3.75 -5.046875 \"/>\n",
       "</g>\n",
       "<g id=\"glyph-2-3\">\n",
       "<path d=\"M 0.125 -2.84375 C 0.125 -2.03125 -0.144531 -1.4375 -0.6875 -1.0625 C -1.238281 -0.6875 -2.054688 -0.5 -3.140625 -0.5 C -5.347656 -0.5 -6.453125 -1.28125 -6.453125 -2.84375 C -6.453125 -3.320312 -6.367188 -3.71875 -6.203125 -4.03125 C -6.035156 -4.34375 -5.753906 -4.601562 -5.359375 -4.8125 L -5.359375 -4.828125 C -5.472656 -4.828125 -5.671875 -4.832031 -5.953125 -4.84375 C -6.242188 -4.863281 -6.398438 -4.878906 -6.421875 -4.890625 L -6.421875 -5.90625 C -6.191406 -5.875 -5.613281 -5.859375 -4.6875 -5.859375 L 2.484375 -5.859375 L 2.484375 -4.8125 L -0.078125 -4.8125 L -1.046875 -4.828125 C -0.628906 -4.609375 -0.328125 -4.34375 -0.140625 -4.03125 C 0.0351562 -3.726562 0.125 -3.332031 0.125 -2.84375 Z M -3.25 -4.8125 C -4.070312 -4.8125 -4.679688 -4.675781 -5.078125 -4.40625 C -5.472656 -4.132812 -5.671875 -3.707031 -5.671875 -3.125 C -5.671875 -2.582031 -5.472656 -2.191406 -5.078125 -1.953125 C -4.679688 -1.722656 -4.046875 -1.609375 -3.171875 -1.609375 C -2.285156 -1.609375 -1.648438 -1.726562 -1.265625 -1.96875 C -0.890625 -2.207031 -0.703125 -2.585938 -0.703125 -3.109375 C -0.703125 -3.703125 -0.910156 -4.132812 -1.328125 -4.40625 C -1.753906 -4.675781 -2.394531 -4.8125 -3.25 -4.8125 Z M -3.25 -4.8125 \"/>\n",
       "</g>\n",
       "<g id=\"glyph-2-4\">\n",
       "<path d=\"M -6.34375 -1.84375 L -2.328125 -1.84375 C -1.898438 -1.84375 -1.570312 -1.882812 -1.34375 -1.96875 C -1.113281 -2.050781 -0.945312 -2.179688 -0.84375 -2.359375 C -0.75 -2.535156 -0.703125 -2.796875 -0.703125 -3.140625 C -0.703125 -3.648438 -0.875 -4.050781 -1.21875 -4.34375 C -1.5625 -4.632812 -2.046875 -4.78125 -2.671875 -4.78125 L -6.34375 -4.78125 L -6.34375 -5.84375 L -1.359375 -5.84375 C -0.617188 -5.84375 -0.164062 -5.851562 0 -5.875 L 0 -4.875 C -0.0195312 -4.875 -0.0703125 -4.867188 -0.15625 -4.859375 C -0.238281 -4.859375 -0.335938 -4.851562 -0.453125 -4.84375 C -0.566406 -4.84375 -0.773438 -4.835938 -1.078125 -4.828125 L -1.078125 -4.8125 C -0.640625 -4.570312 -0.328125 -4.289062 -0.140625 -3.96875 C 0.0351562 -3.65625 0.125 -3.265625 0.125 -2.796875 C 0.125 -2.097656 -0.046875 -1.585938 -0.390625 -1.265625 C -0.742188 -0.941406 -1.316406 -0.78125 -2.109375 -0.78125 L -6.34375 -0.78125 Z M -6.34375 -1.84375 \"/>\n",
       "</g>\n",
       "<g id=\"glyph-2-5\">\n",
       "<path d=\"M 0 -4.828125 L -4.015625 -4.828125 C -4.429688 -4.828125 -4.753906 -4.785156 -4.984375 -4.703125 C -5.222656 -4.628906 -5.390625 -4.5 -5.484375 -4.3125 C -5.585938 -4.132812 -5.640625 -3.875 -5.640625 -3.53125 C -5.640625 -3.019531 -5.460938 -2.617188 -5.109375 -2.328125 C -4.765625 -2.035156 -4.285156 -1.890625 -3.671875 -1.890625 L 0 -1.890625 L 0 -0.828125 L -4.984375 -0.828125 C -5.722656 -0.828125 -6.175781 -0.816406 -6.34375 -0.796875 L -6.34375 -1.796875 C -6.320312 -1.796875 -6.265625 -1.796875 -6.171875 -1.796875 C -6.085938 -1.804688 -5.988281 -1.8125 -5.875 -1.8125 C -5.769531 -1.820312 -5.5625 -1.832031 -5.25 -1.84375 L -5.25 -1.859375 C -5.6875 -2.097656 -5.992188 -2.375 -6.171875 -2.6875 C -6.359375 -3.007812 -6.453125 -3.410156 -6.453125 -3.890625 C -6.453125 -4.578125 -6.28125 -5.082031 -5.9375 -5.40625 C -5.59375 -5.726562 -5.019531 -5.890625 -4.21875 -5.890625 L 0 -5.890625 Z M 0 -4.828125 \"/>\n",
       "</g>\n",
       "<g id=\"glyph-2-6\">\n",
       "<path d=\"M -3.203125 -1.609375 C -2.359375 -1.609375 -1.734375 -1.738281 -1.328125 -2 C -0.921875 -2.269531 -0.71875 -2.675781 -0.71875 -3.21875 C -0.71875 -3.59375 -0.816406 -3.90625 -1.015625 -4.15625 C -1.222656 -4.40625 -1.535156 -4.5625 -1.953125 -4.625 L -1.890625 -5.6875 C -1.273438 -5.601562 -0.785156 -5.34375 -0.421875 -4.90625 C -0.0546875 -4.46875 0.125 -3.910156 0.125 -3.234375 C 0.125 -2.347656 -0.15625 -1.671875 -0.71875 -1.203125 C -1.28125 -0.742188 -2.097656 -0.515625 -3.171875 -0.515625 C -4.242188 -0.515625 -5.054688 -0.75 -5.609375 -1.21875 C -6.171875 -1.6875 -6.453125 -2.359375 -6.453125 -3.234375 C -6.453125 -3.878906 -6.285156 -4.414062 -5.953125 -4.84375 C -5.617188 -5.269531 -5.15625 -5.539062 -4.5625 -5.65625 L -4.484375 -4.5625 C -4.835938 -4.507812 -5.113281 -4.367188 -5.3125 -4.140625 C -5.519531 -3.921875 -5.625 -3.609375 -5.625 -3.203125 C -5.625 -2.640625 -5.4375 -2.234375 -5.0625 -1.984375 C -4.695312 -1.734375 -4.078125 -1.609375 -3.203125 -1.609375 Z M -3.203125 -1.609375 \"/>\n",
       "</g>\n",
       "<g id=\"glyph-2-7\">\n",
       "<path d=\"M 2.484375 -1.125 C 2.484375 -0.832031 2.460938 -0.585938 2.421875 -0.390625 L 1.640625 -0.390625 C 1.660156 -0.535156 1.671875 -0.703125 1.671875 -0.890625 C 1.671875 -1.546875 1.1875 -2.0625 0.21875 -2.4375 L -0.03125 -2.546875 L -6.34375 -0.03125 L -6.34375 -1.15625 L -2.84375 -2.484375 C -2.78125 -2.503906 -2.710938 -2.53125 -2.640625 -2.5625 C -2.566406 -2.59375 -2.3125 -2.679688 -1.875 -2.828125 C -1.4375 -2.972656 -1.195312 -3.050781 -1.15625 -3.0625 L -2.296875 -3.46875 L -6.34375 -4.859375 L -6.34375 -5.984375 L 0 -3.546875 C 0.675781 -3.273438 1.175781 -3.023438 1.5 -2.796875 C 1.832031 -2.578125 2.078125 -2.328125 2.234375 -2.046875 C 2.398438 -1.773438 2.484375 -1.46875 2.484375 -1.125 Z M 2.484375 -1.125 \"/>\n",
       "</g>\n",
       "<g id=\"glyph-2-8\">\n",
       "<path d=\"M -4.125 -6.203125 C -2.75 -6.203125 -1.695312 -5.957031 -0.96875 -5.46875 C -0.238281 -4.988281 0.125 -4.273438 0.125 -3.328125 C 0.125 -2.378906 -0.234375 -1.664062 -0.953125 -1.1875 C -1.679688 -0.707031 -2.738281 -0.46875 -4.125 -0.46875 C -5.550781 -0.46875 -6.613281 -0.695312 -7.3125 -1.15625 C -8.019531 -1.625 -8.375 -2.359375 -8.375 -3.359375 C -8.375 -4.328125 -8.015625 -5.039062 -7.296875 -5.5 C -6.585938 -5.96875 -5.53125 -6.203125 -4.125 -6.203125 Z M -4.125 -5.140625 C -5.320312 -5.140625 -6.1875 -5 -6.71875 -4.71875 C -7.257812 -4.445312 -7.53125 -3.992188 -7.53125 -3.359375 C -7.53125 -2.710938 -7.265625 -2.242188 -6.734375 -1.953125 C -6.203125 -1.671875 -5.332031 -1.53125 -4.125 -1.53125 C -2.957031 -1.53125 -2.101562 -1.671875 -1.5625 -1.953125 C -1.019531 -2.242188 -0.75 -2.703125 -0.75 -3.328125 C -0.75 -3.953125 -1.023438 -4.410156 -1.578125 -4.703125 C -2.128906 -4.992188 -2.976562 -5.140625 -4.125 -5.140625 Z M -4.125 -5.140625 \"/>\n",
       "</g>\n",
       "<g id=\"glyph-2-9\">\n",
       "<path d=\"M 0 -0.921875 L -0.890625 -0.921875 L -0.890625 -3.015625 L -7.25 -3.015625 L -5.921875 -1.15625 L -6.921875 -1.15625 L -8.25 -3.109375 L -8.25 -4.078125 L -0.890625 -4.078125 L -0.890625 -6.09375 L 0 -6.09375 Z M 0 -0.921875 \"/>\n",
       "</g>\n",
       "<g id=\"glyph-2-10\">\n",
       "<path d=\"M 0 -0.609375 L -0.75 -0.609375 C -1.207031 -0.804688 -1.609375 -1.046875 -1.953125 -1.328125 C -2.304688 -1.617188 -2.625 -1.921875 -2.90625 -2.234375 C -3.1875 -2.554688 -3.445312 -2.867188 -3.6875 -3.171875 C -3.9375 -3.484375 -4.179688 -3.765625 -4.421875 -4.015625 C -4.660156 -4.265625 -4.910156 -4.46875 -5.171875 -4.625 C -5.441406 -4.78125 -5.742188 -4.859375 -6.078125 -4.859375 C -6.535156 -4.859375 -6.890625 -4.722656 -7.140625 -4.453125 C -7.390625 -4.191406 -7.515625 -3.828125 -7.515625 -3.359375 C -7.515625 -2.898438 -7.390625 -2.523438 -7.140625 -2.234375 C -6.898438 -1.953125 -6.5625 -1.785156 -6.125 -1.734375 L -6.21875 -0.65625 C -6.875 -0.726562 -7.394531 -1.003906 -7.78125 -1.484375 C -8.175781 -1.972656 -8.375 -2.597656 -8.375 -3.359375 C -8.375 -4.179688 -8.175781 -4.816406 -7.78125 -5.265625 C -7.394531 -5.710938 -6.84375 -5.9375 -6.125 -5.9375 C -5.800781 -5.9375 -5.476562 -5.863281 -5.15625 -5.71875 C -4.84375 -5.570312 -4.523438 -5.351562 -4.203125 -5.0625 C -3.890625 -4.78125 -3.40625 -4.226562 -2.75 -3.40625 C -2.375 -2.957031 -2.039062 -2.597656 -1.75 -2.328125 C -1.457031 -2.066406 -1.171875 -1.878906 -0.890625 -1.765625 L -0.890625 -6.078125 L 0 -6.078125 Z M 0 -0.609375 \"/>\n",
       "</g>\n",
       "<g id=\"glyph-2-11\">\n",
       "<path d=\"M -2.28125 -6.140625 C -1.519531 -6.140625 -0.925781 -5.894531 -0.5 -5.40625 C -0.0820312 -4.925781 0.125 -4.238281 0.125 -3.34375 C 0.125 -2.507812 -0.0625 -1.84375 -0.4375 -1.34375 C -0.820312 -0.84375 -1.382812 -0.546875 -2.125 -0.453125 L -2.21875 -1.546875 C -1.238281 -1.691406 -0.75 -2.289062 -0.75 -3.34375 C -0.75 -3.875 -0.878906 -4.289062 -1.140625 -4.59375 C -1.410156 -4.894531 -1.800781 -5.046875 -2.3125 -5.046875 C -2.757812 -5.046875 -3.109375 -4.875 -3.359375 -4.53125 C -3.617188 -4.1875 -3.75 -3.6875 -3.75 -3.03125 L -3.75 -2.4375 L -4.65625 -2.4375 L -4.65625 -3.015625 C -4.65625 -3.585938 -4.78125 -4.03125 -5.03125 -4.34375 C -5.289062 -4.664062 -5.640625 -4.828125 -6.078125 -4.828125 C -6.523438 -4.828125 -6.875 -4.695312 -7.125 -4.4375 C -7.382812 -4.1875 -7.515625 -3.800781 -7.515625 -3.28125 C -7.515625 -2.820312 -7.394531 -2.445312 -7.15625 -2.15625 C -6.914062 -1.875 -6.578125 -1.707031 -6.140625 -1.65625 L -6.234375 -0.59375 C -6.910156 -0.675781 -7.4375 -0.957031 -7.8125 -1.4375 C -8.1875 -1.914062 -8.375 -2.535156 -8.375 -3.296875 C -8.375 -4.128906 -8.179688 -4.773438 -7.796875 -5.234375 C -7.410156 -5.691406 -6.875 -5.921875 -6.1875 -5.921875 C -5.664062 -5.921875 -5.238281 -5.769531 -4.90625 -5.46875 C -4.570312 -5.175781 -4.347656 -4.75 -4.234375 -4.1875 L -4.21875 -4.1875 C -4.144531 -4.800781 -3.9375 -5.28125 -3.59375 -5.625 C -3.25 -5.96875 -2.8125 -6.140625 -2.28125 -6.140625 Z M -2.28125 -6.140625 \"/>\n",
       "</g>\n",
       "<g id=\"glyph-2-12\">\n",
       "<path d=\"M -1.875 -5.15625 L 0 -5.15625 L 0 -4.171875 L -1.875 -4.171875 L -1.875 -0.28125 L -2.6875 -0.28125 L -8.25 -4.0625 L -8.25 -5.15625 L -2.703125 -5.15625 L -2.703125 -6.328125 L -1.875 -6.328125 Z M -7.0625 -4.171875 C -7.039062 -4.160156 -6.9375 -4.101562 -6.75 -4 C -6.570312 -3.894531 -6.445312 -3.820312 -6.375 -3.78125 L -3.25 -1.65625 L -2.8125 -1.34375 L -2.703125 -1.25 L -2.703125 -4.171875 Z M -7.0625 -4.171875 \"/>\n",
       "</g>\n",
       "</g>\n",
       "</defs>\n",
       "<rect x=\"-50.4\" y=\"-50.4\" width=\"604.8\" height=\"604.8\" fill=\"rgb(100%, 100%, 100%)\" fill-opacity=\"1\"/>\n",
       "<g fill=\"rgb(0%, 0%, 0%)\" fill-opacity=\"1\">\n",
       "<use xlink:href=\"#glyph-0-0\" x=\"204.398438\" y=\"33.554688\"/>\n",
       "<use xlink:href=\"#glyph-0-1\" x=\"214.398438\" y=\"33.554688\"/>\n",
       "<use xlink:href=\"#glyph-0-2\" x=\"218.398438\" y=\"33.554688\"/>\n",
       "<use xlink:href=\"#glyph-0-3\" x=\"226.398438\" y=\"33.554688\"/>\n",
       "<use xlink:href=\"#glyph-0-4\" x=\"231.398438\" y=\"33.554688\"/>\n",
       "<use xlink:href=\"#glyph-0-5\" x=\"240.398438\" y=\"33.554688\"/>\n",
       "<use xlink:href=\"#glyph-0-6\" x=\"249.398438\" y=\"33.554688\"/>\n",
       "<use xlink:href=\"#glyph-0-7\" x=\"255.398438\" y=\"33.554688\"/>\n",
       "<use xlink:href=\"#glyph-0-8\" x=\"263.398438\" y=\"33.554688\"/>\n",
       "<use xlink:href=\"#glyph-0-9\" x=\"276.398438\" y=\"33.554688\"/>\n",
       "<use xlink:href=\"#glyph-0-4\" x=\"280.398438\" y=\"33.554688\"/>\n",
       "<use xlink:href=\"#glyph-0-10\" x=\"289.398438\" y=\"33.554688\"/>\n",
       "<use xlink:href=\"#glyph-0-9\" x=\"294.398438\" y=\"33.554688\"/>\n",
       "<use xlink:href=\"#glyph-0-3\" x=\"298.398438\" y=\"33.554688\"/>\n",
       "<use xlink:href=\"#glyph-0-1\" x=\"303.398438\" y=\"33.554688\"/>\n",
       "<use xlink:href=\"#glyph-0-8\" x=\"307.398438\" y=\"33.554688\"/>\n",
       "<use xlink:href=\"#glyph-0-11\" x=\"320.398438\" y=\"33.554688\"/>\n",
       "</g>\n",
       "<g fill=\"rgb(0%, 0%, 0%)\" fill-opacity=\"1\">\n",
       "<use xlink:href=\"#glyph-1-0\" x=\"254.898438\" y=\"485.144531\"/>\n",
       "<use xlink:href=\"#glyph-1-1\" x=\"257.898438\" y=\"485.144531\"/>\n",
       "<use xlink:href=\"#glyph-1-2\" x=\"260.898438\" y=\"485.144531\"/>\n",
       "<use xlink:href=\"#glyph-1-3\" x=\"270.898438\" y=\"485.144531\"/>\n",
       "</g>\n",
       "<g fill=\"rgb(0%, 0%, 0%)\" fill-opacity=\"1\">\n",
       "<use xlink:href=\"#glyph-2-0\" x=\"12.824219\" y=\"273.800781\"/>\n",
       "<use xlink:href=\"#glyph-2-1\" x=\"12.824219\" y=\"266.800781\"/>\n",
       "<use xlink:href=\"#glyph-2-2\" x=\"12.824219\" y=\"262.800781\"/>\n",
       "<use xlink:href=\"#glyph-2-3\" x=\"12.824219\" y=\"255.800781\"/>\n",
       "<use xlink:href=\"#glyph-2-4\" x=\"12.824219\" y=\"248.800781\"/>\n",
       "<use xlink:href=\"#glyph-2-2\" x=\"12.824219\" y=\"241.800781\"/>\n",
       "<use xlink:href=\"#glyph-2-5\" x=\"12.824219\" y=\"234.800781\"/>\n",
       "<use xlink:href=\"#glyph-2-6\" x=\"12.824219\" y=\"227.800781\"/>\n",
       "<use xlink:href=\"#glyph-2-7\" x=\"12.824219\" y=\"221.800781\"/>\n",
       "</g>\n",
       "<path fill=\"none\" stroke-width=\"0.75\" stroke-linecap=\"round\" stroke-linejoin=\"round\" stroke=\"rgb(0%, 0%, 0%)\" stroke-opacity=\"1\" stroke-miterlimit=\"10\" d=\"M 74.398438 430.558594 L 458.398438 430.558594 \"/>\n",
       "<path fill=\"none\" stroke-width=\"0.75\" stroke-linecap=\"round\" stroke-linejoin=\"round\" stroke=\"rgb(0%, 0%, 0%)\" stroke-opacity=\"1\" stroke-miterlimit=\"10\" d=\"M 74.398438 430.558594 L 74.398438 437.761719 \"/>\n",
       "<path fill=\"none\" stroke-width=\"0.75\" stroke-linecap=\"round\" stroke-linejoin=\"round\" stroke=\"rgb(0%, 0%, 0%)\" stroke-opacity=\"1\" stroke-miterlimit=\"10\" d=\"M 138.398438 430.558594 L 138.398438 437.761719 \"/>\n",
       "<path fill=\"none\" stroke-width=\"0.75\" stroke-linecap=\"round\" stroke-linejoin=\"round\" stroke=\"rgb(0%, 0%, 0%)\" stroke-opacity=\"1\" stroke-miterlimit=\"10\" d=\"M 202.398438 430.558594 L 202.398438 437.761719 \"/>\n",
       "<path fill=\"none\" stroke-width=\"0.75\" stroke-linecap=\"round\" stroke-linejoin=\"round\" stroke=\"rgb(0%, 0%, 0%)\" stroke-opacity=\"1\" stroke-miterlimit=\"10\" d=\"M 266.398438 430.558594 L 266.398438 437.761719 \"/>\n",
       "<path fill=\"none\" stroke-width=\"0.75\" stroke-linecap=\"round\" stroke-linejoin=\"round\" stroke=\"rgb(0%, 0%, 0%)\" stroke-opacity=\"1\" stroke-miterlimit=\"10\" d=\"M 330.398438 430.558594 L 330.398438 437.761719 \"/>\n",
       "<path fill=\"none\" stroke-width=\"0.75\" stroke-linecap=\"round\" stroke-linejoin=\"round\" stroke=\"rgb(0%, 0%, 0%)\" stroke-opacity=\"1\" stroke-miterlimit=\"10\" d=\"M 394.398438 430.558594 L 394.398438 437.761719 \"/>\n",
       "<path fill=\"none\" stroke-width=\"0.75\" stroke-linecap=\"round\" stroke-linejoin=\"round\" stroke=\"rgb(0%, 0%, 0%)\" stroke-opacity=\"1\" stroke-miterlimit=\"10\" d=\"M 458.398438 430.558594 L 458.398438 437.761719 \"/>\n",
       "<g fill=\"rgb(0%, 0%, 0%)\" fill-opacity=\"1\">\n",
       "<use xlink:href=\"#glyph-1-4\" x=\"70.898438\" y=\"456.34375\"/>\n",
       "</g>\n",
       "<g fill=\"rgb(0%, 0%, 0%)\" fill-opacity=\"1\">\n",
       "<use xlink:href=\"#glyph-1-5\" x=\"127.898438\" y=\"456.34375\"/>\n",
       "<use xlink:href=\"#glyph-1-4\" x=\"134.898438\" y=\"456.34375\"/>\n",
       "<use xlink:href=\"#glyph-1-4\" x=\"141.898438\" y=\"456.34375\"/>\n",
       "</g>\n",
       "<g fill=\"rgb(0%, 0%, 0%)\" fill-opacity=\"1\">\n",
       "<use xlink:href=\"#glyph-1-6\" x=\"191.898438\" y=\"456.34375\"/>\n",
       "<use xlink:href=\"#glyph-1-4\" x=\"198.898438\" y=\"456.34375\"/>\n",
       "<use xlink:href=\"#glyph-1-4\" x=\"205.898438\" y=\"456.34375\"/>\n",
       "</g>\n",
       "<g fill=\"rgb(0%, 0%, 0%)\" fill-opacity=\"1\">\n",
       "<use xlink:href=\"#glyph-1-7\" x=\"255.898438\" y=\"456.34375\"/>\n",
       "<use xlink:href=\"#glyph-1-4\" x=\"262.898438\" y=\"456.34375\"/>\n",
       "<use xlink:href=\"#glyph-1-4\" x=\"269.898438\" y=\"456.34375\"/>\n",
       "</g>\n",
       "<g fill=\"rgb(0%, 0%, 0%)\" fill-opacity=\"1\">\n",
       "<use xlink:href=\"#glyph-1-8\" x=\"319.898438\" y=\"456.34375\"/>\n",
       "<use xlink:href=\"#glyph-1-4\" x=\"326.898438\" y=\"456.34375\"/>\n",
       "<use xlink:href=\"#glyph-1-4\" x=\"333.898438\" y=\"456.34375\"/>\n",
       "</g>\n",
       "<g fill=\"rgb(0%, 0%, 0%)\" fill-opacity=\"1\">\n",
       "<use xlink:href=\"#glyph-1-9\" x=\"383.898438\" y=\"456.34375\"/>\n",
       "<use xlink:href=\"#glyph-1-4\" x=\"390.898438\" y=\"456.34375\"/>\n",
       "<use xlink:href=\"#glyph-1-4\" x=\"397.898438\" y=\"456.34375\"/>\n",
       "</g>\n",
       "<g fill=\"rgb(0%, 0%, 0%)\" fill-opacity=\"1\">\n",
       "<use xlink:href=\"#glyph-1-10\" x=\"447.898438\" y=\"456.34375\"/>\n",
       "<use xlink:href=\"#glyph-1-4\" x=\"454.898438\" y=\"456.34375\"/>\n",
       "<use xlink:href=\"#glyph-1-4\" x=\"461.898438\" y=\"456.34375\"/>\n",
       "</g>\n",
       "<path fill=\"none\" stroke-width=\"0.75\" stroke-linecap=\"round\" stroke-linejoin=\"round\" stroke=\"rgb(0%, 0%, 0%)\" stroke-opacity=\"1\" stroke-miterlimit=\"10\" d=\"M 59.039062 416.800781 L 59.039062 81.191406 \"/>\n",
       "<path fill=\"none\" stroke-width=\"0.75\" stroke-linecap=\"round\" stroke-linejoin=\"round\" stroke=\"rgb(0%, 0%, 0%)\" stroke-opacity=\"1\" stroke-miterlimit=\"10\" d=\"M 59.039062 416.800781 L 51.839844 416.800781 \"/>\n",
       "<path fill=\"none\" stroke-width=\"0.75\" stroke-linecap=\"round\" stroke-linejoin=\"round\" stroke=\"rgb(0%, 0%, 0%)\" stroke-opacity=\"1\" stroke-miterlimit=\"10\" d=\"M 59.039062 332.898438 L 51.839844 332.898438 \"/>\n",
       "<path fill=\"none\" stroke-width=\"0.75\" stroke-linecap=\"round\" stroke-linejoin=\"round\" stroke=\"rgb(0%, 0%, 0%)\" stroke-opacity=\"1\" stroke-miterlimit=\"10\" d=\"M 59.039062 248.996094 L 51.839844 248.996094 \"/>\n",
       "<path fill=\"none\" stroke-width=\"0.75\" stroke-linecap=\"round\" stroke-linejoin=\"round\" stroke=\"rgb(0%, 0%, 0%)\" stroke-opacity=\"1\" stroke-miterlimit=\"10\" d=\"M 59.039062 165.09375 L 51.839844 165.09375 \"/>\n",
       "<path fill=\"none\" stroke-width=\"0.75\" stroke-linecap=\"round\" stroke-linejoin=\"round\" stroke=\"rgb(0%, 0%, 0%)\" stroke-opacity=\"1\" stroke-miterlimit=\"10\" d=\"M 59.039062 81.191406 L 51.839844 81.191406 \"/>\n",
       "<g fill=\"rgb(0%, 0%, 0%)\" fill-opacity=\"1\">\n",
       "<use xlink:href=\"#glyph-2-8\" x=\"41.625\" y=\"420.300781\"/>\n",
       "</g>\n",
       "<g fill=\"rgb(0%, 0%, 0%)\" fill-opacity=\"1\">\n",
       "<use xlink:href=\"#glyph-2-9\" x=\"41.625\" y=\"339.898438\"/>\n",
       "<use xlink:href=\"#glyph-2-8\" x=\"41.625\" y=\"332.898438\"/>\n",
       "</g>\n",
       "<g fill=\"rgb(0%, 0%, 0%)\" fill-opacity=\"1\">\n",
       "<use xlink:href=\"#glyph-2-10\" x=\"41.625\" y=\"255.996094\"/>\n",
       "<use xlink:href=\"#glyph-2-8\" x=\"41.625\" y=\"248.996094\"/>\n",
       "</g>\n",
       "<g fill=\"rgb(0%, 0%, 0%)\" fill-opacity=\"1\">\n",
       "<use xlink:href=\"#glyph-2-11\" x=\"41.625\" y=\"172.09375\"/>\n",
       "<use xlink:href=\"#glyph-2-8\" x=\"41.625\" y=\"165.09375\"/>\n",
       "</g>\n",
       "<g fill=\"rgb(0%, 0%, 0%)\" fill-opacity=\"1\">\n",
       "<use xlink:href=\"#glyph-2-12\" x=\"41.625\" y=\"88.191406\"/>\n",
       "<use xlink:href=\"#glyph-2-8\" x=\"41.625\" y=\"81.191406\"/>\n",
       "</g>\n",
       "<path fill-rule=\"nonzero\" fill=\"rgb(82.745098%, 82.745098%, 82.745098%)\" fill-opacity=\"1\" stroke-width=\"0.75\" stroke-linecap=\"round\" stroke-linejoin=\"round\" stroke=\"rgb(0%, 0%, 0%)\" stroke-opacity=\"1\" stroke-miterlimit=\"10\" d=\"M 74.398438 416.800781 L 106.398438 416.800781 L 106.398438 72.800781 L 74.398438 72.800781 Z M 74.398438 416.800781 \"/>\n",
       "<path fill-rule=\"nonzero\" fill=\"rgb(82.745098%, 82.745098%, 82.745098%)\" fill-opacity=\"1\" stroke-width=\"0.75\" stroke-linecap=\"round\" stroke-linejoin=\"round\" stroke=\"rgb(0%, 0%, 0%)\" stroke-opacity=\"1\" stroke-miterlimit=\"10\" d=\"M 106.398438 416.800781 L 138.398438 416.800781 L 138.398438 349.679688 L 106.398438 349.679688 Z M 106.398438 416.800781 \"/>\n",
       "<path fill-rule=\"nonzero\" fill=\"rgb(82.745098%, 82.745098%, 82.745098%)\" fill-opacity=\"1\" stroke-width=\"0.75\" stroke-linecap=\"round\" stroke-linejoin=\"round\" stroke=\"rgb(0%, 0%, 0%)\" stroke-opacity=\"1\" stroke-miterlimit=\"10\" d=\"M 138.398438 416.800781 L 170.398438 416.800781 L 170.398438 349.679688 L 138.398438 349.679688 Z M 138.398438 416.800781 \"/>\n",
       "<path fill-rule=\"nonzero\" fill=\"rgb(82.745098%, 82.745098%, 82.745098%)\" fill-opacity=\"1\" stroke-width=\"0.75\" stroke-linecap=\"round\" stroke-linejoin=\"round\" stroke=\"rgb(0%, 0%, 0%)\" stroke-opacity=\"1\" stroke-miterlimit=\"10\" d=\"M 170.398438 416.800781 L 202.398438 416.800781 L 202.398438 341.289062 L 170.398438 341.289062 Z M 170.398438 416.800781 \"/>\n",
       "<path fill-rule=\"nonzero\" fill=\"rgb(82.745098%, 82.745098%, 82.745098%)\" fill-opacity=\"1\" stroke-width=\"0.75\" stroke-linecap=\"round\" stroke-linejoin=\"round\" stroke=\"rgb(0%, 0%, 0%)\" stroke-opacity=\"1\" stroke-miterlimit=\"10\" d=\"M 202.398438 416.800781 L 234.398438 416.800781 L 234.398438 400.019531 L 202.398438 400.019531 Z M 202.398438 416.800781 \"/>\n",
       "<path fill-rule=\"nonzero\" fill=\"rgb(82.745098%, 82.745098%, 82.745098%)\" fill-opacity=\"1\" stroke-width=\"0.75\" stroke-linecap=\"round\" stroke-linejoin=\"round\" stroke=\"rgb(0%, 0%, 0%)\" stroke-opacity=\"1\" stroke-miterlimit=\"10\" d=\"M 234.398438 416.800781 L 266.398438 416.800781 L 266.398438 408.410156 L 234.398438 408.410156 Z M 234.398438 416.800781 \"/>\n",
       "<path fill-rule=\"nonzero\" fill=\"rgb(82.745098%, 82.745098%, 82.745098%)\" fill-opacity=\"1\" stroke-width=\"0.75\" stroke-linecap=\"round\" stroke-linejoin=\"round\" stroke=\"rgb(0%, 0%, 0%)\" stroke-opacity=\"1\" stroke-miterlimit=\"10\" d=\"M 266.398438 416.800781 L 298.398438 416.800781 L 298.398438 400.019531 L 266.398438 400.019531 Z M 266.398438 416.800781 \"/>\n",
       "<path fill=\"none\" stroke-width=\"0.75\" stroke-linecap=\"round\" stroke-linejoin=\"round\" stroke=\"rgb(0%, 0%, 0%)\" stroke-opacity=\"1\" stroke-miterlimit=\"10\" d=\"M 298.398438 416.800781 L 330.398438 416.800781 Z M 298.398438 416.800781 \"/>\n",
       "<path fill-rule=\"nonzero\" fill=\"rgb(82.745098%, 82.745098%, 82.745098%)\" fill-opacity=\"1\" stroke-width=\"0.75\" stroke-linecap=\"round\" stroke-linejoin=\"round\" stroke=\"rgb(0%, 0%, 0%)\" stroke-opacity=\"1\" stroke-miterlimit=\"10\" d=\"M 330.398438 416.800781 L 362.398438 416.800781 L 362.398438 400.019531 L 330.398438 400.019531 Z M 330.398438 416.800781 \"/>\n",
       "<path fill=\"none\" stroke-width=\"0.75\" stroke-linecap=\"round\" stroke-linejoin=\"round\" stroke=\"rgb(0%, 0%, 0%)\" stroke-opacity=\"1\" stroke-miterlimit=\"10\" d=\"M 362.398438 416.800781 L 394.398438 416.800781 Z M 362.398438 416.800781 \"/>\n",
       "<path fill-rule=\"nonzero\" fill=\"rgb(82.745098%, 82.745098%, 82.745098%)\" fill-opacity=\"1\" stroke-width=\"0.75\" stroke-linecap=\"round\" stroke-linejoin=\"round\" stroke=\"rgb(0%, 0%, 0%)\" stroke-opacity=\"1\" stroke-miterlimit=\"10\" d=\"M 394.398438 416.800781 L 426.398438 416.800781 L 426.398438 400.019531 L 394.398438 400.019531 Z M 394.398438 416.800781 \"/>\n",
       "<path fill-rule=\"nonzero\" fill=\"rgb(82.745098%, 82.745098%, 82.745098%)\" fill-opacity=\"1\" stroke-width=\"0.75\" stroke-linecap=\"round\" stroke-linejoin=\"round\" stroke=\"rgb(0%, 0%, 0%)\" stroke-opacity=\"1\" stroke-miterlimit=\"10\" d=\"M 426.398438 416.800781 L 458.398438 416.800781 L 458.398438 408.410156 L 426.398438 408.410156 Z M 426.398438 416.800781 \"/>\n",
       "</svg>\n"
      ],
      "text/plain": [
       "Plot with title “Histogram of time”"
      ]
     },
     "metadata": {
      "application/pdf": {
       "height": 420,
       "width": 420
      },
      "image/jpeg": {
       "height": 420,
       "width": 420
      },
      "image/png": {
       "height": 420,
       "width": 420
      },
      "image/svg+xml": {
       "height": 420,
       "isolated": true,
       "width": 420
      }
     },
     "output_type": "display_data"
    }
   ],
   "source": [
    "with(kidney, hist(time))"
   ]
  },
  {
   "cell_type": "raw",
   "id": "14d93d5d-6237-4097-9929-0a1f4b19e31a",
   "metadata": {},
   "source": [
    "Como podemos ver, R nos permite visualizar datos de un modo muy sencillo. Aquí mostramos gráficos de tipo plot (diagrama de puntos) e hist (histograma), pero existen muchos otros.\n",
    "\n",
    "También hay que tener en cuenta que aunque aquí hemos usado el sistema básico de gráficos de R, hay otras dos librerías más avanzadas, llamadas lattice y ggplot2, las cuales permiten crear visualizaciones más avanzadas, detalladas y coloridas."
   ]
  },
  {
   "cell_type": "code",
   "execution_count": null,
   "id": "b1724f67-42de-4751-9eca-3a8de7d4c507",
   "metadata": {},
   "outputs": [],
   "source": []
  }
 ],
 "metadata": {
  "kernelspec": {
   "display_name": "R",
   "language": "R",
   "name": "ir"
  },
  "language_info": {
   "codemirror_mode": "r",
   "file_extension": ".r",
   "mimetype": "text/x-r-source",
   "name": "R",
   "pygments_lexer": "r",
   "version": "4.3.3"
  }
 },
 "nbformat": 4,
 "nbformat_minor": 5
}
